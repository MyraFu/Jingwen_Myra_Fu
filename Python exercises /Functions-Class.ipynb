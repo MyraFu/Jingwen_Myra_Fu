{
 "cells": [
  {
   "cell_type": "markdown",
   "id": "6944d420",
   "metadata": {},
   "source": [
    "Functions II - CLASS"
   ]
  },
  {
   "cell_type": "markdown",
   "id": "dd3bfa45",
   "metadata": {},
   "source": [
    "Jingwen Fu\n",
    "jf3483@columbia.edu"
   ]
  },
  {
   "cell_type": "markdown",
   "id": "dc022a0b",
   "metadata": {},
   "source": [
    "### 1. Book class"
   ]
  },
  {
   "cell_type": "markdown",
   "id": "e0fb42c1",
   "metadata": {},
   "source": [
    "a) Create `Book` class\\\n",
    "Create a class called `Book`. Initialize it with a\n",
    "- `title` (string)\n",
    "- `author` (string)\n",
    "- `genre` (string)\n",
    "- `grade_level` (integer)\n",
    "- `pages` (integer)"
   ]
  },
  {
   "cell_type": "code",
   "execution_count": 1,
   "id": "07bf223c",
   "metadata": {},
   "outputs": [],
   "source": [
    "class Book():\n",
    "    def __init__(self, tt=\"\", at=\"\", gn=\"\", gl=0, pg=0):\n",
    "        self.title = tt\n",
    "        self.author = at\n",
    "        self.genre = gn\n",
    "        self.grade_level = gl\n",
    "        self.pages = pg"
   ]
  },
  {
   "cell_type": "markdown",
   "id": "22967464",
   "metadata": {},
   "source": [
    "b) Add `str` method to the `Book` class\\\n",
    "Add a method to `Book` that returns a string with the following format:\\\n",
    "    \"The book <title> by <author> is a <genre> book for <grade_level> grade.\""
   ]
  },
  {
   "cell_type": "code",
   "execution_count": 2,
   "id": "13c2d59f",
   "metadata": {},
   "outputs": [],
   "source": [
    "class Book():\n",
    "    def __init__(self, tt=\"\", at=\"\", gn=\"\", gl=0, pg=0):\n",
    "        self.title = tt\n",
    "        self.author = at\n",
    "        self.genre = gn\n",
    "        self.grade_level = gl\n",
    "        self.pages = pg\n",
    "    def __str__(self):    #print\n",
    "        return \"The book <\" + self.title + \"> by \" + self.author + \" is a \" + self.genre + \" book for \" + str(self.grade_level) + \" grade.\"\n"
   ]
  },
  {
   "cell_type": "markdown",
   "id": "f5268865",
   "metadata": {},
   "source": [
    "### a+b"
   ]
  },
  {
   "cell_type": "code",
   "execution_count": 3,
   "id": "1a47acad",
   "metadata": {},
   "outputs": [],
   "source": [
    "class Book():\n",
    "\n",
    "    def __init__(self, tt, at, gn, gl, pg):\n",
    "        self.title = tt\n",
    "        self.author = at\n",
    "        self.genre = gn\n",
    "        self.grade_level = gl\n",
    "        self.pages = pg\n",
    "\n",
    "    def __str__(self):\n",
    "        return \"The book \" + self.title + \" by \" + self.author + \"is a \" + self.genre + \" book for \" + str(self.grade_level) + \" grade.\""
   ]
  },
  {
   "cell_type": "markdown",
   "id": "424be246",
   "metadata": {},
   "source": [
    "c) Create `Book` objects\\\n",
    "Use an iterative process to initialize 10 `Book` objects with the information from the following Python list:"
   ]
  },
  {
   "cell_type": "code",
   "execution_count": 4,
   "id": "45279a31",
   "metadata": {},
   "outputs": [],
   "source": [
    "books = [\n",
    "    {\n",
    "        \"title\": \"The Hunger Games\",\n",
    "        \"author\": \"Suzanne Collins\",\n",
    "        \"genre\": \"Science Fiction\",\n",
    "        \"grade_level\": 7,\n",
    "        \"pages\": 374\n",
    "    },                                              # dictory \n",
    "    {\n",
    "        \"title\": \"Harry Potter and the Sorcerer's Stone\",\n",
    "        \"author\": \"J.K. Rowling\",\n",
    "        \"genre\": \"Fantasy\",\n",
    "        \"grade_level\": 5,\n",
    "        \"pages\": 309\n",
    "    },\n",
    "    {\n",
    "        \"title\": \"To Kill a Mockingbird\",\n",
    "        \"author\": \"Harper Lee\",\n",
    "        \"genre\": \"Historical Fiction\",\n",
    "        \"grade_level\": 8,\n",
    "        \"pages\": 281\n",
    "    },\n",
    "    {\n",
    "        \"title\": \"Pride and Prejudice\",\n",
    "        \"author\": \"Jane Austen\",\n",
    "        \"genre\": \"Historical Fiction\",\n",
    "        \"grade_level\": 8,\n",
    "        \"pages\": 279\n",
    "    },\n",
    "    {\n",
    "        \"title\": \"Twilight\",\n",
    "        \"author\": \"Stephenie Meyer\",\n",
    "        \"genre\": \"Fantasy\",\n",
    "        \"grade_level\": 9,\n",
    "        \"pages\": 501\n",
    "    },\n",
    "    {\n",
    "        \"title\": \"The Great Gatsby\",\n",
    "        \"author\": \"F. Scott Fitzgerald\",\n",
    "        \"genre\": \"Historical Fiction\",\n",
    "        \"grade_level\": 10,\n",
    "        \"pages\": 180\n",
    "    },\n",
    "    {\n",
    "        \"title\": \"The Fault in Our Stars\",\n",
    "        \"author\": \"John Green\",\n",
    "        \"genre\": \"Science Fiction\",\n",
    "        \"grade_level\": 9,\n",
    "        \"pages\": 313\n",
    "    },\n",
    "    {\n",
    "        \"title\": \"The Book Thief\",\n",
    "        \"author\": \"Markus Zusak\",\n",
    "        \"genre\": \"Historical Fiction\",\n",
    "        \"grade_level\": 8,\n",
    "        \"pages\": 552\n",
    "    },\n",
    "    {\n",
    "        \"title\": \"The Hobbit\",\n",
    "        \"author\": \"J.R.R. Tolkien\",\n",
    "        \"genre\": \"Fantasy\",\n",
    "        \"grade_level\": 7,\n",
    "        \"pages\": 310\n",
    "    },\n",
    "    {\n",
    "        \"title\": \"The Catcher in the Rye\",\n",
    "        \"author\": \"J.D. Salinger\",\n",
    "        \"genre\": \"Historical Fiction\",\n",
    "        \"grade_level\": 10,\n",
    "        \"pages\": 277\n",
    "    }\n",
    "]"
   ]
  },
  {
   "cell_type": "code",
   "execution_count": 5,
   "id": "be8913ce",
   "metadata": {},
   "outputs": [],
   "source": [
    "bks = []\n",
    "for i in books:\n",
    "    temp = Book(i[\"title\"], i[\"author\"], i[\"genre\"], i[\"grade_level\"], i[\"pages\"])\n",
    "    bks.append(temp)\n",
    "#or the other way to do is: bks = [Book(i[i[\"title\"], i[\"author\"], i[\"genre\"], i[\"grade_level\"], i[\"pages\"]])] \n",
    "#or: bks = [Book(i[\"title\"], i[\"author\"], i[\"genre\"], i[\"grade_level\"], i[\"pages\"]) for i in books]"
   ]
  },
  {
   "cell_type": "code",
   "execution_count": 6,
   "id": "af5fcf92",
   "metadata": {},
   "outputs": [],
   "source": [
    "# book_lst = []\n",
    "# for b in books:\n",
    "#     param_lst = [v for v in b.values()]\n",
    "#     book_lst.append(Book(param_lst[0], param_lst[1], param_lst[2], param_lst[3],param_lst[4]))\n",
    "\n",
    "\n",
    "# for b in book_lst:\n",
    "#     print(b)"
   ]
  },
  {
   "cell_type": "markdown",
   "id": "41d2ce73",
   "metadata": {},
   "source": [
    "d) Print `Book` objects\\\n",
    "Print the string representation of two `Book` objects."
   ]
  },
  {
   "cell_type": "code",
   "execution_count": 7,
   "id": "a2658d79",
   "metadata": {},
   "outputs": [
    {
     "name": "stdout",
     "output_type": "stream",
     "text": [
      "The book The Hunger Games by Suzanne Collinsis a Science Fiction book for 7 grade.\n",
      "The book Harry Potter and the Sorcerer's Stone by J.K. Rowlingis a Fantasy book for 5 grade.\n"
     ]
    }
   ],
   "source": [
    "print(bks[0])\n",
    "print(bks[1])"
   ]
  },
  {
   "cell_type": "markdown",
   "id": "2b098377",
   "metadata": {},
   "source": [
    "### 2. Library class"
   ]
  },
  {
   "cell_type": "markdown",
   "id": "6603db0a",
   "metadata": {},
   "source": [
    "a) Create `Library` class\\\n",
    "Create a class called `Library`."
   ]
  },
  {
   "cell_type": "code",
   "execution_count": 8,
   "id": "4a56ceeb",
   "metadata": {},
   "outputs": [],
   "source": [
    "class Library():\n",
    "    def __init__(self, book_list):\n",
    "        self.lib = book_list"
   ]
  },
  {
   "cell_type": "markdown",
   "id": "a44a1453",
   "metadata": {},
   "source": [
    "b) Add a print method to the `Library` class\\\n",
    "Add a method to `Library` that prints the string representation of all the books in the library."
   ]
  },
  {
   "cell_type": "code",
   "execution_count": 9,
   "id": "aafa6a96",
   "metadata": {},
   "outputs": [],
   "source": [
    "class Library():\n",
    "    def __init__(self, book_list):\n",
    "        self.lib = book_list\n",
    "    def get_print(self):\n",
    "        for book in self.lib:\n",
    "            print(book)"
   ]
  },
  {
   "cell_type": "code",
   "execution_count": 10,
   "id": "5010a2c9",
   "metadata": {},
   "outputs": [],
   "source": [
    "the_library = Library(bks)"
   ]
  },
  {
   "cell_type": "code",
   "execution_count": 11,
   "id": "0b18da12",
   "metadata": {},
   "outputs": [
    {
     "name": "stdout",
     "output_type": "stream",
     "text": [
      "The book The Hunger Games by Suzanne Collinsis a Science Fiction book for 7 grade.\n",
      "The book Harry Potter and the Sorcerer's Stone by J.K. Rowlingis a Fantasy book for 5 grade.\n",
      "The book To Kill a Mockingbird by Harper Leeis a Historical Fiction book for 8 grade.\n",
      "The book Pride and Prejudice by Jane Austenis a Historical Fiction book for 8 grade.\n",
      "The book Twilight by Stephenie Meyeris a Fantasy book for 9 grade.\n",
      "The book The Great Gatsby by F. Scott Fitzgeraldis a Historical Fiction book for 10 grade.\n",
      "The book The Fault in Our Stars by John Greenis a Science Fiction book for 9 grade.\n",
      "The book The Book Thief by Markus Zusakis a Historical Fiction book for 8 grade.\n",
      "The book The Hobbit by J.R.R. Tolkienis a Fantasy book for 7 grade.\n",
      "The book The Catcher in the Rye by J.D. Salingeris a Historical Fiction book for 10 grade.\n"
     ]
    }
   ],
   "source": [
    "the_library.get_print()"
   ]
  },
  {
   "cell_type": "markdown",
   "id": "f4382f5f",
   "metadata": {},
   "source": [
    "c) Select books of specific genre\\\n",
    "Add a method to `Library` called `genre_books` that returns a list of books that are in a given genre. The method should take a string as an argument and return a list of `Book` objects. Initialize it with the ten `Book` objects from above. Call the method for the genre `\"Historical Fiction\"` and print the results."
   ]
  },
  {
   "cell_type": "code",
   "execution_count": 12,
   "id": "61603a2b",
   "metadata": {},
   "outputs": [],
   "source": [
    "class Library():\n",
    "    def __init__(self,book_list):\n",
    "        self.lib = book_list\n",
    "    def get_print(self):\n",
    "        for book in self.lib:\n",
    "            print(str(book))\n",
    "    def genre_books(self, gn):\n",
    "        gen = []\n",
    "        for genre_book in self.lib:\n",
    "            if gn in genre_book.genre:\n",
    "                gen.append(genre_book)\n",
    "        return gen"
   ]
  },
  {
   "cell_type": "code",
   "execution_count": 13,
   "id": "90ce857f",
   "metadata": {},
   "outputs": [],
   "source": [
    "the_library = Library(bks)"
   ]
  },
  {
   "cell_type": "code",
   "execution_count": 14,
   "id": "5c8967ba",
   "metadata": {},
   "outputs": [
    {
     "name": "stdout",
     "output_type": "stream",
     "text": [
      "To Kill a Mockingbird\n",
      "Pride and Prejudice\n",
      "The Great Gatsby\n",
      "The Book Thief\n",
      "The Catcher in the Rye\n"
     ]
    }
   ],
   "source": [
    "# this is only contain the title\n",
    "genre_title = the_library.genre_books(\"Historical Fiction\")\n",
    "\n",
    "for bk in genre_title:\n",
    "    print(bk.title)\n",
    "# for a in genre_title:\n",
    "#     print(a)\n",
    "# genre_title"
   ]
  },
  {
   "cell_type": "code",
   "execution_count": 15,
   "id": "df4ae1b5",
   "metadata": {},
   "outputs": [
    {
     "name": "stdout",
     "output_type": "stream",
     "text": [
      "The book To Kill a Mockingbird by Harper Leeis a Historical Fiction book for 8 grade.\n",
      "The book Pride and Prejudice by Jane Austenis a Historical Fiction book for 8 grade.\n",
      "The book The Great Gatsby by F. Scott Fitzgeraldis a Historical Fiction book for 10 grade.\n",
      "The book The Book Thief by Markus Zusakis a Historical Fiction book for 8 grade.\n",
      "The book The Catcher in the Rye by J.D. Salingeris a Historical Fiction book for 10 grade.\n"
     ]
    }
   ],
   "source": [
    "#this contains all\n",
    "genre_title = the_library.genre_books(\"Historical Fiction\")\n",
    "\n",
    "for bk in genre_title:\n",
    "    print(bk)"
   ]
  },
  {
   "cell_type": "code",
   "execution_count": 16,
   "id": "a34c6a2d",
   "metadata": {},
   "outputs": [],
   "source": [
    "# the_library = Library(bks)\n",
    "# for i in books:\n",
    "#     the_library(Book(i[\"title\"], i[\"author\"], i[\"genre\"], i[\"grade_level\"], i[\"pages\"]))\n",
    "\n",
    "# the_library.genre_books(\"Historical Fiction\")"
   ]
  },
  {
   "cell_type": "markdown",
   "id": "056f2467",
   "metadata": {},
   "source": [
    "d) Select books fitting grade levels\\\n",
    "Add a method to `Library` called `grade_books` that returns a list of books that are in a given grade level selection. The method should take a list of integers (of grade levels) as an argument and return a list of `Book` objects. Initialize it with the ten `Book` objects from above. Call the method with a list of two grade levels and print the list of books.\n"
   ]
  },
  {
   "cell_type": "code",
   "execution_count": 17,
   "id": "459b3f01",
   "metadata": {},
   "outputs": [],
   "source": [
    "class Library():\n",
    "    def __init__(self,book_list):\n",
    "        self.lib = book_list\n",
    "    def get_print(self):\n",
    "        for book in self.lib:\n",
    "            print(book)\n",
    "    def genre_books(self, gn):\n",
    "        gen = []\n",
    "        for genre_book in self.lib:\n",
    "            if gn in genre_book.genre:\n",
    "                gen.append(genre_book)\n",
    "#         for b in gen:\n",
    "#             print(b)\n",
    "        return gen\n",
    "    def grade_books(self, gl=list):\n",
    "        grd = []\n",
    "        for grade_books in self.lib:\n",
    "            if grade_books.grade_level in gl:\n",
    "                grd.append(grade_books)\n",
    "#         for gb in grd:\n",
    "#             print(gb)\n",
    "        return grd"
   ]
  },
  {
   "cell_type": "code",
   "execution_count": 18,
   "id": "78bcceb4",
   "metadata": {},
   "outputs": [],
   "source": [
    "the_library = Library(bks)\n",
    "# for i in books:\n",
    "#     the_library(Book(i[\"title\"], i[\"author\"], i[\"genre\"], i[\"grade_level\"], i[\"pages\"]))"
   ]
  },
  {
   "cell_type": "code",
   "execution_count": 19,
   "id": "23ded3d6",
   "metadata": {},
   "outputs": [
    {
     "name": "stdout",
     "output_type": "stream",
     "text": [
      "Twilight\n",
      "The Great Gatsby\n",
      "The Fault in Our Stars\n",
      "The Catcher in the Rye\n"
     ]
    }
   ],
   "source": [
    "# this is only contain the title\n",
    "a = the_library.grade_books([9,10])\n",
    "for bk in a:\n",
    "    print(bk.title)\n"
   ]
  },
  {
   "cell_type": "code",
   "execution_count": 20,
   "id": "06831bcc",
   "metadata": {},
   "outputs": [
    {
     "name": "stdout",
     "output_type": "stream",
     "text": [
      "The book Twilight by Stephenie Meyeris a Fantasy book for 9 grade.\n",
      "The book The Great Gatsby by F. Scott Fitzgeraldis a Historical Fiction book for 10 grade.\n",
      "The book The Fault in Our Stars by John Greenis a Science Fiction book for 9 grade.\n",
      "The book The Catcher in the Rye by J.D. Salingeris a Historical Fiction book for 10 grade.\n"
     ]
    }
   ],
   "source": [
    "#this contains all\n",
    "a = the_library.grade_books([9,10])\n",
    "for bk in a:\n",
    "    print(bk)"
   ]
  },
  {
   "cell_type": "markdown",
   "id": "a45edca0",
   "metadata": {},
   "source": [
    "e) Combining methods\\\n",
    "Add a method to `Library` called `recommend_books` that returns a list of books. The method should have three optional arguments to narrow the list of books returned:\n",
    "- the `genre` of the books (string)\n",
    "- the `grade_level` of the books (list of integers)\n",
    "- the maximum number of pages (`max_pages`) in each book. \n",
    "\n",
    "If more than one optional argument is provided, the method should return a list of `Book` objects that are in the given grade level selection, genre, and have at most the number of pages (per book) specified by the `max_pages` argument.\\\n",
    "Call the method with the list of grade levels `8,9,10`, no genre restriction, and `max_pages=300` and print the results."
   ]
  },
  {
   "cell_type": "code",
   "execution_count": 21,
   "id": "f6fda7d5",
   "metadata": {},
   "outputs": [],
   "source": [
    "class Library():\n",
    "    def __init__(self,book_list):\n",
    "        self.lib = book_list \n",
    "    def get_print(self):\n",
    "        for book in self.lib:\n",
    "            print(book)\n",
    "    def genre_books(self, gn):\n",
    "        gen = []\n",
    "        for genre_book in self.lib:\n",
    "            if gn in genre_book.genre:\n",
    "                gen.append(genre_book)\n",
    "#         for b in gen:\n",
    "#             print(b)\n",
    "        return gen\n",
    "    def grade_books(self, gl=list):\n",
    "        grd = []\n",
    "        for grade_books in self.lib:\n",
    "            if grade_books.grade_level in gl:\n",
    "                grd.append(grade_books)\n",
    "#         for gb in grd:\n",
    "#             print(gb)\n",
    "        return grd\n",
    "    def recommend_books(self, genre=None, grade_level=None, max_pages=None):\n",
    "        rb = []\n",
    "#         print(genre)\n",
    "#         print(grade_level)\n",
    "#         print(max_pages)\n",
    "        if genre is not None and grade_level is not None:\n",
    "            gen = self.genre_books(genre)\n",
    "            grd = self.grade_books(grade_level)\n",
    "#             print(gen)\n",
    "#             print(grd)\n",
    "            rb = [i for i in gen if i in grd]\n",
    "            return rb\n",
    "        elif genre is not None and max_pages is not None:\n",
    "            rb = []\n",
    "            gen = self.genre_books(genre)\n",
    "            for genrebook in gen:\n",
    "                if genrebook.pages <= max_pages:\n",
    "                    rb.append(genrebook)\n",
    "#                     print(str(genrebook.pages))\n",
    "                    return rb   \n",
    "        elif grade_level is not None and max_pages is not None:\n",
    "            rb = []\n",
    "            grd = self.grade_books(grade_level)\n",
    "            for gradebook in grd:\n",
    "#                 print(gradebook)\n",
    "                if gradebook.pages <= max_pages:\n",
    "#                     print(str(genrebook.pages))\n",
    "#                     print(gradebook)\n",
    "                    rb.append(gradebook)\n",
    "            return rb"
   ]
  },
  {
   "cell_type": "code",
   "execution_count": 22,
   "id": "30dd594c",
   "metadata": {},
   "outputs": [],
   "source": [
    "the_library = Library(bks)"
   ]
  },
  {
   "cell_type": "code",
   "execution_count": 23,
   "id": "617959e5",
   "metadata": {},
   "outputs": [
    {
     "name": "stdout",
     "output_type": "stream",
     "text": [
      "To Kill a Mockingbird\n",
      "Pride and Prejudice\n",
      "The Great Gatsby\n",
      "The Catcher in the Rye\n"
     ]
    }
   ],
   "source": [
    "#this contains only title\n",
    "rec = the_library.recommend_books(grade_level = [8, 9, 10], max_pages = 300)\n",
    "for bk in rec:\n",
    "    print(bk.title)\n",
    "# rec"
   ]
  },
  {
   "cell_type": "code",
   "execution_count": 24,
   "id": "7397c163",
   "metadata": {},
   "outputs": [
    {
     "name": "stdout",
     "output_type": "stream",
     "text": [
      "The book To Kill a Mockingbird by Harper Leeis a Historical Fiction book for 8 grade.\n",
      "The book Pride and Prejudice by Jane Austenis a Historical Fiction book for 8 grade.\n",
      "The book The Great Gatsby by F. Scott Fitzgeraldis a Historical Fiction book for 10 grade.\n",
      "The book The Catcher in the Rye by J.D. Salingeris a Historical Fiction book for 10 grade.\n"
     ]
    }
   ],
   "source": [
    "#this contains all\n",
    "rec = the_library.recommend_books(grade_level = [8, 9, 10], max_pages = 300)\n",
    "for bk in rec:\n",
    "    print(bk)"
   ]
  },
  {
   "cell_type": "markdown",
   "id": "5d170438",
   "metadata": {},
   "source": [
    "\n",
    "# OR"
   ]
  },
  {
   "cell_type": "code",
   "execution_count": 25,
   "id": "f3d6891e",
   "metadata": {},
   "outputs": [],
   "source": [
    "book_lst = []\n",
    "\n",
    "for b in books:\n",
    "  \n",
    "  param_lst = [v for v in b.values()]\n",
    "  \n",
    "  book_lst.append(Book(param_lst[0], param_lst[1], param_lst[2], param_lst[3],param_lst[4]))"
   ]
  },
  {
   "cell_type": "code",
   "execution_count": 26,
   "id": "ffa72011",
   "metadata": {},
   "outputs": [
    {
     "name": "stdout",
     "output_type": "stream",
     "text": [
      "The book The Hunger Games by Suzanne Collinsis a Science Fiction book for 7 grade.\n",
      "The book Harry Potter and the Sorcerer's Stone by J.K. Rowlingis a Fantasy book for 5 grade.\n",
      "The book To Kill a Mockingbird by Harper Leeis a Historical Fiction book for 8 grade.\n",
      "The book Pride and Prejudice by Jane Austenis a Historical Fiction book for 8 grade.\n",
      "The book Twilight by Stephenie Meyeris a Fantasy book for 9 grade.\n",
      "The book The Great Gatsby by F. Scott Fitzgeraldis a Historical Fiction book for 10 grade.\n",
      "The book The Fault in Our Stars by John Greenis a Science Fiction book for 9 grade.\n",
      "The book The Book Thief by Markus Zusakis a Historical Fiction book for 8 grade.\n",
      "The book The Hobbit by J.R.R. Tolkienis a Fantasy book for 7 grade.\n",
      "The book The Catcher in the Rye by J.D. Salingeris a Historical Fiction book for 10 grade.\n"
     ]
    }
   ],
   "source": [
    "for b in book_lst:\n",
    "    print(b)"
   ]
  },
  {
   "cell_type": "code",
   "execution_count": 27,
   "id": "33a7db9b",
   "metadata": {},
   "outputs": [],
   "source": [
    "class Library():\n",
    "\n",
    "    def __init__(self, book_list):\n",
    "        self.book_list = book_list\n",
    "  \n",
    "    def print_all(self):\n",
    "        for b in self.book_list:\n",
    "            print(b)\n",
    "\n",
    "    def genre_books(self, genre):\n",
    "        assert isinstance(genre, str), \"genre should be string type\"\n",
    "        book_genre_lst = [book.title for book in self.book_list if book.genre == genre] \n",
    "        return book_genre_lst\n",
    "\n",
    "    def grade_books(self, grade_level_list):\n",
    "        assert all(isinstance(x, int) for x in grade_level_list), \"grade_levle_list should be a list of integers\"\n",
    "        book_grade_level_lst = [book.title for book in self.book_list if book.grade_level in grade_level_list]\n",
    "        return book_grade_level_lst\n",
    "\n",
    "  # solution 1:\n",
    "  # return recommended books that satisfy the given arguments\n",
    "    def recommend_books_1(self, grade_level = range(14), max_pages = 9999, genre = [ \"Fantasy\", \"Historical Fiction\", \"Science Fiction\"]):\n",
    "        recommend_lst = []\n",
    "        for b in self.book_list:\n",
    "            if (b.grade_level in grade_level) and (b.pages <= max_pages) and (b.genre in genre):\n",
    "                recommend_lst.append(b.title)\n",
    "        return recommend_lst\n",
    "  \n",
    "  # solution 2:\n",
    "  # return recommended books only when more than 2 arguments are provided. Otherwise, return []\n",
    "    def recommend_books_2(self, genre=\"\", grade_level=[], max_pages = 0):\n",
    "\n",
    "        assert all(isinstance(x, int) for x in grade_level), \"grade_level should be a list of integers\"\n",
    "        assert max_pages >= 0 and isinstance(max_pages, int), \"max_pages should be positive integer\"\n",
    "    \n",
    "        selected_books = []\n",
    "        for i in range(len(self.book_list)):\n",
    "        # case 1: no arguments provided\n",
    "            if (genre == \"\") and (len(grade_level) == 0) and (max_pages == 0): \n",
    "                selected_books.append(self.book_list[i])\n",
    "        # case 2: `grade_level` and `max_pages` are provided\n",
    "            elif genre == \"\":\n",
    "                if (self.book_list[i].grade_level in grade_level) & (self.book_list[i].pages <= max_pages):\n",
    "                    selected_books.append(self.book_list[i])\n",
    "        # case 3: `genre` and `max_pages` are provided\n",
    "            elif grade_level == None:\n",
    "                if (self.book_list[i].genre == genre) & (self.book_list[i].pages <= max_pages):\n",
    "                    selected_books.append(self.book_list[i])\n",
    "        # case 4: `genre` and `grade_level` are provided\n",
    "            elif max_pages == 0:\n",
    "                if (self.book_list[i].genre == genre) & (self.book_list[i].grade_level in grade_level):\n",
    "                    selected_books.append(self.book_list[i])\n",
    "        # case 5: all 3 arguments are provided\n",
    "            else:\n",
    "                if (self.book_list[i].genre == genre) & (self.book_list[i].grade_level in grade_level) & (self.book_list[i].pages <= max_pages):\n",
    "                    selected_books.append(self.book_list[i])\n",
    "\n",
    "        for b in selected_books:\n",
    "            print(b)"
   ]
  },
  {
   "cell_type": "code",
   "execution_count": 28,
   "id": "910c371d",
   "metadata": {},
   "outputs": [
    {
     "name": "stdout",
     "output_type": "stream",
     "text": [
      "The book The Hunger Games by Suzanne Collinsis a Science Fiction book for 7 grade.\n",
      "The book Harry Potter and the Sorcerer's Stone by J.K. Rowlingis a Fantasy book for 5 grade.\n",
      "The book To Kill a Mockingbird by Harper Leeis a Historical Fiction book for 8 grade.\n",
      "The book Pride and Prejudice by Jane Austenis a Historical Fiction book for 8 grade.\n",
      "The book Twilight by Stephenie Meyeris a Fantasy book for 9 grade.\n",
      "The book The Great Gatsby by F. Scott Fitzgeraldis a Historical Fiction book for 10 grade.\n",
      "The book The Fault in Our Stars by John Greenis a Science Fiction book for 9 grade.\n",
      "The book The Book Thief by Markus Zusakis a Historical Fiction book for 8 grade.\n",
      "The book The Hobbit by J.R.R. Tolkienis a Fantasy book for 7 grade.\n",
      "The book The Catcher in the Rye by J.D. Salingeris a Historical Fiction book for 10 grade.\n"
     ]
    }
   ],
   "source": [
    "L = Library(book_lst)\n",
    "L.print_all()"
   ]
  },
  {
   "cell_type": "code",
   "execution_count": 29,
   "id": "7a170a25",
   "metadata": {},
   "outputs": [
    {
     "data": {
      "text/plain": [
       "['To Kill a Mockingbird',\n",
       " 'Pride and Prejudice',\n",
       " 'The Great Gatsby',\n",
       " 'The Book Thief',\n",
       " 'The Catcher in the Rye']"
      ]
     },
     "execution_count": 29,
     "metadata": {},
     "output_type": "execute_result"
    }
   ],
   "source": [
    "L.genre_books(\"Historical Fiction\")"
   ]
  },
  {
   "cell_type": "code",
   "execution_count": 30,
   "id": "ea4b41fa",
   "metadata": {},
   "outputs": [
    {
     "data": {
      "text/plain": [
       "['The Hunger Games',\n",
       " 'To Kill a Mockingbird',\n",
       " 'Pride and Prejudice',\n",
       " 'The Book Thief',\n",
       " 'The Hobbit']"
      ]
     },
     "execution_count": 30,
     "metadata": {},
     "output_type": "execute_result"
    }
   ],
   "source": [
    "L.grade_books([7,8])"
   ]
  },
  {
   "cell_type": "code",
   "execution_count": 31,
   "id": "083eba56",
   "metadata": {},
   "outputs": [
    {
     "data": {
      "text/plain": [
       "['To Kill a Mockingbird',\n",
       " 'Pride and Prejudice',\n",
       " 'The Great Gatsby',\n",
       " 'The Catcher in the Rye']"
      ]
     },
     "execution_count": 31,
     "metadata": {},
     "output_type": "execute_result"
    }
   ],
   "source": [
    "L.recommend_books_1(grade_level = [8,9,10], max_pages = 300)"
   ]
  },
  {
   "cell_type": "code",
   "execution_count": 32,
   "id": "72fb0e68",
   "metadata": {},
   "outputs": [
    {
     "data": {
      "text/plain": [
       "['To Kill a Mockingbird',\n",
       " 'Pride and Prejudice',\n",
       " 'The Great Gatsby',\n",
       " 'The Catcher in the Rye']"
      ]
     },
     "execution_count": 32,
     "metadata": {},
     "output_type": "execute_result"
    }
   ],
   "source": [
    "L.recommend_books_1(max_pages = 300)"
   ]
  },
  {
   "cell_type": "code",
   "execution_count": 33,
   "id": "9bae6e83",
   "metadata": {},
   "outputs": [
    {
     "data": {
      "text/plain": [
       "['To Kill a Mockingbird',\n",
       " 'Pride and Prejudice',\n",
       " 'Twilight',\n",
       " 'The Great Gatsby',\n",
       " 'The Fault in Our Stars',\n",
       " 'The Book Thief',\n",
       " 'The Catcher in the Rye']"
      ]
     },
     "execution_count": 33,
     "metadata": {},
     "output_type": "execute_result"
    }
   ],
   "source": [
    "# failed case, but it's fine\n",
    "L.recommend_books_1(grade_level = [8,9,10])"
   ]
  },
  {
   "cell_type": "code",
   "execution_count": 34,
   "id": "5842e553",
   "metadata": {},
   "outputs": [
    {
     "data": {
      "text/plain": [
       "['To Kill a Mockingbird',\n",
       " 'Pride and Prejudice',\n",
       " 'The Great Gatsby',\n",
       " 'The Book Thief',\n",
       " 'The Catcher in the Rye']"
      ]
     },
     "execution_count": 34,
     "metadata": {},
     "output_type": "execute_result"
    }
   ],
   "source": [
    "L.recommend_books_1(genre = \"Historical Fiction\")"
   ]
  },
  {
   "cell_type": "code",
   "execution_count": 35,
   "id": "62cddc79",
   "metadata": {},
   "outputs": [
    {
     "data": {
      "text/plain": [
       "['To Kill a Mockingbird',\n",
       " 'Pride and Prejudice',\n",
       " 'The Great Gatsby',\n",
       " 'The Book Thief',\n",
       " 'The Catcher in the Rye']"
      ]
     },
     "execution_count": 35,
     "metadata": {},
     "output_type": "execute_result"
    }
   ],
   "source": [
    "L.recommend_books_1(genre = \"Historical Fiction\", grade_level = [8,9,10])"
   ]
  },
  {
   "cell_type": "markdown",
   "id": "5910f1be",
   "metadata": {},
   "source": [
    "#### Test recommend_books_2"
   ]
  },
  {
   "cell_type": "code",
   "execution_count": 36,
   "id": "2d4cc379",
   "metadata": {},
   "outputs": [
    {
     "name": "stdout",
     "output_type": "stream",
     "text": [
      "The book To Kill a Mockingbird by Harper Leeis a Historical Fiction book for 8 grade.\n",
      "The book Pride and Prejudice by Jane Austenis a Historical Fiction book for 8 grade.\n",
      "The book The Great Gatsby by F. Scott Fitzgeraldis a Historical Fiction book for 10 grade.\n",
      "The book The Catcher in the Rye by J.D. Salingeris a Historical Fiction book for 10 grade.\n"
     ]
    }
   ],
   "source": [
    "L.recommend_books_2(grade_level = [8,9,10], max_pages = 300)"
   ]
  },
  {
   "cell_type": "code",
   "execution_count": 37,
   "id": "022f8f5f",
   "metadata": {},
   "outputs": [],
   "source": [
    "L.recommend_books_2(max_pages = 300)"
   ]
  },
  {
   "cell_type": "code",
   "execution_count": 38,
   "id": "58cd0b61",
   "metadata": {},
   "outputs": [],
   "source": [
    "L.recommend_books_2(grade_level = [8,9,10])"
   ]
  },
  {
   "cell_type": "code",
   "execution_count": 39,
   "id": "85ec4b5f",
   "metadata": {},
   "outputs": [],
   "source": [
    "L.recommend_books_2(genre = \"Historical Fiction\")"
   ]
  },
  {
   "cell_type": "code",
   "execution_count": 40,
   "id": "8dcb162f",
   "metadata": {},
   "outputs": [
    {
     "name": "stdout",
     "output_type": "stream",
     "text": [
      "The book To Kill a Mockingbird by Harper Leeis a Historical Fiction book for 8 grade.\n",
      "The book Pride and Prejudice by Jane Austenis a Historical Fiction book for 8 grade.\n",
      "The book The Great Gatsby by F. Scott Fitzgeraldis a Historical Fiction book for 10 grade.\n",
      "The book The Book Thief by Markus Zusakis a Historical Fiction book for 8 grade.\n",
      "The book The Catcher in the Rye by J.D. Salingeris a Historical Fiction book for 10 grade.\n"
     ]
    }
   ],
   "source": [
    "L.recommend_books_2(genre = \"Historical Fiction\", grade_level = [8,9,10])"
   ]
  }
 ],
 "metadata": {
  "kernelspec": {
   "display_name": "Python 3 (ipykernel)",
   "language": "python",
   "name": "python3"
  },
  "language_info": {
   "codemirror_mode": {
    "name": "ipython",
    "version": 3
   },
   "file_extension": ".py",
   "mimetype": "text/x-python",
   "name": "python",
   "nbconvert_exporter": "python",
   "pygments_lexer": "ipython3",
   "version": "3.9.12"
  }
 },
 "nbformat": 4,
 "nbformat_minor": 5
}
