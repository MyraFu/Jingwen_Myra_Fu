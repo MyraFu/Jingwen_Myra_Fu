{
 "cells": [
  {
   "cell_type": "markdown",
   "id": "a8c81477",
   "metadata": {},
   "source": [
    "# Writing Functions"
   ]
  },
  {
   "cell_type": "markdown",
   "id": "75a47288",
   "metadata": {},
   "source": [
    "Jingwen Fu\n",
    "\n",
    "jf3483@columbia.edu"
   ]
  },
  {
   "cell_type": "code",
   "execution_count": 1,
   "id": "09516713",
   "metadata": {},
   "outputs": [],
   "source": [
    "import pandas as pd\n",
    "import numpy as np"
   ]
  },
  {
   "cell_type": "markdown",
   "id": "70bdc79a",
   "metadata": {},
   "source": [
    "# 1. Cost of translation"
   ]
  },
  {
   "cell_type": "markdown",
   "id": "3067f5a4",
   "metadata": {},
   "source": [
    "###### a) Provide a python function called `cost_of_translation` that takes as parameters:\n",
    "- `num_of_words`: the number of words in the document to be translated\n",
    "- `type`: type of the translation could be standard, certified, and notarized\n",
    "- `rush`: whether the translation is needed urgently or not (True or False)\n",
    "\n",
    "The function should return the cost of the translation. The rates are as follows:\n",
    "  - `standard`: 0.05\n",
    "  - `certified`: 0.10\n",
    "  - `notarized`: 0.12\n",
    "  \n",
    "If the translation is needed urgently, the cost is increased by 50%.\n",
    "\n",
    "Set reasonable default values for the parameters `type` and `rush`.\n",
    "\n",
    "The function should return the total cost as a number (`float`). Show the function output for a standard document of 1000 words that is not needed urgently."
   ]
  },
  {
   "cell_type": "code",
   "execution_count": 2,
   "id": "5273225d",
   "metadata": {},
   "outputs": [],
   "source": [
    "def cost_of_translation(num_of_words, what_type = \"standard\", rush = True):\n",
    "    \n",
    "    if what_type == \"standard\":\n",
    "        if rush == True:\n",
    "            cost = (0.05 * num_of_words)* 1.5\n",
    "        else: \n",
    "            cost = 0.05 * num_of_words \n",
    "            \n",
    "    if what_type == \"certified\":\n",
    "        if rush == True:\n",
    "            cost = (0.10 * num_of_words)* 1.5\n",
    "        else: \n",
    "            cost = 0.10 * num_of_words\n",
    "   \n",
    "    if what_type == \"notarized\":\n",
    "        if rush == True:\n",
    "            cost = (0.12 * num_of_words)* 1.5\n",
    "        else: \n",
    "            cost = 0.12 * num_of_words\n",
    "   \n",
    "    return float(cost)"
   ]
  },
  {
   "cell_type": "code",
   "execution_count": 3,
   "id": "a00f1e2c",
   "metadata": {},
   "outputs": [],
   "source": [
    "# OR:\n",
    "def cost_of_translation2(num_of_words,what_type='standard',rush=0):\n",
    "    rate = {'standard':0.05,'certified':0.1,'notarized':0.12}\n",
    "    cost = num_of_words*rate[what_type]\n",
    "    if rush:\n",
    "        cost *= 1.5\n",
    "    return cost"
   ]
  },
  {
   "cell_type": "code",
   "execution_count": 4,
   "id": "7782da5d",
   "metadata": {},
   "outputs": [
    {
     "data": {
      "text/plain": [
       "50.0"
      ]
     },
     "execution_count": 4,
     "metadata": {},
     "output_type": "execute_result"
    }
   ],
   "source": [
    "cost_of_translation(1000, \"standard\", False)"
   ]
  },
  {
   "cell_type": "code",
   "execution_count": 5,
   "id": "3af4488f",
   "metadata": {},
   "outputs": [
    {
     "data": {
      "text/plain": [
       "float"
      ]
     },
     "execution_count": 5,
     "metadata": {},
     "output_type": "execute_result"
    }
   ],
   "source": [
    "type(cost_of_translation(1000, \"standard\", False))"
   ]
  },
  {
   "cell_type": "code",
   "execution_count": 6,
   "id": "4d1a3657",
   "metadata": {},
   "outputs": [
    {
     "name": "stdout",
     "output_type": "stream",
     "text": [
      "test-100+certified+urgent: 15.0\n"
     ]
    }
   ],
   "source": [
    "# Test the function\n",
    "print('test-100+certified+urgent:', cost_of_translation(100, \"certified\", True))"
   ]
  },
  {
   "cell_type": "markdown",
   "id": "ac5e3a5b",
   "metadata": {},
   "source": [
    "**b)** We now want to provide information on the applicable sales tax as well. Write a separate function called `sales_tax` which takes in the cost of translation and returns the total amount of sales tax. Make sure this function has a `tax_rate` parameter and set the default to 10 percent.\n",
    " Show the function output for a standard document of 1000 words and not needed urgently."
   ]
  },
  {
   "cell_type": "code",
   "execution_count": 7,
   "id": "6c7f5489",
   "metadata": {},
   "outputs": [],
   "source": [
    "def sales_tax(cost, tax_rate = 0.10):\n",
    "    tax = cost * tax_rate\n",
    "    return tax"
   ]
  },
  {
   "cell_type": "code",
   "execution_count": 8,
   "id": "ef438ed5",
   "metadata": {},
   "outputs": [],
   "source": [
    "# OR\n",
    "def sales_tax2(cost,tax_rate=0.1):\n",
    "    return cost*(tax_rate)"
   ]
  },
  {
   "cell_type": "code",
   "execution_count": 9,
   "id": "1ed89576",
   "metadata": {},
   "outputs": [
    {
     "data": {
      "text/plain": [
       "5.0"
      ]
     },
     "execution_count": 9,
     "metadata": {},
     "output_type": "execute_result"
    }
   ],
   "source": [
    "sales_tax(cost_of_translation(1000, \"standard\", False))"
   ]
  },
  {
   "cell_type": "code",
   "execution_count": 10,
   "id": "a6a79c9e",
   "metadata": {},
   "outputs": [
    {
     "name": "stdout",
     "output_type": "stream",
     "text": [
      "test-100+certified+urgent: 1.5\n"
     ]
    }
   ],
   "source": [
    "# Test the sales_tax\n",
    "print('test-100+certified+urgent:', sales_tax(cost_of_translation(100, \"certified\", True)))"
   ]
  },
  {
   "cell_type": "markdown",
   "id": "252dd506",
   "metadata": {},
   "source": [
    "**c)** Due to a quirk in the tax law, notarized translations are exempt from sales tax. Modify the `sales_tax` function to reflect this (call it `sales_tax_notary` now). Show the function output for a document of 1000 words that is notarized and not needed urgently."
   ]
  },
  {
   "cell_type": "code",
   "execution_count": 11,
   "id": "959eba33",
   "metadata": {},
   "outputs": [],
   "source": [
    "cost_c = cost_of_translation(1000, \"notarized\", False)"
   ]
  },
  {
   "cell_type": "code",
   "execution_count": 12,
   "id": "c2721dba",
   "metadata": {},
   "outputs": [],
   "source": [
    "def sales_tax_notary(cost, what_type, tax_rate = 0.10, rush = True):\n",
    "    if what_type == \"notarized\":\n",
    "        tax_notary = 0\n",
    "    else:\n",
    "        tax_notary = cost * tax_rate\n",
    "    return tax_notary"
   ]
  },
  {
   "cell_type": "code",
   "execution_count": 13,
   "id": "ae619602",
   "metadata": {},
   "outputs": [],
   "source": [
    "# OR\n",
    "def sales_tax_notary2(cost,what_type='standard',tax_rate=0.1):\n",
    "    if what_type == 'notarized':\n",
    "        return 0\n",
    "    return cost*(tax_rate)"
   ]
  },
  {
   "cell_type": "code",
   "execution_count": 14,
   "id": "0793799b",
   "metadata": {},
   "outputs": [
    {
     "data": {
      "text/plain": [
       "0"
      ]
     },
     "execution_count": 14,
     "metadata": {},
     "output_type": "execute_result"
    }
   ],
   "source": [
    "sales_tax_notary(cost_c, \"notarized\")"
   ]
  },
  {
   "cell_type": "code",
   "execution_count": 15,
   "id": "96d1c80c",
   "metadata": {},
   "outputs": [
    {
     "name": "stdout",
     "output_type": "stream",
     "text": [
      "test-100+certified+urgent: 1.5\n"
     ]
    }
   ],
   "source": [
    "# Test the sales_tax_notary\n",
    "print('test-100+certified+urgent:', sales_tax_notary(cost_of_translation(100, \"certified\", True), \"certified\"))"
   ]
  },
  {
   "cell_type": "markdown",
   "id": "3dbf6805",
   "metadata": {},
   "source": [
    "**d)** Now combine the functions `cost_of_translation` and `sales_tax_notary` into a third function called `translation_calculator`. The function `translation_calculator` only has one required input, `num_of_words`, but also allows for an optional set of additional keyword arguments that can be passed to the relevant two sub-functions. \n",
    "\n",
    "This function now also prints to the console and should include the following printout:\n",
    "\n",
    "    Number of Words: \n",
    "    Type of translation:\n",
    "    Rush order:\n",
    "    Rate per word:\n",
    "    ---------------------------\n",
    "    Cost of translation:\n",
    "    Sales tax:\n",
    "    ---------------------------\n",
    "    Total cost: \n",
    "    \n",
    "Show the function output for a document of 1000 words that is notarized and needed urgently."
   ]
  },
  {
   "cell_type": "code",
   "execution_count": 16,
   "id": "ca59846e",
   "metadata": {},
   "outputs": [],
   "source": [
    "def translation_calculator(num_of_words, **kwargs):\n",
    "    what_type = kwargs['what_type']\n",
    "    rush = kwargs['rush']\n",
    "    if (what_type == 'notarized'):\n",
    "        cost_rate = 0.12\n",
    "    elif (what_type == 'standard'):\n",
    "        cost_rate = 0.05\n",
    "    else:\n",
    "        cost_rate = 0.10\n",
    "    if rush:\n",
    "        cost_rate = cost_rate *1.5\n",
    "    cost = cost_of_translation(num_of_words, **kwargs)\n",
    "    tax = sales_tax_notary(cost, **kwargs)\n",
    "    tc = cost + tax\n",
    "    print(f'Number of words: {num_of_words}')\n",
    "    print(f'Type of translation: {what_type}')\n",
    "    print(f'Rush order: {rush}')\n",
    "    print(f'Rate per word: {cost_rate}')\n",
    "    print('---------------------------')\n",
    "    print(f'Cost of translation: {cost}')\n",
    "    print(f'Sales tax: {tax}')\n",
    "    print('---------------------------')\n",
    "    print(f'Total cost: {tc}')\n",
    "    return tc"
   ]
  },
  {
   "cell_type": "code",
   "execution_count": 17,
   "id": "9193cc62",
   "metadata": {},
   "outputs": [],
   "source": [
    "# OR:\n",
    "def translation_calculator2(num_of_words,what_type,rush,tax_rate=0.1):\n",
    "    rate = {'standard':0.05,'certified':0.1,'notarized':0.12}\n",
    "    print('Number of Words',num_of_words)\n",
    "    print('Type of translation',what_type)\n",
    "    print('Rush order:',bool(rush))\n",
    "    print('Rate per word:',rate[what_type])\n",
    "    print('--------------------------')\n",
    "    cost = cost_of_translation(num_of_words,what_type,rush)\n",
    "    print('Cost of translation:',cost)\n",
    "    tax = sales_tax_notary(cost,what_type,tax_rate)\n",
    "    print('Sales tax:',tax)\n",
    "    print(f\"---------------------------\") \n",
    "    total = tax+cost\n",
    "    print(f\"Total cost: {float(total)}\")"
   ]
  },
  {
   "cell_type": "code",
   "execution_count": 18,
   "id": "9d9a4ddc",
   "metadata": {},
   "outputs": [
    {
     "name": "stdout",
     "output_type": "stream",
     "text": [
      "Number of words: 1000\n",
      "Type of translation: notarized\n",
      "Rush order: True\n",
      "Rate per word: 0.18\n",
      "---------------------------\n",
      "Cost of translation: 180.0\n",
      "Sales tax: 0\n",
      "---------------------------\n",
      "Total cost: 180.0\n"
     ]
    },
    {
     "data": {
      "text/plain": [
       "180.0"
      ]
     },
     "execution_count": 18,
     "metadata": {},
     "output_type": "execute_result"
    }
   ],
   "source": [
    "translation_calculator(1000, what_type='notarized', rush=True)"
   ]
  },
  {
   "cell_type": "code",
   "execution_count": 19,
   "id": "1f85e238",
   "metadata": {},
   "outputs": [
    {
     "name": "stdout",
     "output_type": "stream",
     "text": [
      "Number of words: 1000\n",
      "Type of translation: standard\n",
      "Rush order: False\n",
      "Rate per word: 0.05\n",
      "---------------------------\n",
      "Cost of translation: 50.0\n",
      "Sales tax: 5.0\n",
      "---------------------------\n",
      "Total cost: 55.0\n",
      "test - 1000+standard+False: 55.0\n"
     ]
    }
   ],
   "source": [
    "print(\"test - 1000+standard+False:\", translation_calculator(1000, what_type='standard', rush=False))"
   ]
  },
  {
   "cell_type": "markdown",
   "id": "b229e8fc",
   "metadata": {},
   "source": [
    "### 2. Error handling"
   ]
  },
  {
   "cell_type": "markdown",
   "id": "deee00cb",
   "metadata": {},
   "source": [
    "**a)** Your friend was happy about your work but recently noticed some issues. She asks you to make sure that the `translation_calculator` function only accepts:  \n",
    "  - a positive number of words\n",
    "  - the types of translations you planned for in your function  \n",
    "\n",
    "Add assertions (in any place you find appropriate) that warn a user when either of these requirements are not fulfilled. Make sure the user knows what went wrong by providing a description of what input is incorrect.\n",
    "\n",
    "  Show the result of the function for a translation with `num_of_words` = 0.\n",
    "  Show the result of the function for a translation of type `live`. "
   ]
  },
  {
   "cell_type": "code",
   "execution_count": 20,
   "id": "8224db02",
   "metadata": {},
   "outputs": [],
   "source": [
    "def translation_calculator(num_of_words, **kwargs):\n",
    "    what_type = kwargs['what_type']\n",
    "    rush = kwargs['rush']\n",
    "    \n",
    "    assert num_of_words > 0, \"number of words should be a positive integer\"\n",
    "    assert (what_type == \"standard\" or what_type == \"certified\" or what_type ==\"notarized\"), \"types of translations should be among of standard, certified, notarized\"\n",
    "   \n",
    "    if (what_type == 'notarized'):\n",
    "        cost_rate = 0.12\n",
    "    elif (what_type == 'standard'):\n",
    "        cost_rate = 0.05\n",
    "    else:\n",
    "        cost_rate = 0.10\n",
    "    if rush:\n",
    "        cost_rate = cost_rate *1.5\n",
    "    cost = cost_of_translation(num_of_words, **kwargs)\n",
    "    tax = sales_tax_notary(cost, **kwargs)\n",
    "    tc = cost + tax\n",
    "    print(f'Number of words: {num_of_words}')\n",
    "    print(f'Type of translation: {what_type}')\n",
    "    print(f'Rush order: {rush}')\n",
    "    print(f'Rate per word: {cost_rate}')\n",
    "    print('---------------------------')\n",
    "    print(f'Cost of translation: {cost}')\n",
    "    print(f'Sales tax: {tax}')\n",
    "    print('---------------------------')\n",
    "    print(f'Total cost: {tc}')\n",
    "    return tc"
   ]
  },
  {
   "cell_type": "code",
   "execution_count": 21,
   "id": "fce57144",
   "metadata": {},
   "outputs": [],
   "source": [
    "#  OR: \n",
    "def translation_calculator2(num_of_words,what_type,rush,tax_rate=0.1):\n",
    "    assert num_of_words>0,'Number of words must be positive'\n",
    "    assert what_type in ['standard','certified','notarized'],'type can only be:standard,certified,notarized'\n",
    "    rate = {'standard':0.05,'certified':0.1,'notarized':0.12}\n",
    "    print('Number of Words',num_of_words)\n",
    "    print('Type of translation',what_type)\n",
    "    print('Rush order:',bool(rush))\n",
    "    print('Rate per word:',rate[what_type])\n",
    "    print('--------------------------')\n",
    "    cost = cost_of_translation(num_of_words,what_type,rush)\n",
    "    print('Cost of translation:',cost)\n",
    "    print('Sales tax:',sales_tax_notary(cost,what_type,tax_rate))"
   ]
  },
  {
   "cell_type": "code",
   "execution_count": 22,
   "id": "58f99c37",
   "metadata": {},
   "outputs": [
    {
     "ename": "AssertionError",
     "evalue": "number of words should be a positive integer",
     "output_type": "error",
     "traceback": [
      "\u001b[0;31m---------------------------------------------------------------------------\u001b[0m",
      "\u001b[0;31mAssertionError\u001b[0m                            Traceback (most recent call last)",
      "\u001b[0;32m/var/folders/y6/fc2l4qks2738lxj3679w4wkm0000gn/T/ipykernel_94031/2693359043.py\u001b[0m in \u001b[0;36m<module>\u001b[0;34m\u001b[0m\n\u001b[0;32m----> 1\u001b[0;31m \u001b[0mtranslation_calculator\u001b[0m\u001b[0;34m(\u001b[0m\u001b[0;36m0\u001b[0m\u001b[0;34m,\u001b[0m \u001b[0mwhat_type\u001b[0m\u001b[0;34m=\u001b[0m\u001b[0;34m'standard'\u001b[0m\u001b[0;34m,\u001b[0m \u001b[0mrush\u001b[0m\u001b[0;34m=\u001b[0m\u001b[0;32mTrue\u001b[0m\u001b[0;34m)\u001b[0m\u001b[0;34m\u001b[0m\u001b[0;34m\u001b[0m\u001b[0m\n\u001b[0m",
      "\u001b[0;32m/var/folders/y6/fc2l4qks2738lxj3679w4wkm0000gn/T/ipykernel_94031/97611381.py\u001b[0m in \u001b[0;36mtranslation_calculator\u001b[0;34m(num_of_words, **kwargs)\u001b[0m\n\u001b[1;32m      3\u001b[0m     \u001b[0mrush\u001b[0m \u001b[0;34m=\u001b[0m \u001b[0mkwargs\u001b[0m\u001b[0;34m[\u001b[0m\u001b[0;34m'rush'\u001b[0m\u001b[0;34m]\u001b[0m\u001b[0;34m\u001b[0m\u001b[0;34m\u001b[0m\u001b[0m\n\u001b[1;32m      4\u001b[0m \u001b[0;34m\u001b[0m\u001b[0m\n\u001b[0;32m----> 5\u001b[0;31m     \u001b[0;32massert\u001b[0m \u001b[0mnum_of_words\u001b[0m \u001b[0;34m>\u001b[0m \u001b[0;36m0\u001b[0m\u001b[0;34m,\u001b[0m \u001b[0;34m\"number of words should be a positive integer\"\u001b[0m\u001b[0;34m\u001b[0m\u001b[0;34m\u001b[0m\u001b[0m\n\u001b[0m\u001b[1;32m      6\u001b[0m     \u001b[0;32massert\u001b[0m \u001b[0;34m(\u001b[0m\u001b[0mwhat_type\u001b[0m \u001b[0;34m==\u001b[0m \u001b[0;34m\"standard\"\u001b[0m \u001b[0;32mor\u001b[0m \u001b[0mwhat_type\u001b[0m \u001b[0;34m==\u001b[0m \u001b[0;34m\"certified\"\u001b[0m \u001b[0;32mor\u001b[0m \u001b[0mwhat_type\u001b[0m \u001b[0;34m==\u001b[0m\u001b[0;34m\"notarized\"\u001b[0m\u001b[0;34m)\u001b[0m\u001b[0;34m,\u001b[0m \u001b[0;34m\"types of translations should be among of standard, certified, notarized\"\u001b[0m\u001b[0;34m\u001b[0m\u001b[0;34m\u001b[0m\u001b[0m\n\u001b[1;32m      7\u001b[0m \u001b[0;34m\u001b[0m\u001b[0m\n",
      "\u001b[0;31mAssertionError\u001b[0m: number of words should be a positive integer"
     ]
    }
   ],
   "source": [
    "translation_calculator(0, what_type='standard', rush=True)"
   ]
  },
  {
   "cell_type": "code",
   "execution_count": 23,
   "id": "57bc066c",
   "metadata": {},
   "outputs": [
    {
     "ename": "AssertionError",
     "evalue": "types of translations should be among of standard, certified, notarized",
     "output_type": "error",
     "traceback": [
      "\u001b[0;31m---------------------------------------------------------------------------\u001b[0m",
      "\u001b[0;31mAssertionError\u001b[0m                            Traceback (most recent call last)",
      "\u001b[0;32m/var/folders/y6/fc2l4qks2738lxj3679w4wkm0000gn/T/ipykernel_94031/3016285872.py\u001b[0m in \u001b[0;36m<module>\u001b[0;34m\u001b[0m\n\u001b[0;32m----> 1\u001b[0;31m \u001b[0mtranslation_calculator\u001b[0m\u001b[0;34m(\u001b[0m\u001b[0;36m100\u001b[0m\u001b[0;34m,\u001b[0m \u001b[0mwhat_type\u001b[0m\u001b[0;34m=\u001b[0m\u001b[0;34m'live'\u001b[0m\u001b[0;34m,\u001b[0m \u001b[0mrush\u001b[0m\u001b[0;34m=\u001b[0m\u001b[0;32mTrue\u001b[0m\u001b[0;34m)\u001b[0m\u001b[0;34m\u001b[0m\u001b[0;34m\u001b[0m\u001b[0m\n\u001b[0m",
      "\u001b[0;32m/var/folders/y6/fc2l4qks2738lxj3679w4wkm0000gn/T/ipykernel_94031/97611381.py\u001b[0m in \u001b[0;36mtranslation_calculator\u001b[0;34m(num_of_words, **kwargs)\u001b[0m\n\u001b[1;32m      4\u001b[0m \u001b[0;34m\u001b[0m\u001b[0m\n\u001b[1;32m      5\u001b[0m     \u001b[0;32massert\u001b[0m \u001b[0mnum_of_words\u001b[0m \u001b[0;34m>\u001b[0m \u001b[0;36m0\u001b[0m\u001b[0;34m,\u001b[0m \u001b[0;34m\"number of words should be a positive integer\"\u001b[0m\u001b[0;34m\u001b[0m\u001b[0;34m\u001b[0m\u001b[0m\n\u001b[0;32m----> 6\u001b[0;31m     \u001b[0;32massert\u001b[0m \u001b[0;34m(\u001b[0m\u001b[0mwhat_type\u001b[0m \u001b[0;34m==\u001b[0m \u001b[0;34m\"standard\"\u001b[0m \u001b[0;32mor\u001b[0m \u001b[0mwhat_type\u001b[0m \u001b[0;34m==\u001b[0m \u001b[0;34m\"certified\"\u001b[0m \u001b[0;32mor\u001b[0m \u001b[0mwhat_type\u001b[0m \u001b[0;34m==\u001b[0m\u001b[0;34m\"notarized\"\u001b[0m\u001b[0;34m)\u001b[0m\u001b[0;34m,\u001b[0m \u001b[0;34m\"types of translations should be among of standard, certified, notarized\"\u001b[0m\u001b[0;34m\u001b[0m\u001b[0;34m\u001b[0m\u001b[0m\n\u001b[0m\u001b[1;32m      7\u001b[0m \u001b[0;34m\u001b[0m\u001b[0m\n\u001b[1;32m      8\u001b[0m     \u001b[0;32mif\u001b[0m \u001b[0;34m(\u001b[0m\u001b[0mwhat_type\u001b[0m \u001b[0;34m==\u001b[0m \u001b[0;34m'notarized'\u001b[0m\u001b[0;34m)\u001b[0m\u001b[0;34m:\u001b[0m\u001b[0;34m\u001b[0m\u001b[0;34m\u001b[0m\u001b[0m\n",
      "\u001b[0;31mAssertionError\u001b[0m: types of translations should be among of standard, certified, notarized"
     ]
    }
   ],
   "source": [
    "translation_calculator(100, what_type='live', rush=True)"
   ]
  },
  {
   "cell_type": "code",
   "execution_count": 24,
   "id": "8b54617a",
   "metadata": {},
   "outputs": [
    {
     "name": "stdout",
     "output_type": "stream",
     "text": [
      "Number of words: 1000\n",
      "Type of translation: standard\n",
      "Rush order: True\n",
      "Rate per word: 0.07500000000000001\n",
      "---------------------------\n",
      "Cost of translation: 75.0\n",
      "Sales tax: 7.5\n",
      "---------------------------\n",
      "Total cost: 82.5\n"
     ]
    },
    {
     "data": {
      "text/plain": [
       "82.5"
      ]
     },
     "execution_count": 24,
     "metadata": {},
     "output_type": "execute_result"
    }
   ],
   "source": [
    "translation_calculator(1000, what_type='standard', rush=True)"
   ]
  },
  {
   "cell_type": "markdown",
   "id": "6655f7da",
   "metadata": {},
   "source": [
    "**b)** Your friend does like that no erroneous values come through anymore but her customers don't really understand your Python generated warnings. Remove the assertions from (2a) and use a `try`-`except` setup to catch all errors that arise and simply ask the user (via a printed message) to `Please check your input values.`\n",
    "\n",
    "  Print the result of the function for a translation with a negative number of words as the input."
   ]
  },
  {
   "cell_type": "code",
   "execution_count": 25,
   "id": "961a3f21",
   "metadata": {},
   "outputs": [],
   "source": [
    "def translation_calculator(num_of_words, **kwargs):\n",
    "    what_type = kwargs['what_type']\n",
    "    rush = kwargs['rush']\n",
    "    try:\n",
    "        if num_of_words <= 0:\n",
    "            raise ValueError(\"number of words should be a positive integer\")\n",
    "        if what_type !=\"standard\" and what_type != \"certified\" and what_type !=\"notarized\":\n",
    "        # or use this: if what_type not in [\"standard\", \"certified\",\"notarized\"]:\n",
    "            raise ValueError(\"types of translations should be among of standard, certified, notarized\")\n",
    "        \n",
    "        if (what_type == 'notarized'):\n",
    "            cost_rate = 0.12\n",
    "        elif (what_type == 'standard'):\n",
    "            cost_rate = 0.05\n",
    "        else:\n",
    "            cost_rate = 0.10\n",
    "        cost = cost_of_translation(num_of_words, **kwargs)\n",
    "        tax = sales_tax_notary(cost, **kwargs)\n",
    "        tc = cost + tax\n",
    "        if rush:\n",
    "            cost_rate = cost_rate *1.5\n",
    "        print(f'Number of words: {num_of_words}')\n",
    "        print(f'Type of translation: {what_type}')\n",
    "        print(f'Rush order: {rush}')\n",
    "        print(f'Rate per word: {cost_rate}')\n",
    "        print('---------------------------')\n",
    "        print(f'Cost of translation: {cost}')\n",
    "        print(f'Sales tax: {tax}')\n",
    "        print('---------------------------')\n",
    "        print(f'Total cost: {tc}')\n",
    "        return tc\n",
    "    except:\n",
    "        print(f'please check your input values')"
   ]
  },
  {
   "cell_type": "code",
   "execution_count": 26,
   "id": "2ad7cf03",
   "metadata": {},
   "outputs": [],
   "source": [
    "# OR:\n",
    "def translation_calculator2(num_of_words,what_type,rush,tax_rate=0.1):\n",
    "    try:\n",
    "        if (num_of_words <= 0) or (what_type not in ['standard','certified','notarized']):\n",
    "            raise Exception()\n",
    "    except: print('Please check your input values')\n",
    "    else:\n",
    "        rate = {'standard':0.05,'certified':0.1,'notarized':0.12}\n",
    "        print('Number of Words',num_of_words)\n",
    "        print('Type of translation',what_type)\n",
    "        print('Rush order:',bool(rush))\n",
    "        print('Rate per word:',rate[what_type])\n",
    "        print('--------------------------')\n",
    "        cost = cost_of_translation(num_of_words,what_type,rush)\n",
    "        print('Cost of translation:',cost)\n",
    "        print('Sales tax:',sales_tax_notary(cost,what_type,tax_rate))\n",
    "        return cost"
   ]
  },
  {
   "cell_type": "code",
   "execution_count": 27,
   "id": "9f03a9bf",
   "metadata": {},
   "outputs": [
    {
     "name": "stdout",
     "output_type": "stream",
     "text": [
      "Number of words: 1000\n",
      "Type of translation: standard\n",
      "Rush order: True\n",
      "Rate per word: 0.07500000000000001\n",
      "---------------------------\n",
      "Cost of translation: 75.0\n",
      "Sales tax: 7.5\n",
      "---------------------------\n",
      "Total cost: 82.5\n"
     ]
    },
    {
     "data": {
      "text/plain": [
       "82.5"
      ]
     },
     "execution_count": 27,
     "metadata": {},
     "output_type": "execute_result"
    }
   ],
   "source": [
    "# check if the function could run\n",
    "translation_calculator(1000, what_type='standard', rush=True)"
   ]
  },
  {
   "cell_type": "code",
   "execution_count": 28,
   "id": "b8cb1243",
   "metadata": {},
   "outputs": [
    {
     "name": "stdout",
     "output_type": "stream",
     "text": [
      "please check your input values\n"
     ]
    }
   ],
   "source": [
    "# check if the function could run\n",
    "translation_calculator(100, what_type='live', rush=True)"
   ]
  },
  {
   "cell_type": "code",
   "execution_count": 29,
   "id": "faa41930",
   "metadata": {},
   "outputs": [
    {
     "name": "stdout",
     "output_type": "stream",
     "text": [
      "please check your input values\n"
     ]
    }
   ],
   "source": [
    "translation_calculator(-1, what_type='standard', rush=False)"
   ]
  },
  {
   "cell_type": "code",
   "execution_count": null,
   "id": "6b497ff4",
   "metadata": {},
   "outputs": [],
   "source": []
  },
  {
   "cell_type": "code",
   "execution_count": null,
   "id": "4653a330",
   "metadata": {},
   "outputs": [],
   "source": []
  },
  {
   "cell_type": "code",
   "execution_count": 30,
   "id": "72c0e869",
   "metadata": {},
   "outputs": [
    {
     "data": {
      "text/html": [
       "<div>\n",
       "<style scoped>\n",
       "    .dataframe tbody tr th:only-of-type {\n",
       "        vertical-align: middle;\n",
       "    }\n",
       "\n",
       "    .dataframe tbody tr th {\n",
       "        vertical-align: top;\n",
       "    }\n",
       "\n",
       "    .dataframe thead th {\n",
       "        text-align: right;\n",
       "    }\n",
       "</style>\n",
       "<table border=\"1\" class=\"dataframe\">\n",
       "  <thead>\n",
       "    <tr style=\"text-align: right;\">\n",
       "      <th></th>\n",
       "      <th>num_of_words</th>\n",
       "      <th>what_type</th>\n",
       "      <th>rush</th>\n",
       "      <th>rate</th>\n",
       "      <th>cost</th>\n",
       "    </tr>\n",
       "  </thead>\n",
       "  <tbody>\n",
       "    <tr>\n",
       "      <th>0</th>\n",
       "      <td>1000</td>\n",
       "      <td>standard</td>\n",
       "      <td>False</td>\n",
       "      <td>0.05</td>\n",
       "      <td>50</td>\n",
       "    </tr>\n",
       "    <tr>\n",
       "      <th>1</th>\n",
       "      <td>2000</td>\n",
       "      <td>certified</td>\n",
       "      <td>True</td>\n",
       "      <td>0.10</td>\n",
       "      <td>400</td>\n",
       "    </tr>\n",
       "    <tr>\n",
       "      <th>2</th>\n",
       "      <td>3000</td>\n",
       "      <td>notarized</td>\n",
       "      <td>False</td>\n",
       "      <td>0.12</td>\n",
       "      <td>300</td>\n",
       "    </tr>\n",
       "    <tr>\n",
       "      <th>3</th>\n",
       "      <td>4000</td>\n",
       "      <td>standard</td>\n",
       "      <td>True</td>\n",
       "      <td>0.05</td>\n",
       "      <td>400</td>\n",
       "    </tr>\n",
       "    <tr>\n",
       "      <th>4</th>\n",
       "      <td>5000</td>\n",
       "      <td>certified</td>\n",
       "      <td>False</td>\n",
       "      <td>0.10</td>\n",
       "      <td>500</td>\n",
       "    </tr>\n",
       "  </tbody>\n",
       "</table>\n",
       "</div>"
      ],
      "text/plain": [
       "   num_of_words  what_type   rush  rate  cost\n",
       "0          1000   standard  False  0.05    50\n",
       "1          2000  certified   True  0.10   400\n",
       "2          3000  notarized  False  0.12   300\n",
       "3          4000   standard   True  0.05   400\n",
       "4          5000  certified  False  0.10   500"
      ]
     },
     "execution_count": 30,
     "metadata": {},
     "output_type": "execute_result"
    }
   ],
   "source": [
    "df = pd.DataFrame({ 'num_of_words': [1000, 2000, 3000, 4000, 5000],\n",
    "                      'what_type': ['standard', 'certified', 'notarized', 'standard', 'certified'],\n",
    "                      'rush': [False, True, False, True, False],\n",
    "                      'rate': [0.05, 0.10, 0.12, 0.05, 0.10],\n",
    "                      'cost': [50, 400, 300, 400, 500]})\n",
    "df\n"
   ]
  },
  {
   "cell_type": "code",
   "execution_count": 33,
   "id": "3ed83e1a",
   "metadata": {},
   "outputs": [
    {
     "name": "stdout",
     "output_type": "stream",
     "text": [
      "Number of Words 1000\n",
      "Type of translation standard\n",
      "Rush order: False\n",
      "Rate per word: 0.05\n",
      "--------------------------\n",
      "Cost of translation: 50.0\n",
      "Sales tax: 2.5\n",
      "Number of Words 2000\n",
      "Type of translation certified\n",
      "Rush order: True\n",
      "Rate per word: 0.1\n",
      "--------------------------\n",
      "Cost of translation: 300.0\n",
      "Sales tax: 30.0\n",
      "Number of Words 3000\n",
      "Type of translation notarized\n",
      "Rush order: False\n",
      "Rate per word: 0.12\n",
      "--------------------------\n",
      "Cost of translation: 360.0\n",
      "Sales tax: 0\n",
      "Number of Words 4000\n",
      "Type of translation standard\n",
      "Rush order: True\n",
      "Rate per word: 0.05\n",
      "--------------------------\n",
      "Cost of translation: 300.0\n",
      "Sales tax: 15.0\n",
      "Number of Words 5000\n",
      "Type of translation certified\n",
      "Rush order: False\n",
      "Rate per word: 0.1\n",
      "--------------------------\n",
      "Cost of translation: 500.0\n",
      "Sales tax: 50.0\n"
     ]
    }
   ],
   "source": [
    "df['cost_re'] = df.apply(lambda x: translation_calculator2(x.num_of_words,x.what_type,x.rush,x.rate), axis=1)"
   ]
  },
  {
   "cell_type": "code",
   "execution_count": 34,
   "id": "c01627bd",
   "metadata": {},
   "outputs": [
    {
     "data": {
      "text/html": [
       "<div>\n",
       "<style scoped>\n",
       "    .dataframe tbody tr th:only-of-type {\n",
       "        vertical-align: middle;\n",
       "    }\n",
       "\n",
       "    .dataframe tbody tr th {\n",
       "        vertical-align: top;\n",
       "    }\n",
       "\n",
       "    .dataframe thead th {\n",
       "        text-align: right;\n",
       "    }\n",
       "</style>\n",
       "<table border=\"1\" class=\"dataframe\">\n",
       "  <thead>\n",
       "    <tr style=\"text-align: right;\">\n",
       "      <th></th>\n",
       "      <th>num_of_words</th>\n",
       "      <th>what_type</th>\n",
       "      <th>rush</th>\n",
       "      <th>rate</th>\n",
       "      <th>cost</th>\n",
       "      <th>cost_re</th>\n",
       "    </tr>\n",
       "  </thead>\n",
       "  <tbody>\n",
       "    <tr>\n",
       "      <th>0</th>\n",
       "      <td>1000</td>\n",
       "      <td>standard</td>\n",
       "      <td>False</td>\n",
       "      <td>0.05</td>\n",
       "      <td>50</td>\n",
       "      <td>50.0</td>\n",
       "    </tr>\n",
       "    <tr>\n",
       "      <th>1</th>\n",
       "      <td>2000</td>\n",
       "      <td>certified</td>\n",
       "      <td>True</td>\n",
       "      <td>0.10</td>\n",
       "      <td>400</td>\n",
       "      <td>300.0</td>\n",
       "    </tr>\n",
       "    <tr>\n",
       "      <th>2</th>\n",
       "      <td>3000</td>\n",
       "      <td>notarized</td>\n",
       "      <td>False</td>\n",
       "      <td>0.12</td>\n",
       "      <td>300</td>\n",
       "      <td>360.0</td>\n",
       "    </tr>\n",
       "    <tr>\n",
       "      <th>3</th>\n",
       "      <td>4000</td>\n",
       "      <td>standard</td>\n",
       "      <td>True</td>\n",
       "      <td>0.05</td>\n",
       "      <td>400</td>\n",
       "      <td>300.0</td>\n",
       "    </tr>\n",
       "    <tr>\n",
       "      <th>4</th>\n",
       "      <td>5000</td>\n",
       "      <td>certified</td>\n",
       "      <td>False</td>\n",
       "      <td>0.10</td>\n",
       "      <td>500</td>\n",
       "      <td>500.0</td>\n",
       "    </tr>\n",
       "  </tbody>\n",
       "</table>\n",
       "</div>"
      ],
      "text/plain": [
       "   num_of_words  what_type   rush  rate  cost  cost_re\n",
       "0          1000   standard  False  0.05    50     50.0\n",
       "1          2000  certified   True  0.10   400    300.0\n",
       "2          3000  notarized  False  0.12   300    360.0\n",
       "3          4000   standard   True  0.05   400    300.0\n",
       "4          5000  certified  False  0.10   500    500.0"
      ]
     },
     "execution_count": 34,
     "metadata": {},
     "output_type": "execute_result"
    }
   ],
   "source": [
    "df"
   ]
  },
  {
   "cell_type": "code",
   "execution_count": null,
   "id": "4924380f",
   "metadata": {},
   "outputs": [],
   "source": []
  }
 ],
 "metadata": {
  "kernelspec": {
   "display_name": "Python 3 (ipykernel)",
   "language": "python",
   "name": "python3"
  },
  "language_info": {
   "codemirror_mode": {
    "name": "ipython",
    "version": 3
   },
   "file_extension": ".py",
   "mimetype": "text/x-python",
   "name": "python",
   "nbconvert_exporter": "python",
   "pygments_lexer": "ipython3",
   "version": "3.9.12"
  }
 },
 "nbformat": 4,
 "nbformat_minor": 5
}
