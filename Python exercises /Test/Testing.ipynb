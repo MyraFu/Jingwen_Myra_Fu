{
 "cells": [
  {
   "cell_type": "code",
   "execution_count": 1,
   "id": "5023bc84",
   "metadata": {},
   "outputs": [],
   "source": [
    "import pytest\n",
    "import pandas as pd"
   ]
  },
  {
   "cell_type": "markdown",
   "id": "b1188a5f",
   "metadata": {},
   "source": [
    "### Testing"
   ]
  },
  {
   "cell_type": "markdown",
   "id": "111a85b5",
   "metadata": {},
   "source": [
    "JingWen Fu\\\n",
    "jf3483@columbia.edu"
   ]
  },
  {
   "cell_type": "code",
   "execution_count": 3,
   "id": "0f069b1d",
   "metadata": {},
   "outputs": [],
   "source": [
    "def cipher(text, shift, encrypt=True):\n",
    "    alphabet = 'abcdefghijklmnopqrstuvwxyzABCDEFGHIJKLMNOPQRSTUVWXYZ'\n",
    "    new_text = ''\n",
    "    for c in text:\n",
    "        index = alphabet.find(c)\n",
    "        if index == -1:\n",
    "            new_text += c\n",
    "        else:\n",
    "            new_index = index + shift if encrypt == True else index - shift\n",
    "            new_index %= len(alphabet)\n",
    "            new_text += alphabet[new_index:new_index+1]\n",
    "    return new_text"
   ]
  },
  {
   "cell_type": "code",
   "execution_count": 4,
   "id": "82731756",
   "metadata": {},
   "outputs": [
    {
     "data": {
      "text/plain": [
       "'RNTT'"
      ]
     },
     "execution_count": 4,
     "metadata": {},
     "output_type": "execute_result"
    }
   ],
   "source": [
    "cipher('QMSS',1)"
   ]
  },
  {
   "cell_type": "code",
   "execution_count": 5,
   "id": "81a04753",
   "metadata": {},
   "outputs": [
    {
     "data": {
      "text/plain": [
       "'SOUU'"
      ]
     },
     "execution_count": 5,
     "metadata": {},
     "output_type": "execute_result"
    }
   ],
   "source": [
    "cipher('QMSS',2)"
   ]
  },
  {
   "cell_type": "code",
   "execution_count": 6,
   "id": "9f0f4c65",
   "metadata": {},
   "outputs": [
    {
     "data": {
      "text/plain": [
       "'PLRR'"
      ]
     },
     "execution_count": 6,
     "metadata": {},
     "output_type": "execute_result"
    }
   ],
   "source": [
    "cipher('QMSS',-1)"
   ]
  },
  {
   "cell_type": "code",
   "execution_count": 7,
   "id": "a178795a",
   "metadata": {},
   "outputs": [
    {
     "data": {
      "text/plain": [
       "'DV2022'"
      ]
     },
     "execution_count": 7,
     "metadata": {},
     "output_type": "execute_result"
    }
   ],
   "source": [
    "cipher('CU2022',1)"
   ]
  },
  {
   "cell_type": "markdown",
   "id": "48c38bc6",
   "metadata": {},
   "source": [
    "### 1. Test the `encrypt` function"
   ]
  },
  {
   "cell_type": "markdown",
   "id": "687c8a5a",
   "metadata": {},
   "source": [
    "a) Write a test function that checks whether the `cipher` function works using a single word as an example."
   ]
  },
  {
   "cell_type": "code",
   "execution_count": 8,
   "id": "e29cd1b2",
   "metadata": {},
   "outputs": [],
   "source": [
    "def test_cipher_single():\n",
    "    example = 'QMSS'\n",
    "    expected = 'RNTT'\n",
    "    actual = cipher('QMSS', shift = 1)\n",
    "    assert actual == expected\n",
    "\n",
    "test_cipher_single()"
   ]
  },
  {
   "cell_type": "markdown",
   "id": "1e2a492f",
   "metadata": {},
   "source": [
    "b) Write a test function that checks a negative shift works (`shift < 0`)."
   ]
  },
  {
   "cell_type": "code",
   "execution_count": 9,
   "id": "a10523de",
   "metadata": {},
   "outputs": [],
   "source": [
    "def test_cipher_negative():\n",
    "    example = 'QMSS'\n",
    "    expected = 'PLRR'\n",
    "    actual = cipher('QMSS', shift = -1)\n",
    "    assert actual == expected\n",
    "\n",
    "test_cipher_negative()"
   ]
  },
  {
   "cell_type": "markdown",
   "id": "47e88631",
   "metadata": {},
   "source": [
    "c) Write a test for the case when the text contains symbols which are not in the alphabet."
   ]
  },
  {
   "cell_type": "code",
   "execution_count": 10,
   "id": "7d9739dc",
   "metadata": {},
   "outputs": [
    {
     "name": "stdout",
     "output_type": "stream",
     "text": [
      "DV2022\n"
     ]
    }
   ],
   "source": [
    "def test_cipher_others():\n",
    "    example = 'CU2022'\n",
    "    expected = 'DV2022'\n",
    "    actual = cipher('CU2022', shift = 1)\n",
    "    print(actual)\n",
    "    assert actual == expected\n",
    "\n",
    "test_cipher_others()"
   ]
  },
  {
   "cell_type": "markdown",
   "id": "2f1f75b4",
   "metadata": {},
   "source": [
    "d) Add an assertion to the original function that causes an exception when the `shift` parameter is set to a string (\n",
    "e.g. \"two\"). Now, add a test that checks for that exception occurring as expected when a string is passed to `shift`."
   ]
  },
  {
   "cell_type": "code",
   "execution_count": 11,
   "id": "7d339b70",
   "metadata": {},
   "outputs": [],
   "source": [
    "def cipher(text, shift, encrypt=True):\n",
    "    alphabet = 'abcdefghijklmnopqrstuvwxyzABCDEFGHIJKLMNOPQRSTUVWXYZ'\n",
    "    new_text = ''\n",
    "    assert type(shift) == int, \"Shift parameter needs to be an integer\"\n",
    "#     if type(shift) == str:\n",
    "#         raise AssertionError ('the shift parameter couldn\\'t be string')\n",
    "    for c in text:\n",
    "        index = alphabet.find(c)\n",
    "        if index == -1:\n",
    "            new_text += c\n",
    "        else:\n",
    "            new_index = index + shift if encrypt == True else index - shift\n",
    "            new_index %= len(alphabet)\n",
    "            new_text += alphabet[new_index:new_index+1]\n",
    "    return new_text"
   ]
  },
  {
   "cell_type": "code",
   "execution_count": 12,
   "id": "f306d38f",
   "metadata": {},
   "outputs": [],
   "source": [
    "# cipher('QMSS', 'two')"
   ]
  },
  {
   "cell_type": "code",
   "execution_count": 13,
   "id": "f164c5c9",
   "metadata": {},
   "outputs": [],
   "source": [
    "def test_cipher_string():\n",
    "    example = 'QMSS'\n",
    "    shift = 'two'\n",
    "    expected = 'SOUU'\n",
    "    with pytest.raises(AssertionError): #detect error\n",
    "        assert cipher(example, shift) == expected\n",
    "\n",
    "test_cipher_string()"
   ]
  },
  {
   "cell_type": "markdown",
   "id": "62330178",
   "metadata": {},
   "source": [
    "e) Add the tests from 1a, 1b, 1c, and 1d to a file called `test_cipher.py` in your folder. Run all the tests from your\n",
    "command line using `pytest` (and verbosity setting `-vv`) and add a screen shot of the command and the output to your\n",
    "homework solution. Alternatively, you can send the tests to your terminal from within your Jupyter notebook using the `!pytest` command."
   ]
  },
  {
   "cell_type": "code",
   "execution_count": 14,
   "id": "4e8cdeec",
   "metadata": {
    "scrolled": true
   },
   "outputs": [],
   "source": [
    "# !pytest -vv test_cipher.py "
   ]
  },
  {
   "cell_type": "code",
   "execution_count": 15,
   "id": "f493e904",
   "metadata": {},
   "outputs": [
    {
     "name": "stdout",
     "output_type": "stream",
     "text": [
      "\u001b[1m============================= test session starts ==============================\u001b[0m\n",
      "platform darwin -- Python 3.9.12, pytest-7.1.1, pluggy-1.0.0 -- /Users/jwfu/opt/anaconda3/bin/python\n",
      "cachedir: .pytest_cache\n",
      "rootdir: /Users/jwfu/Desktop/six\n",
      "plugins: anyio-3.5.0\n",
      "collected 8 items                                                              \u001b[0m\n",
      "\n",
      "test_cipher.py::test_cipher_single \u001b[32mPASSED\u001b[0m\u001b[32m                                [ 12%]\u001b[0m\n",
      "test_cipher.py::test_cipher_negative \u001b[32mPASSED\u001b[0m\u001b[32m                              [ 25%]\u001b[0m\n",
      "test_cipher.py::test_cipher_others \u001b[32mPASSED\u001b[0m\u001b[32m                                [ 37%]\u001b[0m\n",
      "test_cipher.py::test_cipher_string \u001b[32mPASSED\u001b[0m\u001b[32m                                [ 50%]\u001b[0m\n",
      "test_cipher.py::test_cipher_exs[QMSS-RNTT] \u001b[32mPASSED\u001b[0m\u001b[32m                        [ 62%]\u001b[0m\n",
      "test_cipher.py::test_cipher_exs[cu-dv] \u001b[32mPASSED\u001b[0m\u001b[32m                            [ 75%]\u001b[0m\n",
      "test_cipher.py::test_cipher_exs[Fu-Gv] \u001b[32mPASSED\u001b[0m\u001b[32m                            [ 87%]\u001b[0m\n",
      "test_cipher.py::test_cipher_exs[TikTok is additive-UjlUpl jt beejujwf] \u001b[32mPASSED\u001b[0m\u001b[32m [100%]\u001b[0m\n",
      "\n",
      "\u001b[32m============================== \u001b[32m\u001b[1m8 passed\u001b[0m\u001b[32m in 0.30s\u001b[0m\u001b[32m ===============================\u001b[0m\n"
     ]
    }
   ],
   "source": [
    "!poetry run pytest test_cipher.py -vv"
   ]
  },
  {
   "cell_type": "markdown",
   "id": "cfc8d2c9",
   "metadata": {},
   "source": [
    "f) Now, expand the test in (1a) using several examples which include a single word, lower case only, upper case only,\n",
    "and a sentence with spaces. Use a fixture for this, so that this remains a single test function."
   ]
  },
  {
   "cell_type": "code",
   "execution_count": 16,
   "id": "5c175d17",
   "metadata": {},
   "outputs": [
    {
     "data": {
      "text/plain": [
       "'UjlUpl jt beejujwf'"
      ]
     },
     "execution_count": 16,
     "metadata": {},
     "output_type": "execute_result"
    }
   ],
   "source": [
    "cipher('TikTok is additive',1)"
   ]
  },
  {
   "cell_type": "code",
   "execution_count": 17,
   "id": "65503db2",
   "metadata": {},
   "outputs": [],
   "source": [
    "@pytest.mark.parametrize(('example, expected'), [\n",
    "    ('QMSS', 'RNTT'), \n",
    "    ('cu', 'dv'), \n",
    "    ('Fu', 'Gv'), \n",
    "    ('TikTok is additive', 'UjlUpl jt beejujwf')])\n",
    "\n",
    "def test_cipher_exs(example, expected):\n",
    "    output = cipher(example, 1)\n",
    "    assert output == expected\n",
    "\n",
    "#!pytest -vv test_cipher.py::test_cipher_exs"
   ]
  },
  {
   "cell_type": "code",
   "execution_count": 18,
   "id": "18419003",
   "metadata": {},
   "outputs": [
    {
     "name": "stdout",
     "output_type": "stream",
     "text": [
      "\u001b[1m============================= test session starts ==============================\u001b[0m\n",
      "platform darwin -- Python 3.9.12, pytest-7.1.1, pluggy-1.0.0 -- /Users/jwfu/opt/anaconda3/bin/python\n",
      "cachedir: .pytest_cache\n",
      "rootdir: /Users/jwfu/Desktop/six\n",
      "plugins: anyio-3.5.0\n",
      "collected 4 items                                                              \u001b[0m\n",
      "\n",
      "test_cipher.py::test_cipher_exs[QMSS-RNTT] \u001b[32mPASSED\u001b[0m\u001b[32m                        [ 25%]\u001b[0m\n",
      "test_cipher.py::test_cipher_exs[cu-dv] \u001b[32mPASSED\u001b[0m\u001b[32m                            [ 50%]\u001b[0m\n",
      "test_cipher.py::test_cipher_exs[Fu-Gv] \u001b[32mPASSED\u001b[0m\u001b[32m                            [ 75%]\u001b[0m\n",
      "test_cipher.py::test_cipher_exs[TikTok is additive-UjlUpl jt beejujwf] \u001b[32mPASSED\u001b[0m\u001b[32m [100%]\u001b[0m\n",
      "\n",
      "\u001b[32m============================== \u001b[32m\u001b[1m4 passed\u001b[0m\u001b[32m in 0.42s\u001b[0m\u001b[32m ===============================\u001b[0m\n"
     ]
    }
   ],
   "source": [
    "!poetry run pytest test_cipher.py::test_cipher_exs -vv"
   ]
  },
  {
   "cell_type": "markdown",
   "id": "356b25a5",
   "metadata": {},
   "source": [
    "g) Write a simple integration-like test that relies on the fact that we can encrypt and decrypt a string using the\n",
    "function (using the `encrypt` parameter). That is, your test should start with a string, encrypt it, decrypt it, and\n",
    "then compare the result to the starting point. Set up a test that runs this for `shift` values from 1 to 10."
   ]
  },
  {
   "cell_type": "code",
   "execution_count": 19,
   "id": "43b5be4c",
   "metadata": {},
   "outputs": [],
   "source": [
    "def cipher(text, shift, encrypt=True):\n",
    "    alphabet = 'abcdefghijklmnopqrstuvwxyzABCDEFGHIJKLMNOPQRSTUVWXYZ'\n",
    "    new_text = ''\n",
    "    for c in text:\n",
    "        index = alphabet.find(c)\n",
    "        if index == -1:\n",
    "            new_text += c\n",
    "        else:\n",
    "            new_index = index + shift if encrypt == True else index - shift\n",
    "            new_index %= len(alphabet)\n",
    "            new_text += alphabet[new_index:new_index+1]\n",
    "    return new_text"
   ]
  },
  {
   "cell_type": "code",
   "execution_count": 36,
   "id": "ca4a5a59",
   "metadata": {},
   "outputs": [
    {
     "name": "stdout",
     "output_type": "stream",
     "text": [
      "\u001b[1m============================= test session starts ==============================\u001b[0m\n",
      "platform darwin -- Python 3.9.12, pytest-7.1.1, pluggy-1.0.0 -- /Users/jwfu/opt/anaconda3/bin/python\n",
      "cachedir: .pytest_cache\n",
      "rootdir: /Users/jwfu/Desktop/six\n",
      "plugins: anyio-3.5.0\n",
      "collected 10 items                                                             \u001b[0m\n",
      "\n",
      "test_cipher.py::test_cipher_dec[fu-1-gv] \u001b[32mPASSED\u001b[0m\u001b[32m                          [ 10%]\u001b[0m\n",
      "test_cipher.py::test_cipher_dec[fu-2-hw] \u001b[32mPASSED\u001b[0m\u001b[32m                          [ 20%]\u001b[0m\n",
      "test_cipher.py::test_cipher_dec[fu-3-ix] \u001b[32mPASSED\u001b[0m\u001b[32m                          [ 30%]\u001b[0m\n",
      "test_cipher.py::test_cipher_dec[fu-4-jy] \u001b[32mPASSED\u001b[0m\u001b[32m                          [ 40%]\u001b[0m\n",
      "test_cipher.py::test_cipher_dec[fu-5-kz] \u001b[32mPASSED\u001b[0m\u001b[32m                          [ 50%]\u001b[0m\n",
      "test_cipher.py::test_cipher_dec[fu-6-lA] \u001b[32mPASSED\u001b[0m\u001b[32m                          [ 60%]\u001b[0m\n",
      "test_cipher.py::test_cipher_dec[fu-7-mB] \u001b[32mPASSED\u001b[0m\u001b[32m                          [ 70%]\u001b[0m\n",
      "test_cipher.py::test_cipher_dec[fu-8-nC] \u001b[32mPASSED\u001b[0m\u001b[32m                          [ 80%]\u001b[0m\n",
      "test_cipher.py::test_cipher_dec[fu-9-oD] \u001b[32mPASSED\u001b[0m\u001b[32m                          [ 90%]\u001b[0m\n",
      "test_cipher.py::test_cipher_dec[fu-10-pE] \u001b[32mPASSED\u001b[0m\u001b[32m                         [100%]\u001b[0m\n",
      "\n",
      "\u001b[32m============================== \u001b[32m\u001b[1m10 passed\u001b[0m\u001b[32m in 0.31s\u001b[0m\u001b[32m ==============================\u001b[0m\n"
     ]
    }
   ],
   "source": [
    "@pytest.mark.parametrize(('example, shift, expected'), [('fu', 1, 'gv'), ('fu', 2, 'hw'), ('fu', 3, 'ix'), \n",
    "        ('fu',4, 'jy'), ('fu',5, 'kz'), ('fu',6, 'lA'), ('fu',7, 'mB'), \n",
    "        ('fu',8, 'nC'), ('fu',9, 'oD'), ('fu',10, 'pE')\n",
    "])\n",
    "def test_cipher_dec(example, shift, expected):\n",
    "    encrypted = cipher(example, shift)\n",
    "    decrypted = cipher(encrypted, shift, encrypt = False)\n",
    "    assert example == decrypted\n",
    "    \n",
    "# test_cipher_dec(example, shift, expected)\n",
    "!poetry run pytest test_cipher.py::test_cipher_dec -vv"
   ]
  }
 ],
 "metadata": {
  "kernelspec": {
   "display_name": "Python 3 (ipykernel)",
   "language": "python",
   "name": "python3"
  },
  "language_info": {
   "codemirror_mode": {
    "name": "ipython",
    "version": 3
   },
   "file_extension": ".py",
   "mimetype": "text/x-python",
   "name": "python",
   "nbconvert_exporter": "python",
   "pygments_lexer": "ipython3",
   "version": "3.9.12"
  }
 },
 "nbformat": 4,
 "nbformat_minor": 5
}
