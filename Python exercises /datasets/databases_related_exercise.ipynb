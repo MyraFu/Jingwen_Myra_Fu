{
 "cells": [
  {
   "cell_type": "markdown",
   "id": "42f031f4",
   "metadata": {},
   "source": [
    "# Databases"
   ]
  },
  {
   "cell_type": "markdown",
   "id": "b0639d7e",
   "metadata": {},
   "source": [
    "##### Jingwen Fu\n",
    "#### jf3483@columbia.edu"
   ]
  },
  {
   "cell_type": "markdown",
   "id": "181fd8aa",
   "metadata": {},
   "source": [
    "# 1. Peaks"
   ]
  },
  {
   "cell_type": "code",
   "execution_count": 1,
   "id": "fd6f401f",
   "metadata": {},
   "outputs": [
    {
     "data": {
      "text/html": [
       "<div>\n",
       "<style scoped>\n",
       "    .dataframe tbody tr th:only-of-type {\n",
       "        vertical-align: middle;\n",
       "    }\n",
       "\n",
       "    .dataframe tbody tr th {\n",
       "        vertical-align: top;\n",
       "    }\n",
       "\n",
       "    .dataframe thead th {\n",
       "        text-align: right;\n",
       "    }\n",
       "</style>\n",
       "<table border=\"1\" class=\"dataframe\">\n",
       "  <thead>\n",
       "    <tr style=\"text-align: right;\">\n",
       "      <th></th>\n",
       "      <th>peak_id</th>\n",
       "      <th>peak_name</th>\n",
       "      <th>peak_alternative_name</th>\n",
       "      <th>height_metres</th>\n",
       "      <th>climbing_status</th>\n",
       "      <th>first_ascent_year</th>\n",
       "      <th>first_ascent_country</th>\n",
       "      <th>first_ascent_expedition_id</th>\n",
       "    </tr>\n",
       "  </thead>\n",
       "  <tbody>\n",
       "    <tr>\n",
       "      <th>0</th>\n",
       "      <td>AMAD</td>\n",
       "      <td>Ama Dablam</td>\n",
       "      <td>Amai Dablang</td>\n",
       "      <td>6814</td>\n",
       "      <td>Climbed</td>\n",
       "      <td>1961.0</td>\n",
       "      <td>New Zealand, USA, UK</td>\n",
       "      <td>AMAD61101</td>\n",
       "    </tr>\n",
       "    <tr>\n",
       "      <th>1</th>\n",
       "      <td>AMPG</td>\n",
       "      <td>Amphu Gyabjen</td>\n",
       "      <td>NaN</td>\n",
       "      <td>5630</td>\n",
       "      <td>Climbed</td>\n",
       "      <td>1953.0</td>\n",
       "      <td>UK</td>\n",
       "      <td>AMPG53101</td>\n",
       "    </tr>\n",
       "    <tr>\n",
       "      <th>2</th>\n",
       "      <td>ANN1</td>\n",
       "      <td>Annapurna I</td>\n",
       "      <td>NaN</td>\n",
       "      <td>8091</td>\n",
       "      <td>Climbed</td>\n",
       "      <td>1950.0</td>\n",
       "      <td>France</td>\n",
       "      <td>ANN150101</td>\n",
       "    </tr>\n",
       "    <tr>\n",
       "      <th>3</th>\n",
       "      <td>ANN2</td>\n",
       "      <td>Annapurna II</td>\n",
       "      <td>NaN</td>\n",
       "      <td>7937</td>\n",
       "      <td>Climbed</td>\n",
       "      <td>1960.0</td>\n",
       "      <td>UK, Nepal</td>\n",
       "      <td>ANN260101</td>\n",
       "    </tr>\n",
       "    <tr>\n",
       "      <th>4</th>\n",
       "      <td>ANN3</td>\n",
       "      <td>Annapurna III</td>\n",
       "      <td>NaN</td>\n",
       "      <td>7555</td>\n",
       "      <td>Climbed</td>\n",
       "      <td>1961.0</td>\n",
       "      <td>India</td>\n",
       "      <td>ANN361101</td>\n",
       "    </tr>\n",
       "  </tbody>\n",
       "</table>\n",
       "</div>"
      ],
      "text/plain": [
       "  peak_id      peak_name peak_alternative_name  height_metres climbing_status  \\\n",
       "0    AMAD     Ama Dablam          Amai Dablang           6814         Climbed   \n",
       "1    AMPG  Amphu Gyabjen                   NaN           5630         Climbed   \n",
       "2    ANN1    Annapurna I                   NaN           8091         Climbed   \n",
       "3    ANN2   Annapurna II                   NaN           7937         Climbed   \n",
       "4    ANN3  Annapurna III                   NaN           7555         Climbed   \n",
       "\n",
       "   first_ascent_year  first_ascent_country first_ascent_expedition_id  \n",
       "0             1961.0  New Zealand, USA, UK                  AMAD61101  \n",
       "1             1953.0                    UK                  AMPG53101  \n",
       "2             1950.0                France                  ANN150101  \n",
       "3             1960.0             UK, Nepal                  ANN260101  \n",
       "4             1961.0                 India                  ANN361101  "
      ]
     },
     "execution_count": 1,
     "metadata": {},
     "output_type": "execute_result"
    }
   ],
   "source": [
    "import pandas as pd\n",
    "import numpy as np\n",
    "peaks = pd.read_csv(\"./peaks.csv\")\n",
    "peaks.head()"
   ]
  },
  {
   "cell_type": "markdown",
   "id": "50f113d2",
   "metadata": {},
   "source": [
    "### a. What proportion of peaks is still unclimbed?"
   ]
  },
  {
   "cell_type": "markdown",
   "id": "26dccaf5",
   "metadata": {},
   "source": [
    "##### method 1: ~27.1%"
   ]
  },
  {
   "cell_type": "code",
   "execution_count": 2,
   "id": "aedb3f8e",
   "metadata": {},
   "outputs": [
    {
     "data": {
      "text/plain": [
       "468"
      ]
     },
     "execution_count": 2,
     "metadata": {},
     "output_type": "execute_result"
    }
   ],
   "source": [
    "# totall number of peaks\n",
    "total_number = len(peaks)\n",
    "total_number"
   ]
  },
  {
   "cell_type": "code",
   "execution_count": 3,
   "id": "264491bd",
   "metadata": {},
   "outputs": [
    {
     "data": {
      "text/plain": [
       "127"
      ]
     },
     "execution_count": 3,
     "metadata": {},
     "output_type": "execute_result"
    }
   ],
   "source": [
    "# number of unclimbbed \n",
    "unclimbed = peaks[peaks['climbing_status'] == 'Unclimbed']\n",
    "unclimbed_number = len(unclimbed. axes[0])\n",
    "unclimbed_number"
   ]
  },
  {
   "cell_type": "code",
   "execution_count": 4,
   "id": "3db57d30",
   "metadata": {},
   "outputs": [
    {
     "data": {
      "text/plain": [
       "0.27136752136752135"
      ]
     },
     "execution_count": 4,
     "metadata": {},
     "output_type": "execute_result"
    }
   ],
   "source": [
    "# the answer for a) is ~ 27.1%\n",
    "unclimbed_number/total_number"
   ]
  },
  {
   "cell_type": "markdown",
   "id": "3b92cf7d",
   "metadata": {},
   "source": [
    "##### method 2: ~27.1%"
   ]
  },
  {
   "cell_type": "code",
   "execution_count": 5,
   "id": "5c4b802f",
   "metadata": {},
   "outputs": [
    {
     "data": {
      "text/plain": [
       "Climbed      0.728632\n",
       "Unclimbed    0.271368\n",
       "Name: climbing_status, dtype: float64"
      ]
     },
     "execution_count": 5,
     "metadata": {},
     "output_type": "execute_result"
    }
   ],
   "source": [
    "peaks.climbing_status.value_counts(normalize = 'unclimbed')"
   ]
  },
  {
   "cell_type": "markdown",
   "id": "fc837495",
   "metadata": {},
   "source": [
    "##### method 3: ~27.1%"
   ]
  },
  {
   "cell_type": "code",
   "execution_count": 6,
   "id": "3cf9882f",
   "metadata": {},
   "outputs": [
    {
     "data": {
      "text/plain": [
       "0.27136752136752135"
      ]
     },
     "execution_count": 6,
     "metadata": {},
     "output_type": "execute_result"
    }
   ],
   "source": [
    "np.where(peaks['climbing_status'] == 'Unclimbed', 1, 0).mean()"
   ]
  },
  {
   "cell_type": "markdown",
   "id": "6d7e96ab",
   "metadata": {},
   "source": [
    "##### method4"
   ]
  },
  {
   "cell_type": "code",
   "execution_count": 7,
   "id": "e4660e2c",
   "metadata": {},
   "outputs": [
    {
     "data": {
      "text/plain": [
       "Climbed      72.863248\n",
       "Unclimbed    27.136752\n",
       "Name: climbing_status, dtype: float64"
      ]
     },
     "execution_count": 7,
     "metadata": {},
     "output_type": "execute_result"
    }
   ],
   "source": [
    "# # Total number of peaks in the dataset\n",
    "num_peaks = peaks.shape[0]\n",
    "\n",
    "# # Proportions of peaks climbed vs. unclimbed, as percentages\n",
    "peaks['climbing_status'].value_counts().map(lambda x : x*100/num_peaks)"
   ]
  },
  {
   "cell_type": "markdown",
   "id": "4ab0379b",
   "metadata": {},
   "source": [
    "### b. What is the average height of the climbed peaks vs. unclimbed peaks?"
   ]
  },
  {
   "cell_type": "code",
   "execution_count": 8,
   "id": "fb37d66f",
   "metadata": {},
   "outputs": [
    {
     "data": {
      "text/html": [
       "<div>\n",
       "<style scoped>\n",
       "    .dataframe tbody tr th:only-of-type {\n",
       "        vertical-align: middle;\n",
       "    }\n",
       "\n",
       "    .dataframe tbody tr th {\n",
       "        vertical-align: top;\n",
       "    }\n",
       "\n",
       "    .dataframe thead th {\n",
       "        text-align: right;\n",
       "    }\n",
       "</style>\n",
       "<table border=\"1\" class=\"dataframe\">\n",
       "  <thead>\n",
       "    <tr style=\"text-align: right;\">\n",
       "      <th></th>\n",
       "      <th>height_metres</th>\n",
       "    </tr>\n",
       "    <tr>\n",
       "      <th>climbing_status</th>\n",
       "      <th></th>\n",
       "    </tr>\n",
       "  </thead>\n",
       "  <tbody>\n",
       "    <tr>\n",
       "      <th>Climbed</th>\n",
       "      <td>6706.284457</td>\n",
       "    </tr>\n",
       "    <tr>\n",
       "      <th>Unclimbed</th>\n",
       "      <td>6523.330709</td>\n",
       "    </tr>\n",
       "  </tbody>\n",
       "</table>\n",
       "</div>"
      ],
      "text/plain": [
       "                 height_metres\n",
       "climbing_status               \n",
       "Climbed            6706.284457\n",
       "Unclimbed          6523.330709"
      ]
     },
     "execution_count": 8,
     "metadata": {},
     "output_type": "execute_result"
    }
   ],
   "source": [
    "peaks[['climbing_status', 'height_metres']].groupby('climbing_status').mean()"
   ]
  },
  {
   "cell_type": "markdown",
   "id": "93be29db",
   "metadata": {},
   "source": [
    "# 2. Sherpas"
   ]
  },
  {
   "cell_type": "code",
   "execution_count": 9,
   "id": "a5f5775d",
   "metadata": {},
   "outputs": [
    {
     "data": {
      "text/html": [
       "<div>\n",
       "<style scoped>\n",
       "    .dataframe tbody tr th:only-of-type {\n",
       "        vertical-align: middle;\n",
       "    }\n",
       "\n",
       "    .dataframe tbody tr th {\n",
       "        vertical-align: top;\n",
       "    }\n",
       "\n",
       "    .dataframe thead th {\n",
       "        text-align: right;\n",
       "    }\n",
       "</style>\n",
       "<table border=\"1\" class=\"dataframe\">\n",
       "  <thead>\n",
       "    <tr style=\"text-align: right;\">\n",
       "      <th></th>\n",
       "      <th>expedition_id</th>\n",
       "      <th>member_id</th>\n",
       "      <th>peak_id</th>\n",
       "      <th>peak_name</th>\n",
       "      <th>year</th>\n",
       "      <th>season</th>\n",
       "      <th>sex</th>\n",
       "      <th>age</th>\n",
       "      <th>citizenship</th>\n",
       "      <th>expedition_role</th>\n",
       "      <th>...</th>\n",
       "      <th>highpoint_metres</th>\n",
       "      <th>success</th>\n",
       "      <th>solo</th>\n",
       "      <th>oxygen_used</th>\n",
       "      <th>died</th>\n",
       "      <th>death_cause</th>\n",
       "      <th>death_height_metres</th>\n",
       "      <th>injured</th>\n",
       "      <th>injury_type</th>\n",
       "      <th>injury_height_metres</th>\n",
       "    </tr>\n",
       "  </thead>\n",
       "  <tbody>\n",
       "    <tr>\n",
       "      <th>0</th>\n",
       "      <td>AMAD78301</td>\n",
       "      <td>AMAD78301-01</td>\n",
       "      <td>AMAD</td>\n",
       "      <td>Ama Dablam</td>\n",
       "      <td>1978</td>\n",
       "      <td>Autumn</td>\n",
       "      <td>M</td>\n",
       "      <td>40.0</td>\n",
       "      <td>France</td>\n",
       "      <td>Leader</td>\n",
       "      <td>...</td>\n",
       "      <td>NaN</td>\n",
       "      <td>False</td>\n",
       "      <td>False</td>\n",
       "      <td>False</td>\n",
       "      <td>False</td>\n",
       "      <td>NaN</td>\n",
       "      <td>NaN</td>\n",
       "      <td>False</td>\n",
       "      <td>NaN</td>\n",
       "      <td>NaN</td>\n",
       "    </tr>\n",
       "    <tr>\n",
       "      <th>1</th>\n",
       "      <td>AMAD78301</td>\n",
       "      <td>AMAD78301-02</td>\n",
       "      <td>AMAD</td>\n",
       "      <td>Ama Dablam</td>\n",
       "      <td>1978</td>\n",
       "      <td>Autumn</td>\n",
       "      <td>M</td>\n",
       "      <td>41.0</td>\n",
       "      <td>France</td>\n",
       "      <td>Deputy Leader</td>\n",
       "      <td>...</td>\n",
       "      <td>6000.0</td>\n",
       "      <td>False</td>\n",
       "      <td>False</td>\n",
       "      <td>False</td>\n",
       "      <td>False</td>\n",
       "      <td>NaN</td>\n",
       "      <td>NaN</td>\n",
       "      <td>False</td>\n",
       "      <td>NaN</td>\n",
       "      <td>NaN</td>\n",
       "    </tr>\n",
       "    <tr>\n",
       "      <th>2</th>\n",
       "      <td>AMAD78301</td>\n",
       "      <td>AMAD78301-03</td>\n",
       "      <td>AMAD</td>\n",
       "      <td>Ama Dablam</td>\n",
       "      <td>1978</td>\n",
       "      <td>Autumn</td>\n",
       "      <td>M</td>\n",
       "      <td>27.0</td>\n",
       "      <td>France</td>\n",
       "      <td>Climber</td>\n",
       "      <td>...</td>\n",
       "      <td>NaN</td>\n",
       "      <td>False</td>\n",
       "      <td>False</td>\n",
       "      <td>False</td>\n",
       "      <td>False</td>\n",
       "      <td>NaN</td>\n",
       "      <td>NaN</td>\n",
       "      <td>False</td>\n",
       "      <td>NaN</td>\n",
       "      <td>NaN</td>\n",
       "    </tr>\n",
       "    <tr>\n",
       "      <th>3</th>\n",
       "      <td>AMAD78301</td>\n",
       "      <td>AMAD78301-04</td>\n",
       "      <td>AMAD</td>\n",
       "      <td>Ama Dablam</td>\n",
       "      <td>1978</td>\n",
       "      <td>Autumn</td>\n",
       "      <td>M</td>\n",
       "      <td>40.0</td>\n",
       "      <td>France</td>\n",
       "      <td>Exp Doctor</td>\n",
       "      <td>...</td>\n",
       "      <td>6000.0</td>\n",
       "      <td>False</td>\n",
       "      <td>False</td>\n",
       "      <td>False</td>\n",
       "      <td>False</td>\n",
       "      <td>NaN</td>\n",
       "      <td>NaN</td>\n",
       "      <td>False</td>\n",
       "      <td>NaN</td>\n",
       "      <td>NaN</td>\n",
       "    </tr>\n",
       "    <tr>\n",
       "      <th>4</th>\n",
       "      <td>AMAD78301</td>\n",
       "      <td>AMAD78301-05</td>\n",
       "      <td>AMAD</td>\n",
       "      <td>Ama Dablam</td>\n",
       "      <td>1978</td>\n",
       "      <td>Autumn</td>\n",
       "      <td>M</td>\n",
       "      <td>34.0</td>\n",
       "      <td>France</td>\n",
       "      <td>Climber</td>\n",
       "      <td>...</td>\n",
       "      <td>NaN</td>\n",
       "      <td>False</td>\n",
       "      <td>False</td>\n",
       "      <td>False</td>\n",
       "      <td>False</td>\n",
       "      <td>NaN</td>\n",
       "      <td>NaN</td>\n",
       "      <td>False</td>\n",
       "      <td>NaN</td>\n",
       "      <td>NaN</td>\n",
       "    </tr>\n",
       "  </tbody>\n",
       "</table>\n",
       "<p>5 rows × 21 columns</p>\n",
       "</div>"
      ],
      "text/plain": [
       "  expedition_id     member_id peak_id   peak_name  year  season sex   age  \\\n",
       "0     AMAD78301  AMAD78301-01    AMAD  Ama Dablam  1978  Autumn   M  40.0   \n",
       "1     AMAD78301  AMAD78301-02    AMAD  Ama Dablam  1978  Autumn   M  41.0   \n",
       "2     AMAD78301  AMAD78301-03    AMAD  Ama Dablam  1978  Autumn   M  27.0   \n",
       "3     AMAD78301  AMAD78301-04    AMAD  Ama Dablam  1978  Autumn   M  40.0   \n",
       "4     AMAD78301  AMAD78301-05    AMAD  Ama Dablam  1978  Autumn   M  34.0   \n",
       "\n",
       "  citizenship expedition_role  ...  highpoint_metres  success   solo  \\\n",
       "0      France          Leader  ...               NaN    False  False   \n",
       "1      France   Deputy Leader  ...            6000.0    False  False   \n",
       "2      France         Climber  ...               NaN    False  False   \n",
       "3      France      Exp Doctor  ...            6000.0    False  False   \n",
       "4      France         Climber  ...               NaN    False  False   \n",
       "\n",
       "   oxygen_used   died  death_cause death_height_metres  injured  injury_type  \\\n",
       "0        False  False          NaN                 NaN    False          NaN   \n",
       "1        False  False          NaN                 NaN    False          NaN   \n",
       "2        False  False          NaN                 NaN    False          NaN   \n",
       "3        False  False          NaN                 NaN    False          NaN   \n",
       "4        False  False          NaN                 NaN    False          NaN   \n",
       "\n",
       "  injury_height_metres  \n",
       "0                  NaN  \n",
       "1                  NaN  \n",
       "2                  NaN  \n",
       "3                  NaN  \n",
       "4                  NaN  \n",
       "\n",
       "[5 rows x 21 columns]"
      ]
     },
     "execution_count": 9,
     "metadata": {},
     "output_type": "execute_result"
    }
   ],
   "source": [
    "members = pd.read_csv(\"./members.csv\")\n",
    "members.head()"
   ]
  },
  {
   "cell_type": "markdown",
   "id": "cc2f5d75",
   "metadata": {},
   "source": [
    "### select a subset of all persons who have a Nepalese citizenship"
   ]
  },
  {
   "cell_type": "code",
   "execution_count": 10,
   "id": "3e03ad07",
   "metadata": {},
   "outputs": [
    {
     "data": {
      "text/html": [
       "<div>\n",
       "<style scoped>\n",
       "    .dataframe tbody tr th:only-of-type {\n",
       "        vertical-align: middle;\n",
       "    }\n",
       "\n",
       "    .dataframe tbody tr th {\n",
       "        vertical-align: top;\n",
       "    }\n",
       "\n",
       "    .dataframe thead th {\n",
       "        text-align: right;\n",
       "    }\n",
       "</style>\n",
       "<table border=\"1\" class=\"dataframe\">\n",
       "  <thead>\n",
       "    <tr style=\"text-align: right;\">\n",
       "      <th></th>\n",
       "      <th>expedition_id</th>\n",
       "      <th>member_id</th>\n",
       "      <th>peak_id</th>\n",
       "      <th>peak_name</th>\n",
       "      <th>year</th>\n",
       "      <th>season</th>\n",
       "      <th>sex</th>\n",
       "      <th>age</th>\n",
       "      <th>citizenship</th>\n",
       "      <th>expedition_role</th>\n",
       "      <th>...</th>\n",
       "      <th>highpoint_metres</th>\n",
       "      <th>success</th>\n",
       "      <th>solo</th>\n",
       "      <th>oxygen_used</th>\n",
       "      <th>died</th>\n",
       "      <th>death_cause</th>\n",
       "      <th>death_height_metres</th>\n",
       "      <th>injured</th>\n",
       "      <th>injury_type</th>\n",
       "      <th>injury_height_metres</th>\n",
       "    </tr>\n",
       "  </thead>\n",
       "  <tbody>\n",
       "    <tr>\n",
       "      <th>24</th>\n",
       "      <td>AMAD79101</td>\n",
       "      <td>AMAD79101-18</td>\n",
       "      <td>AMAD</td>\n",
       "      <td>Ama Dablam</td>\n",
       "      <td>1979</td>\n",
       "      <td>Spring</td>\n",
       "      <td>M</td>\n",
       "      <td>23.0</td>\n",
       "      <td>Nepal</td>\n",
       "      <td>H-A Worker</td>\n",
       "      <td>...</td>\n",
       "      <td>6814.0</td>\n",
       "      <td>True</td>\n",
       "      <td>False</td>\n",
       "      <td>False</td>\n",
       "      <td>False</td>\n",
       "      <td>NaN</td>\n",
       "      <td>NaN</td>\n",
       "      <td>False</td>\n",
       "      <td>NaN</td>\n",
       "      <td>NaN</td>\n",
       "    </tr>\n",
       "    <tr>\n",
       "      <th>48</th>\n",
       "      <td>AMAD79301</td>\n",
       "      <td>AMAD79301-26</td>\n",
       "      <td>AMAD</td>\n",
       "      <td>Ama Dablam</td>\n",
       "      <td>1979</td>\n",
       "      <td>Autumn</td>\n",
       "      <td>M</td>\n",
       "      <td>NaN</td>\n",
       "      <td>Nepal</td>\n",
       "      <td>H-A Worker</td>\n",
       "      <td>...</td>\n",
       "      <td>6814.0</td>\n",
       "      <td>True</td>\n",
       "      <td>False</td>\n",
       "      <td>False</td>\n",
       "      <td>False</td>\n",
       "      <td>NaN</td>\n",
       "      <td>NaN</td>\n",
       "      <td>False</td>\n",
       "      <td>NaN</td>\n",
       "      <td>NaN</td>\n",
       "    </tr>\n",
       "    <tr>\n",
       "      <th>49</th>\n",
       "      <td>AMAD79301</td>\n",
       "      <td>AMAD79301-24</td>\n",
       "      <td>AMAD</td>\n",
       "      <td>Ama Dablam</td>\n",
       "      <td>1979</td>\n",
       "      <td>Autumn</td>\n",
       "      <td>M</td>\n",
       "      <td>NaN</td>\n",
       "      <td>Nepal</td>\n",
       "      <td>H-A Worker</td>\n",
       "      <td>...</td>\n",
       "      <td>6814.0</td>\n",
       "      <td>True</td>\n",
       "      <td>False</td>\n",
       "      <td>False</td>\n",
       "      <td>False</td>\n",
       "      <td>NaN</td>\n",
       "      <td>NaN</td>\n",
       "      <td>False</td>\n",
       "      <td>NaN</td>\n",
       "      <td>NaN</td>\n",
       "    </tr>\n",
       "    <tr>\n",
       "      <th>50</th>\n",
       "      <td>AMAD79301</td>\n",
       "      <td>AMAD79301-25</td>\n",
       "      <td>AMAD</td>\n",
       "      <td>Ama Dablam</td>\n",
       "      <td>1979</td>\n",
       "      <td>Autumn</td>\n",
       "      <td>M</td>\n",
       "      <td>NaN</td>\n",
       "      <td>Nepal</td>\n",
       "      <td>H-A Worker</td>\n",
       "      <td>...</td>\n",
       "      <td>6814.0</td>\n",
       "      <td>True</td>\n",
       "      <td>False</td>\n",
       "      <td>False</td>\n",
       "      <td>False</td>\n",
       "      <td>NaN</td>\n",
       "      <td>NaN</td>\n",
       "      <td>False</td>\n",
       "      <td>NaN</td>\n",
       "      <td>NaN</td>\n",
       "    </tr>\n",
       "    <tr>\n",
       "      <th>82</th>\n",
       "      <td>AMAD81101</td>\n",
       "      <td>AMAD81101-11</td>\n",
       "      <td>AMAD</td>\n",
       "      <td>Ama Dablam</td>\n",
       "      <td>1981</td>\n",
       "      <td>Spring</td>\n",
       "      <td>M</td>\n",
       "      <td>25.0</td>\n",
       "      <td>Nepal</td>\n",
       "      <td>H-A Worker</td>\n",
       "      <td>...</td>\n",
       "      <td>6814.0</td>\n",
       "      <td>True</td>\n",
       "      <td>False</td>\n",
       "      <td>False</td>\n",
       "      <td>False</td>\n",
       "      <td>NaN</td>\n",
       "      <td>NaN</td>\n",
       "      <td>False</td>\n",
       "      <td>NaN</td>\n",
       "      <td>NaN</td>\n",
       "    </tr>\n",
       "  </tbody>\n",
       "</table>\n",
       "<p>5 rows × 21 columns</p>\n",
       "</div>"
      ],
      "text/plain": [
       "   expedition_id     member_id peak_id   peak_name  year  season sex   age  \\\n",
       "24     AMAD79101  AMAD79101-18    AMAD  Ama Dablam  1979  Spring   M  23.0   \n",
       "48     AMAD79301  AMAD79301-26    AMAD  Ama Dablam  1979  Autumn   M   NaN   \n",
       "49     AMAD79301  AMAD79301-24    AMAD  Ama Dablam  1979  Autumn   M   NaN   \n",
       "50     AMAD79301  AMAD79301-25    AMAD  Ama Dablam  1979  Autumn   M   NaN   \n",
       "82     AMAD81101  AMAD81101-11    AMAD  Ama Dablam  1981  Spring   M  25.0   \n",
       "\n",
       "   citizenship expedition_role  ...  highpoint_metres  success   solo  \\\n",
       "24       Nepal      H-A Worker  ...            6814.0     True  False   \n",
       "48       Nepal      H-A Worker  ...            6814.0     True  False   \n",
       "49       Nepal      H-A Worker  ...            6814.0     True  False   \n",
       "50       Nepal      H-A Worker  ...            6814.0     True  False   \n",
       "82       Nepal      H-A Worker  ...            6814.0     True  False   \n",
       "\n",
       "    oxygen_used   died  death_cause death_height_metres  injured  injury_type  \\\n",
       "24        False  False          NaN                 NaN    False          NaN   \n",
       "48        False  False          NaN                 NaN    False          NaN   \n",
       "49        False  False          NaN                 NaN    False          NaN   \n",
       "50        False  False          NaN                 NaN    False          NaN   \n",
       "82        False  False          NaN                 NaN    False          NaN   \n",
       "\n",
       "   injury_height_metres  \n",
       "24                  NaN  \n",
       "48                  NaN  \n",
       "49                  NaN  \n",
       "50                  NaN  \n",
       "82                  NaN  \n",
       "\n",
       "[5 rows x 21 columns]"
      ]
     },
     "execution_count": 10,
     "metadata": {},
     "output_type": "execute_result"
    }
   ],
   "source": [
    "nepalese_only = members[members['citizenship'] == 'Nepal']\n",
    "nepalese_only.head()\n",
    "\n",
    "#OR: Nepalese_only = members[members['citizenship'].str.contains('Nepal').fillna(False)]"
   ]
  },
  {
   "cell_type": "markdown",
   "id": "bf7c2490",
   "metadata": {},
   "source": [
    "### a. What proportion of them was hired for the expedition?"
   ]
  },
  {
   "cell_type": "markdown",
   "id": "0bb9452b",
   "metadata": {},
   "source": [
    "#### method 1: ~93.4%"
   ]
  },
  {
   "cell_type": "code",
   "execution_count": 11,
   "id": "0afe94cb",
   "metadata": {},
   "outputs": [
    {
     "data": {
      "text/plain": [
       "True     0.934056\n",
       "False    0.065944\n",
       "Name: hired, dtype: float64"
      ]
     },
     "execution_count": 11,
     "metadata": {},
     "output_type": "execute_result"
    }
   ],
   "source": [
    "nepalese_only.hired.value_counts(normalize = True)"
   ]
  },
  {
   "cell_type": "markdown",
   "id": "0a92bdaa",
   "metadata": {},
   "source": [
    "#### method 2: ~ 93.4%"
   ]
  },
  {
   "cell_type": "code",
   "execution_count": 12,
   "id": "cf5ee728",
   "metadata": {},
   "outputs": [
    {
     "data": {
      "text/plain": [
       "16135"
      ]
     },
     "execution_count": 12,
     "metadata": {},
     "output_type": "execute_result"
    }
   ],
   "source": [
    "nepal_members = len(nepalese_only)\n",
    "nepal_members"
   ]
  },
  {
   "cell_type": "code",
   "execution_count": 13,
   "id": "18dc2664",
   "metadata": {},
   "outputs": [
    {
     "data": {
      "text/plain": [
       "15071"
      ]
     },
     "execution_count": 13,
     "metadata": {},
     "output_type": "execute_result"
    }
   ],
   "source": [
    "hired_t = nepalese_only[nepalese_only['hired'] == True ]\n",
    "hired_t_number = len(hired_t. axes[0])\n",
    "hired_t_number"
   ]
  },
  {
   "cell_type": "code",
   "execution_count": 14,
   "id": "dd09b7a1",
   "metadata": {},
   "outputs": [
    {
     "data": {
      "text/plain": [
       "0.9340563991323211"
      ]
     },
     "execution_count": 14,
     "metadata": {},
     "output_type": "execute_result"
    }
   ],
   "source": [
    "hired_t_number/nepal_members"
   ]
  },
  {
   "cell_type": "markdown",
   "id": "67d45700",
   "metadata": {},
   "source": [
    "##### method 3: ~93.4%"
   ]
  },
  {
   "cell_type": "code",
   "execution_count": 15,
   "id": "f86c34b1",
   "metadata": {},
   "outputs": [
    {
     "data": {
      "text/plain": [
       "0.9340563991323211"
      ]
     },
     "execution_count": 15,
     "metadata": {},
     "output_type": "execute_result"
    }
   ],
   "source": [
    "np.where(nepalese_only['hired'] == True, 1, 0).mean()"
   ]
  },
  {
   "cell_type": "markdown",
   "id": "5619eb6d",
   "metadata": {},
   "source": [
    "##### method 4: ~93.4%"
   ]
  },
  {
   "cell_type": "code",
   "execution_count": 16,
   "id": "a90526c1",
   "metadata": {},
   "outputs": [
    {
     "data": {
      "text/plain": [
       "True     93.40564\n",
       "False     6.59436\n",
       "Name: hired, dtype: float64"
      ]
     },
     "execution_count": 16,
     "metadata": {},
     "output_type": "execute_result"
    }
   ],
   "source": [
    "# Total number of members who have a Nepalese citizenship\n",
    "num_Nepal = nepalese_only.shape[0]\n",
    "\n",
    "# Proportions of Nepalese members hired vs. not hired, as percentages\n",
    "nepalese_only['hired'].value_counts().map(lambda x : x*100/num_Nepal)"
   ]
  },
  {
   "cell_type": "markdown",
   "id": "160b22fe",
   "metadata": {},
   "source": [
    "### b. What are their minimum, maximum, and average ages?"
   ]
  },
  {
   "cell_type": "code",
   "execution_count": 17,
   "id": "b50c931e",
   "metadata": {
    "scrolled": true
   },
   "outputs": [
    {
     "data": {
      "text/html": [
       "<div>\n",
       "<style scoped>\n",
       "    .dataframe tbody tr th:only-of-type {\n",
       "        vertical-align: middle;\n",
       "    }\n",
       "\n",
       "    .dataframe tbody tr th {\n",
       "        vertical-align: top;\n",
       "    }\n",
       "\n",
       "    .dataframe thead tr th {\n",
       "        text-align: left;\n",
       "    }\n",
       "\n",
       "    .dataframe thead tr:last-of-type th {\n",
       "        text-align: right;\n",
       "    }\n",
       "</style>\n",
       "<table border=\"1\" class=\"dataframe\">\n",
       "  <thead>\n",
       "    <tr>\n",
       "      <th></th>\n",
       "      <th colspan=\"3\" halign=\"left\">age</th>\n",
       "    </tr>\n",
       "    <tr>\n",
       "      <th></th>\n",
       "      <th>min</th>\n",
       "      <th>max</th>\n",
       "      <th>mean</th>\n",
       "    </tr>\n",
       "    <tr>\n",
       "      <th>hired</th>\n",
       "      <th></th>\n",
       "      <th></th>\n",
       "      <th></th>\n",
       "    </tr>\n",
       "  </thead>\n",
       "  <tbody>\n",
       "    <tr>\n",
       "      <th>False</th>\n",
       "      <td>12.0</td>\n",
       "      <td>85.0</td>\n",
       "      <td>32.538542</td>\n",
       "    </tr>\n",
       "    <tr>\n",
       "      <th>True</th>\n",
       "      <td>15.0</td>\n",
       "      <td>67.0</td>\n",
       "      <td>32.909864</td>\n",
       "    </tr>\n",
       "  </tbody>\n",
       "</table>\n",
       "</div>"
      ],
      "text/plain": [
       "        age                 \n",
       "        min   max       mean\n",
       "hired                       \n",
       "False  12.0  85.0  32.538542\n",
       "True   15.0  67.0  32.909864"
      ]
     },
     "execution_count": 17,
     "metadata": {},
     "output_type": "execute_result"
    }
   ],
   "source": [
    "nepalese_only[['hired', 'age']].groupby('hired').agg(['min', 'max', 'mean'])"
   ]
  },
  {
   "cell_type": "code",
   "execution_count": 18,
   "id": "1fd5effc",
   "metadata": {},
   "outputs": [
    {
     "data": {
      "text/plain": [
       "min     12.000000\n",
       "max     85.000000\n",
       "mean    32.885062\n",
       "Name: age, dtype: float64"
      ]
     },
     "execution_count": 18,
     "metadata": {},
     "output_type": "execute_result"
    }
   ],
   "source": [
    "# the min. is. 12; max. = 85; mean = 32.885\n",
    "nepalese_only['age'].agg(['min', 'max', 'mean'])"
   ]
  },
  {
   "cell_type": "code",
   "execution_count": 19,
   "id": "ee0d5ea2",
   "metadata": {},
   "outputs": [
    {
     "data": {
      "text/plain": [
       "count    14373.000000\n",
       "mean        32.885062\n",
       "std          7.746973\n",
       "min         12.000000\n",
       "25%         27.000000\n",
       "50%         32.000000\n",
       "75%         38.000000\n",
       "max         85.000000\n",
       "Name: age, dtype: float64"
      ]
     },
     "execution_count": 19,
     "metadata": {},
     "output_type": "execute_result"
    }
   ],
   "source": [
    "# OR\n",
    "# Descriptive statistics for column 'age' of Nepalese members\n",
    "nepalese_only['age'].describe()"
   ]
  },
  {
   "cell_type": "markdown",
   "id": "093c19f5",
   "metadata": {},
   "source": [
    "# 3. Gender"
   ]
  },
  {
   "cell_type": "code",
   "execution_count": 20,
   "id": "d2648de3",
   "metadata": {},
   "outputs": [],
   "source": [
    "# Loading expeditions.csv as expeditions\n",
    "expeditions = pd.read_csv(\"./expeditions.csv\")"
   ]
  },
  {
   "cell_type": "code",
   "execution_count": 21,
   "id": "a5bb23cf",
   "metadata": {},
   "outputs": [
    {
     "data": {
      "text/plain": [
       "Index(['expedition_id', 'peak_id', 'peak_name', 'year', 'season',\n",
       "       'basecamp_date', 'highpoint_date', 'termination_date',\n",
       "       'termination_reason', 'highpoint_metres', 'members', 'member_deaths',\n",
       "       'hired_staff', 'hired_staff_deaths', 'oxygen_used', 'trekking_agency'],\n",
       "      dtype='object')"
      ]
     },
     "execution_count": 21,
     "metadata": {},
     "output_type": "execute_result"
    }
   ],
   "source": [
    "expeditions.columns"
   ]
  },
  {
   "cell_type": "code",
   "execution_count": 22,
   "id": "8c3422fd",
   "metadata": {},
   "outputs": [
    {
     "data": {
      "text/plain": [
       "Index(['peak_id', 'peak_name', 'peak_alternative_name', 'height_metres',\n",
       "       'climbing_status', 'first_ascent_year', 'first_ascent_country',\n",
       "       'first_ascent_expedition_id'],\n",
       "      dtype='object')"
      ]
     },
     "execution_count": 22,
     "metadata": {},
     "output_type": "execute_result"
    }
   ],
   "source": [
    "peaks.columns"
   ]
  },
  {
   "cell_type": "code",
   "execution_count": 23,
   "id": "cd4d49e9",
   "metadata": {},
   "outputs": [],
   "source": [
    "two_datasets = pd.merge(peaks, expeditions, how = 'left', on = ['peak_id', 'peak_name'])"
   ]
  },
  {
   "cell_type": "code",
   "execution_count": 24,
   "id": "d41d6557",
   "metadata": {},
   "outputs": [],
   "source": [
    "non_hired_members = members[members['hired'] == False ]"
   ]
  },
  {
   "cell_type": "code",
   "execution_count": 25,
   "id": "ba08a08a",
   "metadata": {},
   "outputs": [
    {
     "data": {
      "text/plain": [
       "Index(['peak_id', 'peak_name', 'peak_alternative_name', 'height_metres',\n",
       "       'climbing_status', 'first_ascent_year', 'first_ascent_country',\n",
       "       'first_ascent_expedition_id', 'expedition_id', 'year', 'season',\n",
       "       'basecamp_date', 'highpoint_date', 'termination_date',\n",
       "       'termination_reason', 'highpoint_metres', 'members', 'member_deaths',\n",
       "       'hired_staff', 'hired_staff_deaths', 'oxygen_used', 'trekking_agency'],\n",
       "      dtype='object')"
      ]
     },
     "execution_count": 25,
     "metadata": {},
     "output_type": "execute_result"
    }
   ],
   "source": [
    "two_datasets.columns"
   ]
  },
  {
   "cell_type": "code",
   "execution_count": 26,
   "id": "08c163af",
   "metadata": {},
   "outputs": [
    {
     "data": {
      "text/plain": [
       "Index(['expedition_id', 'member_id', 'peak_id', 'peak_name', 'year', 'season',\n",
       "       'sex', 'age', 'citizenship', 'expedition_role', 'hired',\n",
       "       'highpoint_metres', 'success', 'solo', 'oxygen_used', 'died',\n",
       "       'death_cause', 'death_height_metres', 'injured', 'injury_type',\n",
       "       'injury_height_metres'],\n",
       "      dtype='object')"
      ]
     },
     "execution_count": 26,
     "metadata": {},
     "output_type": "execute_result"
    }
   ],
   "source": [
    "non_hired_members.columns"
   ]
  },
  {
   "cell_type": "code",
   "execution_count": 27,
   "id": "fe92c711",
   "metadata": {},
   "outputs": [],
   "source": [
    "three_datasets = pd.merge(two_datasets, non_hired_members, how = 'left', on = ['peak_id', 'peak_name', \n",
    "                                                                               'expedition_id', 'year', 'season', \n",
    "                                                                               'highpoint_metres', 'oxygen_used'])\n"
   ]
  },
  {
   "cell_type": "code",
   "execution_count": 28,
   "id": "cb41ab21",
   "metadata": {},
   "outputs": [
    {
     "data": {
      "text/plain": [
       "Index(['peak_id', 'peak_name', 'peak_alternative_name', 'height_metres',\n",
       "       'climbing_status', 'first_ascent_year', 'first_ascent_country',\n",
       "       'first_ascent_expedition_id', 'expedition_id', 'year', 'season',\n",
       "       'basecamp_date', 'highpoint_date', 'termination_date',\n",
       "       'termination_reason', 'highpoint_metres', 'members', 'member_deaths',\n",
       "       'hired_staff', 'hired_staff_deaths', 'oxygen_used', 'trekking_agency',\n",
       "       'member_id', 'sex', 'age', 'citizenship', 'expedition_role', 'hired',\n",
       "       'success', 'solo', 'died', 'death_cause', 'death_height_metres',\n",
       "       'injured', 'injury_type', 'injury_height_metres'],\n",
       "      dtype='object')"
      ]
     },
     "execution_count": 28,
     "metadata": {},
     "output_type": "execute_result"
    }
   ],
   "source": [
    "three_datasets.columns"
   ]
  },
  {
   "cell_type": "code",
   "execution_count": 29,
   "id": "2a87d922",
   "metadata": {},
   "outputs": [],
   "source": [
    "# **OR**:\n",
    "# Combine three data sets as Himalayan\n",
    "# Himalayan = pd.merge(pd.merge(peaks, expeditions, on=[\"peak_id\", \"peak_name\"]), members, on=[\"peak_id\", \"peak_name\", \"expedition_id\", \"year\", \"season\"])\n",
    "\n",
    "# Checking list of columns in Himalayan\n",
    "# _x refers to variables from expeditions.csv, _y refers to variables from members.csv\n",
    "# list(Himalayan.columns.values)\n",
    "\n",
    "# Selecting a subset of non-hired participants\n",
    "# non_hired = Himalayan[Himalayan['hired'] == False]\n",
    "\n",
    "#a:\n",
    "# Selecting a subset of non-hired participants - women who succeeded in summitting a peak\n",
    "# non_hired_female = non_hired.query('sex == \"F\" & success == True')\n",
    "\n",
    "# Sorting the subset by earliest date of summitting a peak\n",
    "# non_hired_female.sort_values('highpoint_date')\n",
    "\n",
    "#b:\n",
    "# Creating a single cross-tab table, ct, with the above three columns (converting mean boolean values to percentages)\n",
    "# ct = non_hired[['sex', 'success','oxygen_used_y','died']].groupby('sex').agg(lambda x: (x.mean()) * 100)\n",
    "\n",
    "# Renaming the columns for clarity\n",
    "# ct.columns = ['% participants success in summitting', '% participants using oxygen support', '% participants who died']\n",
    "# ct"
   ]
  },
  {
   "cell_type": "markdown",
   "id": "3e539a65",
   "metadata": {},
   "source": [
    "### a) What is the first record of a woman summitting a peak? Which peak (name and height in meters) was that?"
   ]
  },
  {
   "cell_type": "code",
   "execution_count": 30,
   "id": "4676894e",
   "metadata": {},
   "outputs": [
    {
     "data": {
      "text/html": [
       "<div>\n",
       "<style scoped>\n",
       "    .dataframe tbody tr th:only-of-type {\n",
       "        vertical-align: middle;\n",
       "    }\n",
       "\n",
       "    .dataframe tbody tr th {\n",
       "        vertical-align: top;\n",
       "    }\n",
       "\n",
       "    .dataframe thead th {\n",
       "        text-align: right;\n",
       "    }\n",
       "</style>\n",
       "<table border=\"1\" class=\"dataframe\">\n",
       "  <thead>\n",
       "    <tr style=\"text-align: right;\">\n",
       "      <th></th>\n",
       "      <th>peak_id</th>\n",
       "      <th>peak_name</th>\n",
       "      <th>peak_alternative_name</th>\n",
       "      <th>height_metres</th>\n",
       "      <th>climbing_status</th>\n",
       "      <th>first_ascent_year</th>\n",
       "      <th>first_ascent_country</th>\n",
       "      <th>first_ascent_expedition_id</th>\n",
       "      <th>expedition_id</th>\n",
       "      <th>year</th>\n",
       "      <th>...</th>\n",
       "      <th>expedition_role</th>\n",
       "      <th>hired</th>\n",
       "      <th>success</th>\n",
       "      <th>solo</th>\n",
       "      <th>died</th>\n",
       "      <th>death_cause</th>\n",
       "      <th>death_height_metres</th>\n",
       "      <th>injured</th>\n",
       "      <th>injury_type</th>\n",
       "      <th>injury_height_metres</th>\n",
       "    </tr>\n",
       "  </thead>\n",
       "  <tbody>\n",
       "    <tr>\n",
       "      <th>16</th>\n",
       "      <td>AMAD</td>\n",
       "      <td>Ama Dablam</td>\n",
       "      <td>Amai Dablang</td>\n",
       "      <td>6814</td>\n",
       "      <td>Climbed</td>\n",
       "      <td>1961.0</td>\n",
       "      <td>New Zealand, USA, UK</td>\n",
       "      <td>AMAD61101</td>\n",
       "      <td>AMAD88402</td>\n",
       "      <td>1988.0</td>\n",
       "      <td>...</td>\n",
       "      <td>Climber</td>\n",
       "      <td>False</td>\n",
       "      <td>True</td>\n",
       "      <td>False</td>\n",
       "      <td>False</td>\n",
       "      <td>NaN</td>\n",
       "      <td>NaN</td>\n",
       "      <td>False</td>\n",
       "      <td>NaN</td>\n",
       "      <td>NaN</td>\n",
       "    </tr>\n",
       "    <tr>\n",
       "      <th>18</th>\n",
       "      <td>AMAD</td>\n",
       "      <td>Ama Dablam</td>\n",
       "      <td>Amai Dablang</td>\n",
       "      <td>6814</td>\n",
       "      <td>Climbed</td>\n",
       "      <td>1961.0</td>\n",
       "      <td>New Zealand, USA, UK</td>\n",
       "      <td>AMAD61101</td>\n",
       "      <td>AMAD83301</td>\n",
       "      <td>1983.0</td>\n",
       "      <td>...</td>\n",
       "      <td>Climber</td>\n",
       "      <td>False</td>\n",
       "      <td>True</td>\n",
       "      <td>False</td>\n",
       "      <td>False</td>\n",
       "      <td>NaN</td>\n",
       "      <td>NaN</td>\n",
       "      <td>False</td>\n",
       "      <td>NaN</td>\n",
       "      <td>NaN</td>\n",
       "    </tr>\n",
       "    <tr>\n",
       "      <th>27</th>\n",
       "      <td>AMAD</td>\n",
       "      <td>Ama Dablam</td>\n",
       "      <td>Amai Dablang</td>\n",
       "      <td>6814</td>\n",
       "      <td>Climbed</td>\n",
       "      <td>1961.0</td>\n",
       "      <td>New Zealand, USA, UK</td>\n",
       "      <td>AMAD61101</td>\n",
       "      <td>AMAD83301</td>\n",
       "      <td>1983.0</td>\n",
       "      <td>...</td>\n",
       "      <td>Climber</td>\n",
       "      <td>False</td>\n",
       "      <td>True</td>\n",
       "      <td>False</td>\n",
       "      <td>False</td>\n",
       "      <td>NaN</td>\n",
       "      <td>NaN</td>\n",
       "      <td>False</td>\n",
       "      <td>NaN</td>\n",
       "      <td>NaN</td>\n",
       "    </tr>\n",
       "    <tr>\n",
       "      <th>37</th>\n",
       "      <td>AMAD</td>\n",
       "      <td>Ama Dablam</td>\n",
       "      <td>Amai Dablang</td>\n",
       "      <td>6814</td>\n",
       "      <td>Climbed</td>\n",
       "      <td>1961.0</td>\n",
       "      <td>New Zealand, USA, UK</td>\n",
       "      <td>AMAD61101</td>\n",
       "      <td>AMAD83302</td>\n",
       "      <td>1983.0</td>\n",
       "      <td>...</td>\n",
       "      <td>Climber</td>\n",
       "      <td>False</td>\n",
       "      <td>True</td>\n",
       "      <td>False</td>\n",
       "      <td>False</td>\n",
       "      <td>NaN</td>\n",
       "      <td>NaN</td>\n",
       "      <td>False</td>\n",
       "      <td>NaN</td>\n",
       "      <td>NaN</td>\n",
       "    </tr>\n",
       "    <tr>\n",
       "      <th>95</th>\n",
       "      <td>AMAD</td>\n",
       "      <td>Ama Dablam</td>\n",
       "      <td>Amai Dablang</td>\n",
       "      <td>6814</td>\n",
       "      <td>Climbed</td>\n",
       "      <td>1961.0</td>\n",
       "      <td>New Zealand, USA, UK</td>\n",
       "      <td>AMAD61101</td>\n",
       "      <td>AMAD87401</td>\n",
       "      <td>1987.0</td>\n",
       "      <td>...</td>\n",
       "      <td>Leader</td>\n",
       "      <td>False</td>\n",
       "      <td>True</td>\n",
       "      <td>False</td>\n",
       "      <td>False</td>\n",
       "      <td>NaN</td>\n",
       "      <td>NaN</td>\n",
       "      <td>False</td>\n",
       "      <td>NaN</td>\n",
       "      <td>NaN</td>\n",
       "    </tr>\n",
       "  </tbody>\n",
       "</table>\n",
       "<p>5 rows × 36 columns</p>\n",
       "</div>"
      ],
      "text/plain": [
       "   peak_id   peak_name peak_alternative_name  height_metres climbing_status  \\\n",
       "16    AMAD  Ama Dablam          Amai Dablang           6814         Climbed   \n",
       "18    AMAD  Ama Dablam          Amai Dablang           6814         Climbed   \n",
       "27    AMAD  Ama Dablam          Amai Dablang           6814         Climbed   \n",
       "37    AMAD  Ama Dablam          Amai Dablang           6814         Climbed   \n",
       "95    AMAD  Ama Dablam          Amai Dablang           6814         Climbed   \n",
       "\n",
       "    first_ascent_year  first_ascent_country first_ascent_expedition_id  \\\n",
       "16             1961.0  New Zealand, USA, UK                  AMAD61101   \n",
       "18             1961.0  New Zealand, USA, UK                  AMAD61101   \n",
       "27             1961.0  New Zealand, USA, UK                  AMAD61101   \n",
       "37             1961.0  New Zealand, USA, UK                  AMAD61101   \n",
       "95             1961.0  New Zealand, USA, UK                  AMAD61101   \n",
       "\n",
       "   expedition_id    year  ... expedition_role  hired success   solo   died  \\\n",
       "16     AMAD88402  1988.0  ...         Climber  False    True  False  False   \n",
       "18     AMAD83301  1983.0  ...         Climber  False    True  False  False   \n",
       "27     AMAD83301  1983.0  ...         Climber  False    True  False  False   \n",
       "37     AMAD83302  1983.0  ...         Climber  False    True  False  False   \n",
       "95     AMAD87401  1987.0  ...          Leader  False    True  False  False   \n",
       "\n",
       "    death_cause  death_height_metres  injured  injury_type  \\\n",
       "16          NaN                  NaN    False          NaN   \n",
       "18          NaN                  NaN    False          NaN   \n",
       "27          NaN                  NaN    False          NaN   \n",
       "37          NaN                  NaN    False          NaN   \n",
       "95          NaN                  NaN    False          NaN   \n",
       "\n",
       "    injury_height_metres  \n",
       "16                   NaN  \n",
       "18                   NaN  \n",
       "27                   NaN  \n",
       "37                   NaN  \n",
       "95                   NaN  \n",
       "\n",
       "[5 rows x 36 columns]"
      ]
     },
     "execution_count": 30,
     "metadata": {},
     "output_type": "execute_result"
    }
   ],
   "source": [
    "female_record = three_datasets[(three_datasets['sex'] == 'F') & (three_datasets['success'] == True)]\n",
    "female_record.head()"
   ]
  },
  {
   "cell_type": "code",
   "execution_count": 31,
   "id": "5916d7e6",
   "metadata": {},
   "outputs": [
    {
     "data": {
      "text/html": [
       "<div>\n",
       "<style scoped>\n",
       "    .dataframe tbody tr th:only-of-type {\n",
       "        vertical-align: middle;\n",
       "    }\n",
       "\n",
       "    .dataframe tbody tr th {\n",
       "        vertical-align: top;\n",
       "    }\n",
       "\n",
       "    .dataframe thead th {\n",
       "        text-align: right;\n",
       "    }\n",
       "</style>\n",
       "<table border=\"1\" class=\"dataframe\">\n",
       "  <thead>\n",
       "    <tr style=\"text-align: right;\">\n",
       "      <th></th>\n",
       "      <th>peak_id</th>\n",
       "      <th>peak_name</th>\n",
       "      <th>peak_alternative_name</th>\n",
       "      <th>height_metres</th>\n",
       "      <th>climbing_status</th>\n",
       "      <th>first_ascent_year</th>\n",
       "      <th>first_ascent_country</th>\n",
       "      <th>first_ascent_expedition_id</th>\n",
       "      <th>expedition_id</th>\n",
       "      <th>year</th>\n",
       "      <th>...</th>\n",
       "      <th>expedition_role</th>\n",
       "      <th>hired</th>\n",
       "      <th>success</th>\n",
       "      <th>solo</th>\n",
       "      <th>died</th>\n",
       "      <th>death_cause</th>\n",
       "      <th>death_height_metres</th>\n",
       "      <th>injured</th>\n",
       "      <th>injury_type</th>\n",
       "      <th>injury_height_metres</th>\n",
       "    </tr>\n",
       "  </thead>\n",
       "  <tbody>\n",
       "    <tr>\n",
       "      <th>27289</th>\n",
       "      <td>TENG</td>\n",
       "      <td>Tengkoma</td>\n",
       "      <td>Tang Kongma</td>\n",
       "      <td>6215</td>\n",
       "      <td>Climbed</td>\n",
       "      <td>1949.0</td>\n",
       "      <td>Switzerland, Nepal</td>\n",
       "      <td>TENG49101</td>\n",
       "      <td>TENG49101</td>\n",
       "      <td>1949.0</td>\n",
       "      <td>...</td>\n",
       "      <td>Climber</td>\n",
       "      <td>False</td>\n",
       "      <td>True</td>\n",
       "      <td>False</td>\n",
       "      <td>False</td>\n",
       "      <td>NaN</td>\n",
       "      <td>NaN</td>\n",
       "      <td>False</td>\n",
       "      <td>NaN</td>\n",
       "      <td>NaN</td>\n",
       "    </tr>\n",
       "    <tr>\n",
       "      <th>27502</th>\n",
       "      <td>DZAN</td>\n",
       "      <td>Dzanye</td>\n",
       "      <td>Dzanaye</td>\n",
       "      <td>6581</td>\n",
       "      <td>Climbed</td>\n",
       "      <td>1949.0</td>\n",
       "      <td>Switzerland</td>\n",
       "      <td>DZAN49101</td>\n",
       "      <td>DZAN49101</td>\n",
       "      <td>1949.0</td>\n",
       "      <td>...</td>\n",
       "      <td>Climber</td>\n",
       "      <td>False</td>\n",
       "      <td>True</td>\n",
       "      <td>False</td>\n",
       "      <td>False</td>\n",
       "      <td>NaN</td>\n",
       "      <td>NaN</td>\n",
       "      <td>False</td>\n",
       "      <td>NaN</td>\n",
       "      <td>NaN</td>\n",
       "    </tr>\n",
       "    <tr>\n",
       "      <th>18041</th>\n",
       "      <td>GAN1</td>\n",
       "      <td>Ganesh I</td>\n",
       "      <td>Yangra Kangri</td>\n",
       "      <td>7422</td>\n",
       "      <td>Climbed</td>\n",
       "      <td>1955.0</td>\n",
       "      <td>Switzerland, France</td>\n",
       "      <td>GAN155301</td>\n",
       "      <td>GAN155301</td>\n",
       "      <td>1955.0</td>\n",
       "      <td>...</td>\n",
       "      <td>Climber</td>\n",
       "      <td>False</td>\n",
       "      <td>True</td>\n",
       "      <td>False</td>\n",
       "      <td>False</td>\n",
       "      <td>NaN</td>\n",
       "      <td>NaN</td>\n",
       "      <td>False</td>\n",
       "      <td>NaN</td>\n",
       "      <td>NaN</td>\n",
       "    </tr>\n",
       "    <tr>\n",
       "      <th>18663</th>\n",
       "      <td>LEOE</td>\n",
       "      <td>Leonpo Gang East</td>\n",
       "      <td>Gyalgen Peak</td>\n",
       "      <td>6733</td>\n",
       "      <td>Climbed</td>\n",
       "      <td>1955.0</td>\n",
       "      <td>UK, Nepal</td>\n",
       "      <td>LEOE55101</td>\n",
       "      <td>LEOE55101</td>\n",
       "      <td>1955.0</td>\n",
       "      <td>...</td>\n",
       "      <td>Climber</td>\n",
       "      <td>False</td>\n",
       "      <td>True</td>\n",
       "      <td>False</td>\n",
       "      <td>False</td>\n",
       "      <td>NaN</td>\n",
       "      <td>NaN</td>\n",
       "      <td>False</td>\n",
       "      <td>NaN</td>\n",
       "      <td>NaN</td>\n",
       "    </tr>\n",
       "    <tr>\n",
       "      <th>18662</th>\n",
       "      <td>LEOE</td>\n",
       "      <td>Leonpo Gang East</td>\n",
       "      <td>Gyalgen Peak</td>\n",
       "      <td>6733</td>\n",
       "      <td>Climbed</td>\n",
       "      <td>1955.0</td>\n",
       "      <td>UK, Nepal</td>\n",
       "      <td>LEOE55101</td>\n",
       "      <td>LEOE55101</td>\n",
       "      <td>1955.0</td>\n",
       "      <td>...</td>\n",
       "      <td>Leader</td>\n",
       "      <td>False</td>\n",
       "      <td>True</td>\n",
       "      <td>False</td>\n",
       "      <td>False</td>\n",
       "      <td>NaN</td>\n",
       "      <td>NaN</td>\n",
       "      <td>False</td>\n",
       "      <td>NaN</td>\n",
       "      <td>NaN</td>\n",
       "    </tr>\n",
       "  </tbody>\n",
       "</table>\n",
       "<p>5 rows × 36 columns</p>\n",
       "</div>"
      ],
      "text/plain": [
       "      peak_id         peak_name peak_alternative_name  height_metres  \\\n",
       "27289    TENG          Tengkoma           Tang Kongma           6215   \n",
       "27502    DZAN            Dzanye               Dzanaye           6581   \n",
       "18041    GAN1          Ganesh I         Yangra Kangri           7422   \n",
       "18663    LEOE  Leonpo Gang East          Gyalgen Peak           6733   \n",
       "18662    LEOE  Leonpo Gang East          Gyalgen Peak           6733   \n",
       "\n",
       "      climbing_status  first_ascent_year first_ascent_country  \\\n",
       "27289         Climbed             1949.0   Switzerland, Nepal   \n",
       "27502         Climbed             1949.0          Switzerland   \n",
       "18041         Climbed             1955.0  Switzerland, France   \n",
       "18663         Climbed             1955.0            UK, Nepal   \n",
       "18662         Climbed             1955.0            UK, Nepal   \n",
       "\n",
       "      first_ascent_expedition_id expedition_id    year  ... expedition_role  \\\n",
       "27289                  TENG49101     TENG49101  1949.0  ...         Climber   \n",
       "27502                  DZAN49101     DZAN49101  1949.0  ...         Climber   \n",
       "18041                  GAN155301     GAN155301  1955.0  ...         Climber   \n",
       "18663                  LEOE55101     LEOE55101  1955.0  ...         Climber   \n",
       "18662                  LEOE55101     LEOE55101  1955.0  ...          Leader   \n",
       "\n",
       "       hired success   solo   died  death_cause  death_height_metres  injured  \\\n",
       "27289  False    True  False  False          NaN                  NaN    False   \n",
       "27502  False    True  False  False          NaN                  NaN    False   \n",
       "18041  False    True  False  False          NaN                  NaN    False   \n",
       "18663  False    True  False  False          NaN                  NaN    False   \n",
       "18662  False    True  False  False          NaN                  NaN    False   \n",
       "\n",
       "       injury_type  injury_height_metres  \n",
       "27289          NaN                   NaN  \n",
       "27502          NaN                   NaN  \n",
       "18041          NaN                   NaN  \n",
       "18663          NaN                   NaN  \n",
       "18662          NaN                   NaN  \n",
       "\n",
       "[5 rows x 36 columns]"
      ]
     },
     "execution_count": 31,
     "metadata": {},
     "output_type": "execute_result"
    }
   ],
   "source": [
    "earlest = female_record.sort_values(by='year', ascending=True)\n",
    "earlest.head(5)"
   ]
  },
  {
   "cell_type": "markdown",
   "id": "be3fc881",
   "metadata": {},
   "source": [
    "##### the answer is - in 1949, peak name: Tengkoma; heiht in meters:6215"
   ]
  },
  {
   "cell_type": "code",
   "execution_count": 32,
   "id": "576880c2",
   "metadata": {},
   "outputs": [
    {
     "data": {
      "text/html": [
       "<div>\n",
       "<style scoped>\n",
       "    .dataframe tbody tr th:only-of-type {\n",
       "        vertical-align: middle;\n",
       "    }\n",
       "\n",
       "    .dataframe tbody tr th {\n",
       "        vertical-align: top;\n",
       "    }\n",
       "\n",
       "    .dataframe thead th {\n",
       "        text-align: right;\n",
       "    }\n",
       "</style>\n",
       "<table border=\"1\" class=\"dataframe\">\n",
       "  <thead>\n",
       "    <tr style=\"text-align: right;\">\n",
       "      <th></th>\n",
       "      <th>peak_name</th>\n",
       "      <th>height_metres</th>\n",
       "      <th>year</th>\n",
       "    </tr>\n",
       "  </thead>\n",
       "  <tbody>\n",
       "    <tr>\n",
       "      <th>27289</th>\n",
       "      <td>Tengkoma</td>\n",
       "      <td>6215</td>\n",
       "      <td>1949.0</td>\n",
       "    </tr>\n",
       "    <tr>\n",
       "      <th>27502</th>\n",
       "      <td>Dzanye</td>\n",
       "      <td>6581</td>\n",
       "      <td>1949.0</td>\n",
       "    </tr>\n",
       "    <tr>\n",
       "      <th>18041</th>\n",
       "      <td>Ganesh I</td>\n",
       "      <td>7422</td>\n",
       "      <td>1955.0</td>\n",
       "    </tr>\n",
       "  </tbody>\n",
       "</table>\n",
       "</div>"
      ],
      "text/plain": [
       "      peak_name  height_metres    year\n",
       "27289  Tengkoma           6215  1949.0\n",
       "27502    Dzanye           6581  1949.0\n",
       "18041  Ganesh I           7422  1955.0"
      ]
     },
     "execution_count": 32,
     "metadata": {},
     "output_type": "execute_result"
    }
   ],
   "source": [
    "earlest_F_record = earlest[['peak_name', 'height_metres', 'year']].head(3)\n",
    "earlest_F_record"
   ]
  },
  {
   "cell_type": "markdown",
   "id": "eac17b49",
   "metadata": {},
   "source": [
    "### b. Provide a single cross-tab table of the sex of an expedition participant and - the proportion of success in summitting a main peak or sub-peak \n",
    "- the proportion of participants using oxygen support \n",
    "- the proportion of participants who died. \n",
    "- That is, sex should be displayed as the rows of the output and the three requested proportions as its columns."
   ]
  },
  {
   "cell_type": "code",
   "execution_count": 33,
   "id": "4fdb7565",
   "metadata": {},
   "outputs": [
    {
     "data": {
      "text/html": [
       "<div>\n",
       "<style scoped>\n",
       "    .dataframe tbody tr th:only-of-type {\n",
       "        vertical-align: middle;\n",
       "    }\n",
       "\n",
       "    .dataframe tbody tr th {\n",
       "        vertical-align: top;\n",
       "    }\n",
       "\n",
       "    .dataframe thead th {\n",
       "        text-align: right;\n",
       "    }\n",
       "</style>\n",
       "<table border=\"1\" class=\"dataframe\">\n",
       "  <thead>\n",
       "    <tr style=\"text-align: right;\">\n",
       "      <th></th>\n",
       "      <th>success</th>\n",
       "      <th>oxygen_used</th>\n",
       "      <th>died</th>\n",
       "    </tr>\n",
       "    <tr>\n",
       "      <th>sex</th>\n",
       "      <th></th>\n",
       "      <th></th>\n",
       "      <th></th>\n",
       "    </tr>\n",
       "  </thead>\n",
       "  <tbody>\n",
       "    <tr>\n",
       "      <th>F</th>\n",
       "      <td>0.676634</td>\n",
       "      <td>0.389334</td>\n",
       "      <td>0.008323</td>\n",
       "    </tr>\n",
       "    <tr>\n",
       "      <th>M</th>\n",
       "      <td>0.628180</td>\n",
       "      <td>0.297567</td>\n",
       "      <td>0.016642</td>\n",
       "    </tr>\n",
       "  </tbody>\n",
       "</table>\n",
       "</div>"
      ],
      "text/plain": [
       "      success  oxygen_used      died\n",
       "sex                                 \n",
       "F    0.676634     0.389334  0.008323\n",
       "M    0.628180     0.297567  0.016642"
      ]
     },
     "execution_count": 33,
     "metadata": {},
     "output_type": "execute_result"
    }
   ],
   "source": [
    "three_datasets.loc[:, ['sex','success', 'oxygen_used', 'died']].groupby('sex').mean()"
   ]
  },
  {
   "cell_type": "code",
   "execution_count": null,
   "id": "1fc1668e",
   "metadata": {},
   "outputs": [],
   "source": []
  },
  {
   "cell_type": "markdown",
   "id": "cdcc6d41",
   "metadata": {},
   "source": [
    "# 4. Accidents "
   ]
  },
  {
   "cell_type": "code",
   "execution_count": 34,
   "id": "f13c93df",
   "metadata": {},
   "outputs": [
    {
     "data": {
      "text/html": [
       "<div>\n",
       "<style scoped>\n",
       "    .dataframe tbody tr th:only-of-type {\n",
       "        vertical-align: middle;\n",
       "    }\n",
       "\n",
       "    .dataframe tbody tr th {\n",
       "        vertical-align: top;\n",
       "    }\n",
       "\n",
       "    .dataframe thead th {\n",
       "        text-align: right;\n",
       "    }\n",
       "</style>\n",
       "<table border=\"1\" class=\"dataframe\">\n",
       "  <thead>\n",
       "    <tr style=\"text-align: right;\">\n",
       "      <th></th>\n",
       "      <th>expedition_id</th>\n",
       "      <th>peak_id</th>\n",
       "      <th>peak_name</th>\n",
       "      <th>year</th>\n",
       "      <th>season</th>\n",
       "      <th>basecamp_date</th>\n",
       "      <th>highpoint_date</th>\n",
       "      <th>termination_date</th>\n",
       "      <th>termination_reason</th>\n",
       "      <th>highpoint_metres</th>\n",
       "      <th>members</th>\n",
       "      <th>member_deaths</th>\n",
       "      <th>hired_staff</th>\n",
       "      <th>hired_staff_deaths</th>\n",
       "      <th>oxygen_used</th>\n",
       "      <th>trekking_agency</th>\n",
       "    </tr>\n",
       "  </thead>\n",
       "  <tbody>\n",
       "    <tr>\n",
       "      <th>0</th>\n",
       "      <td>ANN260101</td>\n",
       "      <td>ANN2</td>\n",
       "      <td>Annapurna II</td>\n",
       "      <td>1960</td>\n",
       "      <td>Spring</td>\n",
       "      <td>1960-03-15</td>\n",
       "      <td>1960-05-17</td>\n",
       "      <td>NaN</td>\n",
       "      <td>Success (main peak)</td>\n",
       "      <td>7937.0</td>\n",
       "      <td>10</td>\n",
       "      <td>0</td>\n",
       "      <td>9</td>\n",
       "      <td>0</td>\n",
       "      <td>True</td>\n",
       "      <td>NaN</td>\n",
       "    </tr>\n",
       "    <tr>\n",
       "      <th>1</th>\n",
       "      <td>ANN269301</td>\n",
       "      <td>ANN2</td>\n",
       "      <td>Annapurna II</td>\n",
       "      <td>1969</td>\n",
       "      <td>Autumn</td>\n",
       "      <td>1969-09-25</td>\n",
       "      <td>1969-10-22</td>\n",
       "      <td>1969-10-26</td>\n",
       "      <td>Success (main peak)</td>\n",
       "      <td>7937.0</td>\n",
       "      <td>10</td>\n",
       "      <td>0</td>\n",
       "      <td>0</td>\n",
       "      <td>0</td>\n",
       "      <td>False</td>\n",
       "      <td>NaN</td>\n",
       "    </tr>\n",
       "    <tr>\n",
       "      <th>2</th>\n",
       "      <td>ANN273101</td>\n",
       "      <td>ANN2</td>\n",
       "      <td>Annapurna II</td>\n",
       "      <td>1973</td>\n",
       "      <td>Spring</td>\n",
       "      <td>1973-03-16</td>\n",
       "      <td>1973-05-06</td>\n",
       "      <td>NaN</td>\n",
       "      <td>Success (main peak)</td>\n",
       "      <td>7937.0</td>\n",
       "      <td>6</td>\n",
       "      <td>0</td>\n",
       "      <td>8</td>\n",
       "      <td>0</td>\n",
       "      <td>False</td>\n",
       "      <td>NaN</td>\n",
       "    </tr>\n",
       "    <tr>\n",
       "      <th>3</th>\n",
       "      <td>ANN278301</td>\n",
       "      <td>ANN2</td>\n",
       "      <td>Annapurna II</td>\n",
       "      <td>1978</td>\n",
       "      <td>Autumn</td>\n",
       "      <td>1978-09-08</td>\n",
       "      <td>1978-10-02</td>\n",
       "      <td>1978-10-05</td>\n",
       "      <td>Bad weather (storms, high winds)</td>\n",
       "      <td>7000.0</td>\n",
       "      <td>2</td>\n",
       "      <td>0</td>\n",
       "      <td>0</td>\n",
       "      <td>0</td>\n",
       "      <td>False</td>\n",
       "      <td>NaN</td>\n",
       "    </tr>\n",
       "    <tr>\n",
       "      <th>4</th>\n",
       "      <td>ANN279301</td>\n",
       "      <td>ANN2</td>\n",
       "      <td>Annapurna II</td>\n",
       "      <td>1979</td>\n",
       "      <td>Autumn</td>\n",
       "      <td>NaN</td>\n",
       "      <td>1979-10-18</td>\n",
       "      <td>1979-10-20</td>\n",
       "      <td>Bad weather (storms, high winds)</td>\n",
       "      <td>7160.0</td>\n",
       "      <td>3</td>\n",
       "      <td>0</td>\n",
       "      <td>0</td>\n",
       "      <td>0</td>\n",
       "      <td>False</td>\n",
       "      <td>NaN</td>\n",
       "    </tr>\n",
       "  </tbody>\n",
       "</table>\n",
       "</div>"
      ],
      "text/plain": [
       "  expedition_id peak_id     peak_name  year  season basecamp_date  \\\n",
       "0     ANN260101    ANN2  Annapurna II  1960  Spring    1960-03-15   \n",
       "1     ANN269301    ANN2  Annapurna II  1969  Autumn    1969-09-25   \n",
       "2     ANN273101    ANN2  Annapurna II  1973  Spring    1973-03-16   \n",
       "3     ANN278301    ANN2  Annapurna II  1978  Autumn    1978-09-08   \n",
       "4     ANN279301    ANN2  Annapurna II  1979  Autumn           NaN   \n",
       "\n",
       "  highpoint_date termination_date                termination_reason  \\\n",
       "0     1960-05-17              NaN               Success (main peak)   \n",
       "1     1969-10-22       1969-10-26               Success (main peak)   \n",
       "2     1973-05-06              NaN               Success (main peak)   \n",
       "3     1978-10-02       1978-10-05  Bad weather (storms, high winds)   \n",
       "4     1979-10-18       1979-10-20  Bad weather (storms, high winds)   \n",
       "\n",
       "   highpoint_metres  members  member_deaths  hired_staff  hired_staff_deaths  \\\n",
       "0            7937.0       10              0            9                   0   \n",
       "1            7937.0       10              0            0                   0   \n",
       "2            7937.0        6              0            8                   0   \n",
       "3            7000.0        2              0            0                   0   \n",
       "4            7160.0        3              0            0                   0   \n",
       "\n",
       "   oxygen_used trekking_agency  \n",
       "0         True             NaN  \n",
       "1        False             NaN  \n",
       "2        False             NaN  \n",
       "3        False             NaN  \n",
       "4        False             NaN  "
      ]
     },
     "execution_count": 34,
     "metadata": {},
     "output_type": "execute_result"
    }
   ],
   "source": [
    "expeditions = pd.read_csv(\"./expeditions.csv\")\n",
    "expeditions.head()"
   ]
  },
  {
   "cell_type": "markdown",
   "id": "b8359666",
   "metadata": {},
   "source": [
    "##### a. Aggregate the data by decade and count the number of expeditions, the total number of expedition members, and the average rates of death for members and hired staff. Briefly describe what you found."
   ]
  },
  {
   "cell_type": "code",
   "execution_count": 35,
   "id": "d85e3d4f",
   "metadata": {},
   "outputs": [
    {
     "data": {
      "text/html": [
       "<div>\n",
       "<style scoped>\n",
       "    .dataframe tbody tr th:only-of-type {\n",
       "        vertical-align: middle;\n",
       "    }\n",
       "\n",
       "    .dataframe tbody tr th {\n",
       "        vertical-align: top;\n",
       "    }\n",
       "\n",
       "    .dataframe thead th {\n",
       "        text-align: right;\n",
       "    }\n",
       "</style>\n",
       "<table border=\"1\" class=\"dataframe\">\n",
       "  <thead>\n",
       "    <tr style=\"text-align: right;\">\n",
       "      <th></th>\n",
       "      <th>expedition_id</th>\n",
       "      <th>members</th>\n",
       "      <th>member_deaths</th>\n",
       "      <th>hired_staff_deaths</th>\n",
       "    </tr>\n",
       "    <tr>\n",
       "      <th>year</th>\n",
       "      <th></th>\n",
       "      <th></th>\n",
       "      <th></th>\n",
       "      <th></th>\n",
       "    </tr>\n",
       "  </thead>\n",
       "  <tbody>\n",
       "    <tr>\n",
       "      <th>1900</th>\n",
       "      <td>4</td>\n",
       "      <td>9</td>\n",
       "      <td>0.250000</td>\n",
       "      <td>1.000000</td>\n",
       "    </tr>\n",
       "    <tr>\n",
       "      <th>1910</th>\n",
       "      <td>3</td>\n",
       "      <td>3</td>\n",
       "      <td>0.000000</td>\n",
       "      <td>0.000000</td>\n",
       "    </tr>\n",
       "    <tr>\n",
       "      <th>1920</th>\n",
       "      <td>10</td>\n",
       "      <td>51</td>\n",
       "      <td>0.400000</td>\n",
       "      <td>1.000000</td>\n",
       "    </tr>\n",
       "    <tr>\n",
       "      <th>1930</th>\n",
       "      <td>34</td>\n",
       "      <td>152</td>\n",
       "      <td>0.058824</td>\n",
       "      <td>0.117647</td>\n",
       "    </tr>\n",
       "    <tr>\n",
       "      <th>1940</th>\n",
       "      <td>15</td>\n",
       "      <td>53</td>\n",
       "      <td>0.000000</td>\n",
       "      <td>0.000000</td>\n",
       "    </tr>\n",
       "    <tr>\n",
       "      <th>1950</th>\n",
       "      <td>168</td>\n",
       "      <td>856</td>\n",
       "      <td>0.095238</td>\n",
       "      <td>0.053571</td>\n",
       "    </tr>\n",
       "    <tr>\n",
       "      <th>1960</th>\n",
       "      <td>161</td>\n",
       "      <td>989</td>\n",
       "      <td>0.136646</td>\n",
       "      <td>0.062112</td>\n",
       "    </tr>\n",
       "    <tr>\n",
       "      <th>1970</th>\n",
       "      <td>361</td>\n",
       "      <td>3506</td>\n",
       "      <td>0.268698</td>\n",
       "      <td>0.160665</td>\n",
       "    </tr>\n",
       "    <tr>\n",
       "      <th>1980</th>\n",
       "      <td>1187</td>\n",
       "      <td>10023</td>\n",
       "      <td>0.168492</td>\n",
       "      <td>0.039596</td>\n",
       "    </tr>\n",
       "    <tr>\n",
       "      <th>1990</th>\n",
       "      <td>1703</td>\n",
       "      <td>12512</td>\n",
       "      <td>0.095713</td>\n",
       "      <td>0.027598</td>\n",
       "    </tr>\n",
       "    <tr>\n",
       "      <th>2000</th>\n",
       "      <td>3213</td>\n",
       "      <td>16867</td>\n",
       "      <td>0.042951</td>\n",
       "      <td>0.017118</td>\n",
       "    </tr>\n",
       "    <tr>\n",
       "      <th>2010</th>\n",
       "      <td>3505</td>\n",
       "      <td>16679</td>\n",
       "      <td>0.041369</td>\n",
       "      <td>0.021113</td>\n",
       "    </tr>\n",
       "  </tbody>\n",
       "</table>\n",
       "</div>"
      ],
      "text/plain": [
       "      expedition_id  members  member_deaths  hired_staff_deaths\n",
       "year                                                           \n",
       "1900              4        9       0.250000            1.000000\n",
       "1910              3        3       0.000000            0.000000\n",
       "1920             10       51       0.400000            1.000000\n",
       "1930             34      152       0.058824            0.117647\n",
       "1940             15       53       0.000000            0.000000\n",
       "1950            168      856       0.095238            0.053571\n",
       "1960            161      989       0.136646            0.062112\n",
       "1970            361     3506       0.268698            0.160665\n",
       "1980           1187    10023       0.168492            0.039596\n",
       "1990           1703    12512       0.095713            0.027598\n",
       "2000           3213    16867       0.042951            0.017118\n",
       "2010           3505    16679       0.041369            0.021113"
      ]
     },
     "execution_count": 35,
     "metadata": {},
     "output_type": "execute_result"
    }
   ],
   "source": [
    "# Aggregating the data by decade and calculating the info above\n",
    "expeditions[['expedition_id','members','member_deaths',\"hired_staff_deaths\"]].groupby(expeditions['year'].apply(\n",
    "                            lambda x: (x//10)*10)).agg({'expedition_id':'count','members':'sum',\n",
    "                            'member_deaths':'mean','hired_staff_deaths':'mean'})"
   ]
  },
  {
   "cell_type": "code",
   "execution_count": 36,
   "id": "033a0a98",
   "metadata": {},
   "outputs": [
    {
     "data": {
      "text/html": [
       "<div>\n",
       "<style scoped>\n",
       "    .dataframe tbody tr th:only-of-type {\n",
       "        vertical-align: middle;\n",
       "    }\n",
       "\n",
       "    .dataframe tbody tr th {\n",
       "        vertical-align: top;\n",
       "    }\n",
       "\n",
       "    .dataframe thead th {\n",
       "        text-align: right;\n",
       "    }\n",
       "</style>\n",
       "<table border=\"1\" class=\"dataframe\">\n",
       "  <thead>\n",
       "    <tr style=\"text-align: right;\">\n",
       "      <th></th>\n",
       "      <th>expedition_id</th>\n",
       "      <th>members</th>\n",
       "      <th>member_deaths</th>\n",
       "      <th>hired_staff_deaths</th>\n",
       "    </tr>\n",
       "    <tr>\n",
       "      <th>decade</th>\n",
       "      <th></th>\n",
       "      <th></th>\n",
       "      <th></th>\n",
       "      <th></th>\n",
       "    </tr>\n",
       "  </thead>\n",
       "  <tbody>\n",
       "    <tr>\n",
       "      <th>1900</th>\n",
       "      <td>4</td>\n",
       "      <td>9</td>\n",
       "      <td>0.250000</td>\n",
       "      <td>1.000000</td>\n",
       "    </tr>\n",
       "    <tr>\n",
       "      <th>1910</th>\n",
       "      <td>3</td>\n",
       "      <td>3</td>\n",
       "      <td>0.000000</td>\n",
       "      <td>0.000000</td>\n",
       "    </tr>\n",
       "    <tr>\n",
       "      <th>1920</th>\n",
       "      <td>10</td>\n",
       "      <td>51</td>\n",
       "      <td>0.400000</td>\n",
       "      <td>1.000000</td>\n",
       "    </tr>\n",
       "    <tr>\n",
       "      <th>1930</th>\n",
       "      <td>34</td>\n",
       "      <td>152</td>\n",
       "      <td>0.058824</td>\n",
       "      <td>0.117647</td>\n",
       "    </tr>\n",
       "    <tr>\n",
       "      <th>1940</th>\n",
       "      <td>15</td>\n",
       "      <td>53</td>\n",
       "      <td>0.000000</td>\n",
       "      <td>0.000000</td>\n",
       "    </tr>\n",
       "    <tr>\n",
       "      <th>1950</th>\n",
       "      <td>168</td>\n",
       "      <td>856</td>\n",
       "      <td>0.095238</td>\n",
       "      <td>0.053571</td>\n",
       "    </tr>\n",
       "    <tr>\n",
       "      <th>1960</th>\n",
       "      <td>161</td>\n",
       "      <td>989</td>\n",
       "      <td>0.136646</td>\n",
       "      <td>0.062112</td>\n",
       "    </tr>\n",
       "    <tr>\n",
       "      <th>1970</th>\n",
       "      <td>361</td>\n",
       "      <td>3506</td>\n",
       "      <td>0.268698</td>\n",
       "      <td>0.160665</td>\n",
       "    </tr>\n",
       "    <tr>\n",
       "      <th>1980</th>\n",
       "      <td>1187</td>\n",
       "      <td>10023</td>\n",
       "      <td>0.168492</td>\n",
       "      <td>0.039596</td>\n",
       "    </tr>\n",
       "    <tr>\n",
       "      <th>1990</th>\n",
       "      <td>1703</td>\n",
       "      <td>12512</td>\n",
       "      <td>0.095713</td>\n",
       "      <td>0.027598</td>\n",
       "    </tr>\n",
       "    <tr>\n",
       "      <th>2000</th>\n",
       "      <td>3213</td>\n",
       "      <td>16867</td>\n",
       "      <td>0.042951</td>\n",
       "      <td>0.017118</td>\n",
       "    </tr>\n",
       "    <tr>\n",
       "      <th>2010</th>\n",
       "      <td>3505</td>\n",
       "      <td>16679</td>\n",
       "      <td>0.041369</td>\n",
       "      <td>0.021113</td>\n",
       "    </tr>\n",
       "  </tbody>\n",
       "</table>\n",
       "</div>"
      ],
      "text/plain": [
       "        expedition_id  members  member_deaths  hired_staff_deaths\n",
       "decade                                                           \n",
       "1900                4        9       0.250000            1.000000\n",
       "1910                3        3       0.000000            0.000000\n",
       "1920               10       51       0.400000            1.000000\n",
       "1930               34      152       0.058824            0.117647\n",
       "1940               15       53       0.000000            0.000000\n",
       "1950              168      856       0.095238            0.053571\n",
       "1960              161      989       0.136646            0.062112\n",
       "1970              361     3506       0.268698            0.160665\n",
       "1980             1187    10023       0.168492            0.039596\n",
       "1990             1703    12512       0.095713            0.027598\n",
       "2000             3213    16867       0.042951            0.017118\n",
       "2010             3505    16679       0.041369            0.021113"
      ]
     },
     "execution_count": 36,
     "metadata": {},
     "output_type": "execute_result"
    }
   ],
   "source": [
    "# OR\n",
    "expeditions['decade'] = expeditions['year']//10*10\n",
    "expeditions_decade = expeditions.loc[:, ['decade', 'expedition_id']].groupby('decade').count()\n",
    "expeditions_decade['members'] = expeditions.loc[:, ['decade', 'members']].groupby('decade').sum()\n",
    "expeditions_decade[['member_deaths', 'hired_staff_deaths']] = expeditions.loc[:, ['decade', 'member_deaths', 'hired_staff_deaths']].groupby('decade').mean()\n",
    "expeditions_decade\n",
    "\n",
    "# df.groupby((df.index.year//10)*10).sum()\n",
    "# I found out that as the tims went by, the overall avg of deaths were decreasing. And mostly, the avg of hired staff deaths were lower than avg of member deaths.\n"
   ]
  },
  {
   "cell_type": "markdown",
   "id": "d5711bf6",
   "metadata": {},
   "source": [
    "As decades go by, the number of expeditions and the total number of expedition members generally increase, while the average number of deaths for members and hired staff generally decrease."
   ]
  },
  {
   "cell_type": "markdown",
   "id": "adf36351",
   "metadata": {},
   "source": [
    "##### b. Calculate the length_of_expedition as the time between the basecamp_date and the termination_date in days.  Now, standardize these length_of_expedition values to z-values grouped by each peak (that is you need to standardize with the mean and standard deviation of expeditions for the same peak only).  Are longer expeditions more or less likely to be associated with death? (no statistical test necessary)"
   ]
  },
  {
   "cell_type": "code",
   "execution_count": 37,
   "id": "dc0aed08",
   "metadata": {},
   "outputs": [],
   "source": [
    "# # Converting 'basecamp_date' and 'termination_date' to datetime\n",
    "# expeditions['basecamp_date'] = pd.to_datetime(expeditions['basecamp_date'])\n",
    "# expeditions['termination_date'] = pd.to_datetime(expeditions['termination_date'])\n",
    "\n",
    "# # Calculating 'length_of_expedition'\n",
    "# expeditions['length_of_expedition'] = expeditions['termination_date'] - expeditions['basecamp_date']\n",
    "\n",
    "# # Converting 'length_of_expedition' to float\n",
    "# expeditions['length_of_expedition'] = expeditions['length_of_expedition']  / np.timedelta64(1, 'D')\n",
    "\n",
    "# # Standardizing 'length_of_expedition' to z-values grouped by each peak\n",
    "# expeditions['length_zscore'] = expeditions.groupby('peak_name').length_of_expedition.transform(lambda x: (x - x.mean()) / x.std())\n",
    "\n",
    "# # Keeping non NA values of 'length_of_expedition' as df\n",
    "# df = expeditions[expeditions['length_of_expedition'].notna()]\n",
    "# df[['peak_name','length_of_expedition','length_zscore']].head(20)\n"
   ]
  },
  {
   "cell_type": "code",
   "execution_count": 38,
   "id": "5f712473",
   "metadata": {},
   "outputs": [],
   "source": [
    "expeditions['basecamp_date'] = pd.to_datetime(expeditions['basecamp_date'], errors='coerce')\n",
    "expeditions['termination_date'] = pd.to_datetime(expeditions['termination_date'], errors='coerce')\n",
    "expeditions['length_of_expedition'] = (expeditions['termination_date'] - expeditions['basecamp_date']).dt.days\n",
    "\n",
    "# expeditions['z_score'] = expeditions.loc[:, ['peak_id', 'length_of_expedition']].groupby('peak_id')\n",
    "# expeditions.groupby(['peak_id']).transform(lambda x: (x - x.mean())/x.std())\n",
    "# sub_df = expeditions[['length_of_expedition', 'peak_id']]\n",
    "# sub_df['zscore'] = sub_df.loc[:, ['peak_id', 'length_of_expedition']].groupby('peak_id').transform(lambda x: (x - x.mean())/x.std())\n",
    "# sub_df['zscore']= sub_df.groupby('peak_id').transform(lambda x: (x - x.mean())/x.std())\n",
    "# sub_df.groupby(['peak_id']).transform(lambda x: (x - x.mean())/x.std())\n"
   ]
  },
  {
   "cell_type": "code",
   "execution_count": 39,
   "id": "617b588e",
   "metadata": {
    "scrolled": true
   },
   "outputs": [
    {
     "data": {
      "text/html": [
       "<div>\n",
       "<style scoped>\n",
       "    .dataframe tbody tr th:only-of-type {\n",
       "        vertical-align: middle;\n",
       "    }\n",
       "\n",
       "    .dataframe tbody tr th {\n",
       "        vertical-align: top;\n",
       "    }\n",
       "\n",
       "    .dataframe thead th {\n",
       "        text-align: right;\n",
       "    }\n",
       "</style>\n",
       "<table border=\"1\" class=\"dataframe\">\n",
       "  <thead>\n",
       "    <tr style=\"text-align: right;\">\n",
       "      <th></th>\n",
       "      <th>length_of_expedition</th>\n",
       "      <th>peak_id</th>\n",
       "      <th>z</th>\n",
       "    </tr>\n",
       "  </thead>\n",
       "  <tbody>\n",
       "    <tr>\n",
       "      <th>1</th>\n",
       "      <td>31.0</td>\n",
       "      <td>ANN2</td>\n",
       "      <td>-0.074159</td>\n",
       "    </tr>\n",
       "    <tr>\n",
       "      <th>3</th>\n",
       "      <td>27.0</td>\n",
       "      <td>ANN2</td>\n",
       "      <td>-0.400456</td>\n",
       "    </tr>\n",
       "    <tr>\n",
       "      <th>5</th>\n",
       "      <td>37.0</td>\n",
       "      <td>ANN2</td>\n",
       "      <td>0.415288</td>\n",
       "    </tr>\n",
       "    <tr>\n",
       "      <th>8</th>\n",
       "      <td>43.0</td>\n",
       "      <td>ANN2</td>\n",
       "      <td>0.904734</td>\n",
       "    </tr>\n",
       "    <tr>\n",
       "      <th>9</th>\n",
       "      <td>24.0</td>\n",
       "      <td>ANN2</td>\n",
       "      <td>-0.645179</td>\n",
       "    </tr>\n",
       "    <tr>\n",
       "      <th>...</th>\n",
       "      <td>...</td>\n",
       "      <td>...</td>\n",
       "      <td>...</td>\n",
       "    </tr>\n",
       "    <tr>\n",
       "      <th>10359</th>\n",
       "      <td>53.0</td>\n",
       "      <td>PUMO</td>\n",
       "      <td>4.141132</td>\n",
       "    </tr>\n",
       "    <tr>\n",
       "      <th>10360</th>\n",
       "      <td>41.0</td>\n",
       "      <td>PUMO</td>\n",
       "      <td>2.813516</td>\n",
       "    </tr>\n",
       "    <tr>\n",
       "      <th>10361</th>\n",
       "      <td>8.0</td>\n",
       "      <td>PUTH</td>\n",
       "      <td>-0.925485</td>\n",
       "    </tr>\n",
       "    <tr>\n",
       "      <th>10362</th>\n",
       "      <td>22.0</td>\n",
       "      <td>RATC</td>\n",
       "      <td>0.653566</td>\n",
       "    </tr>\n",
       "    <tr>\n",
       "      <th>10363</th>\n",
       "      <td>24.0</td>\n",
       "      <td>SANK</td>\n",
       "      <td>NaN</td>\n",
       "    </tr>\n",
       "  </tbody>\n",
       "</table>\n",
       "<p>7946 rows × 3 columns</p>\n",
       "</div>"
      ],
      "text/plain": [
       "       length_of_expedition peak_id         z\n",
       "1                      31.0    ANN2 -0.074159\n",
       "3                      27.0    ANN2 -0.400456\n",
       "5                      37.0    ANN2  0.415288\n",
       "8                      43.0    ANN2  0.904734\n",
       "9                      24.0    ANN2 -0.645179\n",
       "...                     ...     ...       ...\n",
       "10359                  53.0    PUMO  4.141132\n",
       "10360                  41.0    PUMO  2.813516\n",
       "10361                   8.0    PUTH -0.925485\n",
       "10362                  22.0    RATC  0.653566\n",
       "10363                  24.0    SANK       NaN\n",
       "\n",
       "[7946 rows x 3 columns]"
      ]
     },
     "execution_count": 39,
     "metadata": {},
     "output_type": "execute_result"
    }
   ],
   "source": [
    "t1 = expeditions[['length_of_expedition', 'peak_id']].dropna()\n",
    "t1['z'] = t1.loc[:, ['peak_id', 'length_of_expedition']].groupby('peak_id').transform(lambda x: (x - x.mean()) / x.std())\n",
    "t1"
   ]
  },
  {
   "cell_type": "code",
   "execution_count": 40,
   "id": "8f420ef2",
   "metadata": {},
   "outputs": [
    {
     "data": {
      "text/plain": [
       "Index(['expedition_id', 'peak_id', 'peak_name', 'year', 'season',\n",
       "       'basecamp_date', 'highpoint_date', 'termination_date',\n",
       "       'termination_reason', 'highpoint_metres', 'members', 'member_deaths',\n",
       "       'hired_staff', 'hired_staff_deaths', 'oxygen_used', 'trekking_agency',\n",
       "       'decade', 'length_of_expedition'],\n",
       "      dtype='object')"
      ]
     },
     "execution_count": 40,
     "metadata": {},
     "output_type": "execute_result"
    }
   ],
   "source": [
    "expeditions.columns"
   ]
  },
  {
   "cell_type": "code",
   "execution_count": 41,
   "id": "b4af261e",
   "metadata": {},
   "outputs": [
    {
     "data": {
      "text/html": [
       "<div>\n",
       "<style scoped>\n",
       "    .dataframe tbody tr th:only-of-type {\n",
       "        vertical-align: middle;\n",
       "    }\n",
       "\n",
       "    .dataframe tbody tr th {\n",
       "        vertical-align: top;\n",
       "    }\n",
       "\n",
       "    .dataframe thead th {\n",
       "        text-align: right;\n",
       "    }\n",
       "</style>\n",
       "<table border=\"1\" class=\"dataframe\">\n",
       "  <thead>\n",
       "    <tr style=\"text-align: right;\">\n",
       "      <th></th>\n",
       "      <th>length_of_expedition</th>\n",
       "      <th>peak_id</th>\n",
       "      <th>z</th>\n",
       "      <th>member_deaths</th>\n",
       "    </tr>\n",
       "  </thead>\n",
       "  <tbody>\n",
       "    <tr>\n",
       "      <th>1</th>\n",
       "      <td>31.0</td>\n",
       "      <td>ANN2</td>\n",
       "      <td>-0.074159</td>\n",
       "      <td>0</td>\n",
       "    </tr>\n",
       "    <tr>\n",
       "      <th>3</th>\n",
       "      <td>27.0</td>\n",
       "      <td>ANN2</td>\n",
       "      <td>-0.400456</td>\n",
       "      <td>0</td>\n",
       "    </tr>\n",
       "    <tr>\n",
       "      <th>5</th>\n",
       "      <td>37.0</td>\n",
       "      <td>ANN2</td>\n",
       "      <td>0.415288</td>\n",
       "      <td>1</td>\n",
       "    </tr>\n",
       "    <tr>\n",
       "      <th>8</th>\n",
       "      <td>43.0</td>\n",
       "      <td>ANN2</td>\n",
       "      <td>0.904734</td>\n",
       "      <td>1</td>\n",
       "    </tr>\n",
       "    <tr>\n",
       "      <th>9</th>\n",
       "      <td>24.0</td>\n",
       "      <td>ANN2</td>\n",
       "      <td>-0.645179</td>\n",
       "      <td>0</td>\n",
       "    </tr>\n",
       "    <tr>\n",
       "      <th>...</th>\n",
       "      <td>...</td>\n",
       "      <td>...</td>\n",
       "      <td>...</td>\n",
       "      <td>...</td>\n",
       "    </tr>\n",
       "    <tr>\n",
       "      <th>10359</th>\n",
       "      <td>53.0</td>\n",
       "      <td>PUMO</td>\n",
       "      <td>4.141132</td>\n",
       "      <td>0</td>\n",
       "    </tr>\n",
       "    <tr>\n",
       "      <th>10360</th>\n",
       "      <td>41.0</td>\n",
       "      <td>PUMO</td>\n",
       "      <td>2.813516</td>\n",
       "      <td>0</td>\n",
       "    </tr>\n",
       "    <tr>\n",
       "      <th>10361</th>\n",
       "      <td>8.0</td>\n",
       "      <td>PUTH</td>\n",
       "      <td>-0.925485</td>\n",
       "      <td>0</td>\n",
       "    </tr>\n",
       "    <tr>\n",
       "      <th>10362</th>\n",
       "      <td>22.0</td>\n",
       "      <td>RATC</td>\n",
       "      <td>0.653566</td>\n",
       "      <td>0</td>\n",
       "    </tr>\n",
       "    <tr>\n",
       "      <th>10363</th>\n",
       "      <td>24.0</td>\n",
       "      <td>SANK</td>\n",
       "      <td>NaN</td>\n",
       "      <td>0</td>\n",
       "    </tr>\n",
       "  </tbody>\n",
       "</table>\n",
       "<p>7946 rows × 4 columns</p>\n",
       "</div>"
      ],
      "text/plain": [
       "       length_of_expedition peak_id         z  member_deaths\n",
       "1                      31.0    ANN2 -0.074159              0\n",
       "3                      27.0    ANN2 -0.400456              0\n",
       "5                      37.0    ANN2  0.415288              1\n",
       "8                      43.0    ANN2  0.904734              1\n",
       "9                      24.0    ANN2 -0.645179              0\n",
       "...                     ...     ...       ...            ...\n",
       "10359                  53.0    PUMO  4.141132              0\n",
       "10360                  41.0    PUMO  2.813516              0\n",
       "10361                   8.0    PUTH -0.925485              0\n",
       "10362                  22.0    RATC  0.653566              0\n",
       "10363                  24.0    SANK       NaN              0\n",
       "\n",
       "[7946 rows x 4 columns]"
      ]
     },
     "execution_count": 41,
     "metadata": {},
     "output_type": "execute_result"
    }
   ],
   "source": [
    "t1['member_deaths'] = expeditions[['member_deaths']]\n",
    "t1"
   ]
  },
  {
   "cell_type": "code",
   "execution_count": 42,
   "id": "52802f9f",
   "metadata": {},
   "outputs": [],
   "source": [
    "# expeditions['z_score'] = (expeditions['length_of_expedition'] - expeditions['length_of_expedition'].mean())/expeditions['length_of_expedition'].std()\n"
   ]
  },
  {
   "cell_type": "code",
   "execution_count": 43,
   "id": "da125a22",
   "metadata": {},
   "outputs": [],
   "source": [
    "# expeditions[['peak_id','length_of_expedition', 'z_score'] ]"
   ]
  },
  {
   "cell_type": "code",
   "execution_count": 44,
   "id": "0d2220bb",
   "metadata": {},
   "outputs": [
    {
     "data": {
      "text/plain": [
       "<AxesSubplot:xlabel='length_of_expedition', ylabel='total_death'>"
      ]
     },
     "execution_count": 44,
     "metadata": {},
     "output_type": "execute_result"
    },
    {
     "data": {
      "image/png": "[encoded data removed]",
      "text/plain": [
       "<Figure size 432x288 with 1 Axes>"
      ]
     },
     "metadata": {
      "needs_background": "light"
     },
     "output_type": "display_data"
    }
   ],
   "source": [
    "# Calculating total number of deaths per expedition\n",
    "expeditions['total_death'] = expeditions['member_deaths'] + expeditions['hired_staff_deaths']\n",
    "\n",
    "# Drawing a scatter plot to visualize the association between expedition length and death\n",
    "expeditions.plot.scatter(x='length_of_expedition', y='total_death', c='red')\n"
   ]
  },
  {
   "cell_type": "markdown",
   "id": "1072edb2",
   "metadata": {},
   "source": [
    "###### it seems that the correlation between them is not that obvious."
   ]
  }
 ],
 "metadata": {
  "kernelspec": {
   "display_name": "Python 3 (ipykernel)",
   "language": "python",
   "name": "python3"
  },
  "language_info": {
   "codemirror_mode": {
    "name": "ipython",
    "version": 3
   },
   "file_extension": ".py",
   "mimetype": "text/x-python",
   "name": "python",
   "nbconvert_exporter": "python",
   "pygments_lexer": "ipython3",
   "version": "3.9.12"
  }
 },
 "nbformat": 4,
 "nbformat_minor": 5
}
