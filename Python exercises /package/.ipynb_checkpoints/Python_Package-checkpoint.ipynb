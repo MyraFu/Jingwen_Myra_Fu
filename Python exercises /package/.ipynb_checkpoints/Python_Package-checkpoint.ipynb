{
 "cells": [
  {
   "cell_type": "markdown",
   "id": "f2d5d3e8",
   "metadata": {},
   "source": [
    "### Link to your TestPyPi package and the repo of your package"
   ]
  },
  {
   "cell_type": "markdown",
   "id": "05762329",
   "metadata": {},
   "source": [
    "https://test.pypi.org/project/cipher-jf3483/"
   ]
  },
  {
   "cell_type": "markdown",
   "id": "9bc398ce",
   "metadata": {},
   "source": [
    "https://github.com/QMSS-G5072-2022/cipher_Fu_Jingwen"
   ]
  },
  {
   "cell_type": "markdown",
   "id": "a722a3ed",
   "metadata": {},
   "source": [
    "### Directly install your package from TestPyPi (using !pip ...)"
   ]
  },
  {
   "cell_type": "code",
   "execution_count": 1,
   "id": "93a05de8",
   "metadata": {},
   "outputs": [
    {
     "name": "stdout",
     "output_type": "stream",
     "text": [
      "Looking in indexes: https://test.pypi.org/simple/\r\n",
      "Requirement already satisfied: cipher-jf3483 in /Users/jwfu/opt/anaconda3/lib/python3.9/site-packages (0.1.0)\r\n"
     ]
    }
   ],
   "source": [
    "!pip install -i https://test.pypi.org/simple/ cipher-jf3483"
   ]
  },
  {
   "cell_type": "markdown",
   "id": "06d6f754",
   "metadata": {},
   "source": [
    "### Import your package"
   ]
  },
  {
   "cell_type": "code",
   "execution_count": 2,
   "id": "f7c44eb7",
   "metadata": {},
   "outputs": [],
   "source": [
    "from cipher_jf3483 import cipher_jf3483"
   ]
  },
  {
   "cell_type": "markdown",
   "id": "a6143a2b",
   "metadata": {},
   "source": [
    "### Run the cipher function for an example"
   ]
  },
  {
   "cell_type": "code",
   "execution_count": 3,
   "id": "2918e951",
   "metadata": {},
   "outputs": [
    {
     "data": {
      "text/plain": [
       "'UjlUpl jt beejujwf'"
      ]
     },
     "execution_count": 3,
     "metadata": {},
     "output_type": "execute_result"
    }
   ],
   "source": [
    "cipher_jf3483.cipher('TikTok is additive',1)"
   ]
  },
  {
   "cell_type": "markdown",
   "id": "bbf1a66e",
   "metadata": {},
   "source": []
  },
  {
   "cell_type": "code",
   "execution_count": 4,
   "id": "b3f24950",
   "metadata": {},
   "outputs": [
    {
     "name": "stdout",
     "output_type": "stream",
     "text": [
      "Help on module cipher_jf3483.cipher_jf3483 in cipher_jf3483:\n",
      "\n",
      "NAME\n",
      "    cipher_jf3483.cipher_jf3483\n",
      "\n",
      "FUNCTIONS\n",
      "    cipher(text, shift, encrypt=True)\n",
      "        for decrypt or encrypt the combination of some centain alphabets\n",
      "        \n",
      "        input: \n",
      "        -------------\n",
      "        text is a string, contains alphabet from aA-zZ\n",
      "        shift is interger\n",
      "        encryt is boolean; ture-encryt false-decrypt\n",
      "        \n",
      "        output:\n",
      "        ------------\n",
      "        the output is a string accoridng to what inputs are\n",
      "        \n",
      "        Examples\n",
      "        --------\n",
      "        >>> from cipher import cipher\n",
      "        >>> cipher('QMSS', shift = 1)\n",
      "        'RNTT'\n",
      "\n",
      "FILE\n",
      "    /Users/jwfu/opt/anaconda3/lib/python3.9/site-packages/cipher_jf3483/cipher_jf3483.py\n",
      "\n",
      "\n"
     ]
    }
   ],
   "source": [
    "help(cipher_jf3483)"
   ]
  },
  {
   "cell_type": "code",
   "execution_count": 5,
   "id": "e6f4fdba",
   "metadata": {},
   "outputs": [
    {
     "name": "stdout",
     "output_type": "stream",
     "text": [
      "Help on function cipher in module cipher_jf3483.cipher_jf3483:\n",
      "\n",
      "cipher(text, shift, encrypt=True)\n",
      "    for decrypt or encrypt the combination of some centain alphabets\n",
      "    \n",
      "    input: \n",
      "    -------------\n",
      "    text is a string, contains alphabet from aA-zZ\n",
      "    shift is interger\n",
      "    encryt is boolean; ture-encryt false-decrypt\n",
      "    \n",
      "    output:\n",
      "    ------------\n",
      "    the output is a string accoridng to what inputs are\n",
      "    \n",
      "    Examples\n",
      "    --------\n",
      "    >>> from cipher import cipher\n",
      "    >>> cipher('QMSS', shift = 1)\n",
      "    'RNTT'\n",
      "\n"
     ]
    }
   ],
   "source": [
    "help(cipher_jf3483.cipher)"
   ]
  },
  {
   "cell_type": "code",
   "execution_count": 6,
   "id": "f3cf833b",
   "metadata": {},
   "outputs": [
    {
     "name": "stdout",
     "output_type": "stream",
     "text": [
      "\u001b[1m============================= test session starts ==============================\u001b[0m\n",
      "platform darwin -- Python 3.9.12, pytest-7.1.1, pluggy-1.0.0 -- /Users/jwfu/opt/anaconda3/bin/python\n",
      "cachedir: .pytest_cache\n",
      "rootdir: /Users/jwfu/Desktop/github/Fu_JingWen/HW7\n",
      "plugins: anyio-3.5.0\n",
      "collected 1 item                                                               \u001b[0m\n",
      "\n",
      "test_cipher_jf3483.py::test_cipher_single <- ../HM7/test_cipher_jf3483.py \u001b[32mPASSED\u001b[0m\u001b[32m [100%]\u001b[0m\n",
      "\n",
      "\u001b[32m============================== \u001b[32m\u001b[1m1 passed\u001b[0m\u001b[32m in 0.01s\u001b[0m\u001b[32m ===============================\u001b[0m\n"
     ]
    }
   ],
   "source": [
    "!pytest -vv test_cipher_jf3483.py"
   ]
  },
  {
   "cell_type": "code",
   "execution_count": null,
   "id": "774a3134",
   "metadata": {},
   "outputs": [],
   "source": []
  },
  {
   "cell_type": "code",
   "execution_count": null,
   "id": "0527bdbb",
   "metadata": {},
   "outputs": [],
   "source": []
  }
 ],
 "metadata": {
  "kernelspec": {
   "display_name": "Python 3 (ipykernel)",
   "language": "python",
   "name": "python3"
  },
  "language_info": {
   "codemirror_mode": {
    "name": "ipython",
    "version": 3
   },
   "file_extension": ".py",
   "mimetype": "text/x-python",
   "name": "python",
   "nbconvert_exporter": "python",
   "pygments_lexer": "ipython3",
   "version": "3.9.12"
  }
 },
 "nbformat": 4,
 "nbformat_minor": 5
}
