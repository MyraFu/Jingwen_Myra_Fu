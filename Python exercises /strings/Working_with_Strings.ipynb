{
 "cells": [
  {
   "cell_type": "markdown",
   "id": "d4eb9660",
   "metadata": {},
   "source": [
    "### Working with Strings"
   ]
  },
  {
   "cell_type": "markdown",
   "id": "e9418400",
   "metadata": {},
   "source": [
    "JingWen Fu\\\n",
    "jf3483@columbia.edu"
   ]
  },
  {
   "cell_type": "code",
   "execution_count": 1,
   "id": "cb8e64e7",
   "metadata": {},
   "outputs": [],
   "source": [
    "import pandas as pd\n",
    "import numpy as np\n",
    "import re\n",
    "import matplotlib.pyplot as plt\n",
    "import seaborn as sns"
   ]
  },
  {
   "cell_type": "markdown",
   "id": "f017f329",
   "metadata": {},
   "source": [
    "#### a) Length of Narratives\n",
    "Read in the data. Find and display the longest and shortest description."
   ]
  },
  {
   "cell_type": "code",
   "execution_count": 2,
   "id": "41f5e91e",
   "metadata": {},
   "outputs": [
    {
     "data": {
      "text/html": [
       "<div>\n",
       "<style scoped>\n",
       "    .dataframe tbody tr th:only-of-type {\n",
       "        vertical-align: middle;\n",
       "    }\n",
       "\n",
       "    .dataframe tbody tr th {\n",
       "        vertical-align: top;\n",
       "    }\n",
       "\n",
       "    .dataframe thead th {\n",
       "        text-align: right;\n",
       "    }\n",
       "</style>\n",
       "<table border=\"1\" class=\"dataframe\">\n",
       "  <thead>\n",
       "    <tr style=\"text-align: right;\">\n",
       "      <th></th>\n",
       "      <th>description</th>\n",
       "    </tr>\n",
       "  </thead>\n",
       "  <tbody>\n",
       "    <tr>\n",
       "      <th>0</th>\n",
       "      <td>10 MO F FELL OUT OF SHOPPING CART;DX FRACTURED...</td>\n",
       "    </tr>\n",
       "    <tr>\n",
       "      <th>1</th>\n",
       "      <td>75YOF WITH LAC TO FINGER FROM METAL CAN</td>\n",
       "    </tr>\n",
       "    <tr>\n",
       "      <th>2</th>\n",
       "      <td>8YOF FRACTURED FINGER FELL OFF HER BIKE</td>\n",
       "    </tr>\n",
       "    <tr>\n",
       "      <th>3</th>\n",
       "      <td>9 YOM TACKLED DURING FOOTBALL PRACTICE.  DX: C...</td>\n",
       "    </tr>\n",
       "    <tr>\n",
       "      <th>4</th>\n",
       "      <td>PT WAS HIT ON RT SIDE WHILE PLAYING FOOTBALL D...</td>\n",
       "    </tr>\n",
       "  </tbody>\n",
       "</table>\n",
       "</div>"
      ],
      "text/plain": [
       "                                         description\n",
       "0  10 MO F FELL OUT OF SHOPPING CART;DX FRACTURED...\n",
       "1           75YOF WITH LAC TO FINGER FROM METAL CAN \n",
       "2           8YOF FRACTURED FINGER FELL OFF HER BIKE \n",
       "3  9 YOM TACKLED DURING FOOTBALL PRACTICE.  DX: C...\n",
       "4  PT WAS HIT ON RT SIDE WHILE PLAYING FOOTBALL D..."
      ]
     },
     "execution_count": 2,
     "metadata": {},
     "output_type": "execute_result"
    }
   ],
   "source": [
    "em = pd.read_csv(\"./emergency.csv\", names=['description'])\n",
    "em.head()"
   ]
  },
  {
   "cell_type": "code",
   "execution_count": 3,
   "id": "9a69d151",
   "metadata": {},
   "outputs": [
    {
     "data": {
      "text/plain": [
       "<bound method NDFrame.head of                                             description\n",
       "0     10 MO F FELL OUT OF SHOPPING CART;DX FRACTURED...\n",
       "1              75YOF WITH LAC TO FINGER FROM METAL CAN \n",
       "2              8YOF FRACTURED FINGER FELL OFF HER BIKE \n",
       "3     9 YOM TACKLED DURING FOOTBALL PRACTICE.  DX: C...\n",
       "4     PT WAS HIT ON RT SIDE WHILE PLAYING FOOTBALL D...\n",
       "...                                                 ...\n",
       "9995  RT HIP STRAIN.9YOM WAS PLAYING FOOTBALL AND IN...\n",
       "9996  16 MO MALE FELL AND HIT HEAD ON A TRAIN TABLE....\n",
       "9997      RAN INTO TABLE, HIT FACE DX: FACIAL CONTUSION\n",
       "9998       81YOF-HUMERUS FX-FELL DOWN 3-4 STEPS-@ HOME \n",
       "9999  30YOM PUSHING TRASH DOWN INTO A GARBAGE CAN WI...\n",
       "\n",
       "[10000 rows x 1 columns]>"
      ]
     },
     "execution_count": 3,
     "metadata": {},
     "output_type": "execute_result"
    }
   ],
   "source": [
    "em.head"
   ]
  },
  {
   "cell_type": "code",
   "execution_count": 4,
   "id": "7f114211",
   "metadata": {},
   "outputs": [],
   "source": [
    "em[\"len\"] = em[\"description\"].map(lambda x: len(x))"
   ]
  },
  {
   "cell_type": "code",
   "execution_count": 5,
   "id": "83ae30af",
   "metadata": {},
   "outputs": [
    {
     "data": {
      "text/html": [
       "<div>\n",
       "<style scoped>\n",
       "    .dataframe tbody tr th:only-of-type {\n",
       "        vertical-align: middle;\n",
       "    }\n",
       "\n",
       "    .dataframe tbody tr th {\n",
       "        vertical-align: top;\n",
       "    }\n",
       "\n",
       "    .dataframe thead th {\n",
       "        text-align: right;\n",
       "    }\n",
       "</style>\n",
       "<table border=\"1\" class=\"dataframe\">\n",
       "  <thead>\n",
       "    <tr style=\"text-align: right;\">\n",
       "      <th></th>\n",
       "      <th>description</th>\n",
       "      <th>len</th>\n",
       "    </tr>\n",
       "  </thead>\n",
       "  <tbody>\n",
       "    <tr>\n",
       "      <th>5811</th>\n",
       "      <td>DX SYNCOPE/PROLONGED QT/CHEST PN: 49YOF COMPET...</td>\n",
       "      <td>143</td>\n",
       "    </tr>\n",
       "    <tr>\n",
       "      <th>511</th>\n",
       "      <td>19MOWF  PARENTS HOLDING PT.  DAD STATES SHE WA...</td>\n",
       "      <td>143</td>\n",
       "    </tr>\n",
       "    <tr>\n",
       "      <th>4322</th>\n",
       "      <td>AT  HOUSE- FELL ONTO BACK OF HIS HEAD, WHILE  ...</td>\n",
       "      <td>143</td>\n",
       "    </tr>\n",
       "    <tr>\n",
       "      <th>6493</th>\n",
       "      <td>21MOF IN LIVING ROOM,FOUND W/BURN THUMB,OTTOMA...</td>\n",
       "      <td>143</td>\n",
       "    </tr>\n",
       "    <tr>\n",
       "      <th>4791</th>\n",
       "      <td>79 YO F, C/O RT SHOULDER, FACIAL PAIN, WAS WAL...</td>\n",
       "      <td>143</td>\n",
       "    </tr>\n",
       "    <tr>\n",
       "      <th>...</th>\n",
       "      <td>...</td>\n",
       "      <td>...</td>\n",
       "    </tr>\n",
       "    <tr>\n",
       "      <th>5342</th>\n",
       "      <td>H'TMA HEAD ON SINK</td>\n",
       "      <td>19</td>\n",
       "    </tr>\n",
       "    <tr>\n",
       "      <th>4357</th>\n",
       "      <td>FX TIBIA- FELL BED</td>\n",
       "      <td>19</td>\n",
       "    </tr>\n",
       "    <tr>\n",
       "      <th>5365</th>\n",
       "      <td>FAN FALL ON PT. HI</td>\n",
       "      <td>19</td>\n",
       "    </tr>\n",
       "    <tr>\n",
       "      <th>7731</th>\n",
       "      <td>INGESTION OF ***</td>\n",
       "      <td>17</td>\n",
       "    </tr>\n",
       "    <tr>\n",
       "      <th>7127</th>\n",
       "      <td>ABR HIP ON FLOOR</td>\n",
       "      <td>17</td>\n",
       "    </tr>\n",
       "  </tbody>\n",
       "</table>\n",
       "<p>10000 rows × 2 columns</p>\n",
       "</div>"
      ],
      "text/plain": [
       "                                            description  len\n",
       "5811  DX SYNCOPE/PROLONGED QT/CHEST PN: 49YOF COMPET...  143\n",
       "511   19MOWF  PARENTS HOLDING PT.  DAD STATES SHE WA...  143\n",
       "4322  AT  HOUSE- FELL ONTO BACK OF HIS HEAD, WHILE  ...  143\n",
       "6493  21MOF IN LIVING ROOM,FOUND W/BURN THUMB,OTTOMA...  143\n",
       "4791  79 YO F, C/O RT SHOULDER, FACIAL PAIN, WAS WAL...  143\n",
       "...                                                 ...  ...\n",
       "5342                                H'TMA HEAD ON SINK    19\n",
       "4357                                FX TIBIA- FELL BED    19\n",
       "5365                                FAN FALL ON PT. HI    19\n",
       "7731                                  INGESTION OF ***    17\n",
       "7127                                  ABR HIP ON FLOOR    17\n",
       "\n",
       "[10000 rows x 2 columns]"
      ]
     },
     "execution_count": 5,
     "metadata": {},
     "output_type": "execute_result"
    }
   ],
   "source": [
    "em.sort_values(by=[\"len\"], ascending=False)"
   ]
  },
  {
   "cell_type": "code",
   "execution_count": 6,
   "id": "0de53179",
   "metadata": {},
   "outputs": [
    {
     "name": "stderr",
     "output_type": "stream",
     "text": [
      "/var/folders/y6/fc2l4qks2738lxj3679w4wkm0000gn/T/ipykernel_94184/1305557127.py:2: UserWarning: Boolean Series key will be reindexed to match DataFrame index.\n",
      "  em[em.sort_values(by=[\"len\"], ascending=False)[\"len\"] == 143]\n"
     ]
    },
    {
     "data": {
      "text/html": [
       "<div>\n",
       "<style scoped>\n",
       "    .dataframe tbody tr th:only-of-type {\n",
       "        vertical-align: middle;\n",
       "    }\n",
       "\n",
       "    .dataframe tbody tr th {\n",
       "        vertical-align: top;\n",
       "    }\n",
       "\n",
       "    .dataframe thead th {\n",
       "        text-align: right;\n",
       "    }\n",
       "</style>\n",
       "<table border=\"1\" class=\"dataframe\">\n",
       "  <thead>\n",
       "    <tr style=\"text-align: right;\">\n",
       "      <th></th>\n",
       "      <th>description</th>\n",
       "      <th>len</th>\n",
       "    </tr>\n",
       "  </thead>\n",
       "  <tbody>\n",
       "    <tr>\n",
       "      <th>109</th>\n",
       "      <td>40YOM-C/O FOOT/HEEL PAIN RUNNIJNG BACKWARDS FE...</td>\n",
       "      <td>143</td>\n",
       "    </tr>\n",
       "    <tr>\n",
       "      <th>511</th>\n",
       "      <td>19MOWF  PARENTS HOLDING PT.  DAD STATES SHE WA...</td>\n",
       "      <td>143</td>\n",
       "    </tr>\n",
       "    <tr>\n",
       "      <th>630</th>\n",
       "      <td>44YOF  PT HAVING SEVERE R ARM PAIN THAT IS RAD...</td>\n",
       "      <td>143</td>\n",
       "    </tr>\n",
       "    <tr>\n",
       "      <th>920</th>\n",
       "      <td>57 YO F WAS POURING KEROSENE OVER AN OPEN FLAM...</td>\n",
       "      <td>143</td>\n",
       "    </tr>\n",
       "    <tr>\n",
       "      <th>1111</th>\n",
       "      <td>13YOM DID OUTDOOR WORKOUT X1 1/2 HRS, DEVELOEP...</td>\n",
       "      <td>143</td>\n",
       "    </tr>\n",
       "    <tr>\n",
       "      <th>...</th>\n",
       "      <td>...</td>\n",
       "      <td>...</td>\n",
       "    </tr>\n",
       "    <tr>\n",
       "      <th>9370</th>\n",
       "      <td>20 YO M, RUNNING FROM POLICE AFTER AN ALLEGED ...</td>\n",
       "      <td>143</td>\n",
       "    </tr>\n",
       "    <tr>\n",
       "      <th>9666</th>\n",
       "      <td>22YOM WAS LIGHTING PROPANE PIZZA OVEN ON FRI. ...</td>\n",
       "      <td>143</td>\n",
       "    </tr>\n",
       "    <tr>\n",
       "      <th>9670</th>\n",
       "      <td>45YOWM  TONIGHT PT WAS TRYING TO MOVE HIS FATH...</td>\n",
       "      <td>143</td>\n",
       "    </tr>\n",
       "    <tr>\n",
       "      <th>9749</th>\n",
       "      <td>PT.INJ.NOSE,HAND,WRIST,ELBOW WHEN RIDING BIKE ...</td>\n",
       "      <td>143</td>\n",
       "    </tr>\n",
       "    <tr>\n",
       "      <th>9853</th>\n",
       "      <td>15YF ON BUS TO SOCCER GAME&amp;NOTICED \"FUNNY SMEL...</td>\n",
       "      <td>143</td>\n",
       "    </tr>\n",
       "  </tbody>\n",
       "</table>\n",
       "<p>66 rows × 2 columns</p>\n",
       "</div>"
      ],
      "text/plain": [
       "                                            description  len\n",
       "109   40YOM-C/O FOOT/HEEL PAIN RUNNIJNG BACKWARDS FE...  143\n",
       "511   19MOWF  PARENTS HOLDING PT.  DAD STATES SHE WA...  143\n",
       "630   44YOF  PT HAVING SEVERE R ARM PAIN THAT IS RAD...  143\n",
       "920   57 YO F WAS POURING KEROSENE OVER AN OPEN FLAM...  143\n",
       "1111  13YOM DID OUTDOOR WORKOUT X1 1/2 HRS, DEVELOEP...  143\n",
       "...                                                 ...  ...\n",
       "9370  20 YO M, RUNNING FROM POLICE AFTER AN ALLEGED ...  143\n",
       "9666  22YOM WAS LIGHTING PROPANE PIZZA OVEN ON FRI. ...  143\n",
       "9670  45YOWM  TONIGHT PT WAS TRYING TO MOVE HIS FATH...  143\n",
       "9749  PT.INJ.NOSE,HAND,WRIST,ELBOW WHEN RIDING BIKE ...  143\n",
       "9853  15YF ON BUS TO SOCCER GAME&NOTICED \"FUNNY SMEL...  143\n",
       "\n",
       "[66 rows x 2 columns]"
      ]
     },
     "execution_count": 6,
     "metadata": {},
     "output_type": "execute_result"
    }
   ],
   "source": [
    "# the longest descriptions\n",
    "em[em.sort_values(by=[\"len\"], ascending=False)[\"len\"] == 143]"
   ]
  },
  {
   "cell_type": "code",
   "execution_count": 7,
   "id": "f13ed802",
   "metadata": {
    "scrolled": true
   },
   "outputs": [
    {
     "name": "stderr",
     "output_type": "stream",
     "text": [
      "/var/folders/y6/fc2l4qks2738lxj3679w4wkm0000gn/T/ipykernel_94184/2713333249.py:2: UserWarning: Boolean Series key will be reindexed to match DataFrame index.\n",
      "  em[em.sort_values(by=[\"len\"], ascending=True)[\"len\"] == 17]\n"
     ]
    },
    {
     "data": {
      "text/html": [
       "<div>\n",
       "<style scoped>\n",
       "    .dataframe tbody tr th:only-of-type {\n",
       "        vertical-align: middle;\n",
       "    }\n",
       "\n",
       "    .dataframe tbody tr th {\n",
       "        vertical-align: top;\n",
       "    }\n",
       "\n",
       "    .dataframe thead th {\n",
       "        text-align: right;\n",
       "    }\n",
       "</style>\n",
       "<table border=\"1\" class=\"dataframe\">\n",
       "  <thead>\n",
       "    <tr style=\"text-align: right;\">\n",
       "      <th></th>\n",
       "      <th>description</th>\n",
       "      <th>len</th>\n",
       "    </tr>\n",
       "  </thead>\n",
       "  <tbody>\n",
       "    <tr>\n",
       "      <th>7127</th>\n",
       "      <td>ABR HIP ON FLOOR</td>\n",
       "      <td>17</td>\n",
       "    </tr>\n",
       "    <tr>\n",
       "      <th>7731</th>\n",
       "      <td>INGESTION OF ***</td>\n",
       "      <td>17</td>\n",
       "    </tr>\n",
       "  </tbody>\n",
       "</table>\n",
       "</div>"
      ],
      "text/plain": [
       "            description  len\n",
       "7127  ABR HIP ON FLOOR    17\n",
       "7731  INGESTION OF ***    17"
      ]
     },
     "execution_count": 7,
     "metadata": {},
     "output_type": "execute_result"
    }
   ],
   "source": [
    "# the shortest descriptions\n",
    "em[em.sort_values(by=[\"len\"], ascending=True)[\"len\"] == 17]"
   ]
  },
  {
   "cell_type": "code",
   "execution_count": 8,
   "id": "7d8c6dd0",
   "metadata": {},
   "outputs": [],
   "source": [
    "# em.sort_values(by=[\"len\"], ascending=False).iloc[0][0]  # shows the description in the first row ([0,0] means coordinate)\n",
    "# em.sort_values(by=[\"len\"], ascending=False).iloc[0][1]  # shows the len in the first row ([0, 1] means coordinate)"
   ]
  },
  {
   "cell_type": "markdown",
   "id": "20301bc8",
   "metadata": {},
   "source": [
    "#### method2"
   ]
  },
  {
   "cell_type": "code",
   "execution_count": 9,
   "id": "99fa90d3",
   "metadata": {},
   "outputs": [
    {
     "data": {
      "text/html": [
       "<div>\n",
       "<style scoped>\n",
       "    .dataframe tbody tr th:only-of-type {\n",
       "        vertical-align: middle;\n",
       "    }\n",
       "\n",
       "    .dataframe tbody tr th {\n",
       "        vertical-align: top;\n",
       "    }\n",
       "\n",
       "    .dataframe thead th {\n",
       "        text-align: right;\n",
       "    }\n",
       "</style>\n",
       "<table border=\"1\" class=\"dataframe\">\n",
       "  <thead>\n",
       "    <tr style=\"text-align: right;\">\n",
       "      <th></th>\n",
       "      <th>description</th>\n",
       "      <th>len</th>\n",
       "    </tr>\n",
       "  </thead>\n",
       "  <tbody>\n",
       "    <tr>\n",
       "      <th>109</th>\n",
       "      <td>40YOM-C/O FOOT/HEEL PAIN RUNNIJNG BACKWARDS FE...</td>\n",
       "      <td>143</td>\n",
       "    </tr>\n",
       "    <tr>\n",
       "      <th>511</th>\n",
       "      <td>19MOWF  PARENTS HOLDING PT.  DAD STATES SHE WA...</td>\n",
       "      <td>143</td>\n",
       "    </tr>\n",
       "    <tr>\n",
       "      <th>630</th>\n",
       "      <td>44YOF  PT HAVING SEVERE R ARM PAIN THAT IS RAD...</td>\n",
       "      <td>143</td>\n",
       "    </tr>\n",
       "    <tr>\n",
       "      <th>920</th>\n",
       "      <td>57 YO F WAS POURING KEROSENE OVER AN OPEN FLAM...</td>\n",
       "      <td>143</td>\n",
       "    </tr>\n",
       "    <tr>\n",
       "      <th>1111</th>\n",
       "      <td>13YOM DID OUTDOOR WORKOUT X1 1/2 HRS, DEVELOEP...</td>\n",
       "      <td>143</td>\n",
       "    </tr>\n",
       "    <tr>\n",
       "      <th>...</th>\n",
       "      <td>...</td>\n",
       "      <td>...</td>\n",
       "    </tr>\n",
       "    <tr>\n",
       "      <th>9370</th>\n",
       "      <td>20 YO M, RUNNING FROM POLICE AFTER AN ALLEGED ...</td>\n",
       "      <td>143</td>\n",
       "    </tr>\n",
       "    <tr>\n",
       "      <th>9666</th>\n",
       "      <td>22YOM WAS LIGHTING PROPANE PIZZA OVEN ON FRI. ...</td>\n",
       "      <td>143</td>\n",
       "    </tr>\n",
       "    <tr>\n",
       "      <th>9670</th>\n",
       "      <td>45YOWM  TONIGHT PT WAS TRYING TO MOVE HIS FATH...</td>\n",
       "      <td>143</td>\n",
       "    </tr>\n",
       "    <tr>\n",
       "      <th>9749</th>\n",
       "      <td>PT.INJ.NOSE,HAND,WRIST,ELBOW WHEN RIDING BIKE ...</td>\n",
       "      <td>143</td>\n",
       "    </tr>\n",
       "    <tr>\n",
       "      <th>9853</th>\n",
       "      <td>15YF ON BUS TO SOCCER GAME&amp;NOTICED \"FUNNY SMEL...</td>\n",
       "      <td>143</td>\n",
       "    </tr>\n",
       "  </tbody>\n",
       "</table>\n",
       "<p>66 rows × 2 columns</p>\n",
       "</div>"
      ],
      "text/plain": [
       "                                            description  len\n",
       "109   40YOM-C/O FOOT/HEEL PAIN RUNNIJNG BACKWARDS FE...  143\n",
       "511   19MOWF  PARENTS HOLDING PT.  DAD STATES SHE WA...  143\n",
       "630   44YOF  PT HAVING SEVERE R ARM PAIN THAT IS RAD...  143\n",
       "920   57 YO F WAS POURING KEROSENE OVER AN OPEN FLAM...  143\n",
       "1111  13YOM DID OUTDOOR WORKOUT X1 1/2 HRS, DEVELOEP...  143\n",
       "...                                                 ...  ...\n",
       "9370  20 YO M, RUNNING FROM POLICE AFTER AN ALLEGED ...  143\n",
       "9666  22YOM WAS LIGHTING PROPANE PIZZA OVEN ON FRI. ...  143\n",
       "9670  45YOWM  TONIGHT PT WAS TRYING TO MOVE HIS FATH...  143\n",
       "9749  PT.INJ.NOSE,HAND,WRIST,ELBOW WHEN RIDING BIKE ...  143\n",
       "9853  15YF ON BUS TO SOCCER GAME&NOTICED \"FUNNY SMEL...  143\n",
       "\n",
       "[66 rows x 2 columns]"
      ]
     },
     "execution_count": 9,
     "metadata": {},
     "output_type": "execute_result"
    }
   ],
   "source": [
    "#longest description\n",
    "lengths = em['description'].str.len()\n",
    "argmax = np.where(lengths == lengths.max())[0]\n",
    "em.iloc[argmax]"
   ]
  },
  {
   "cell_type": "code",
   "execution_count": 10,
   "id": "eb5b116e",
   "metadata": {},
   "outputs": [
    {
     "data": {
      "text/html": [
       "<div>\n",
       "<style scoped>\n",
       "    .dataframe tbody tr th:only-of-type {\n",
       "        vertical-align: middle;\n",
       "    }\n",
       "\n",
       "    .dataframe tbody tr th {\n",
       "        vertical-align: top;\n",
       "    }\n",
       "\n",
       "    .dataframe thead th {\n",
       "        text-align: right;\n",
       "    }\n",
       "</style>\n",
       "<table border=\"1\" class=\"dataframe\">\n",
       "  <thead>\n",
       "    <tr style=\"text-align: right;\">\n",
       "      <th></th>\n",
       "      <th>description</th>\n",
       "      <th>len</th>\n",
       "    </tr>\n",
       "  </thead>\n",
       "  <tbody>\n",
       "    <tr>\n",
       "      <th>7127</th>\n",
       "      <td>ABR HIP ON FLOOR</td>\n",
       "      <td>17</td>\n",
       "    </tr>\n",
       "    <tr>\n",
       "      <th>7731</th>\n",
       "      <td>INGESTION OF ***</td>\n",
       "      <td>17</td>\n",
       "    </tr>\n",
       "  </tbody>\n",
       "</table>\n",
       "</div>"
      ],
      "text/plain": [
       "            description  len\n",
       "7127  ABR HIP ON FLOOR    17\n",
       "7731  INGESTION OF ***    17"
      ]
     },
     "execution_count": 10,
     "metadata": {},
     "output_type": "execute_result"
    }
   ],
   "source": [
    "#shortest description\n",
    "argmin = np.where(lengths == lengths.min())[0]\n",
    "em.iloc[argmin]"
   ]
  },
  {
   "cell_type": "markdown",
   "id": "aa04b96c",
   "metadata": {},
   "source": [
    "#### b) Fractures\n",
    "Find all narratives related to \"fractures\". Try to include singular/plural/verb forms in your search. Also, `FX` is the medical abbreviation for fracture, so include that as well. How many fracture narratives can you find?"
   ]
  },
  {
   "cell_type": "code",
   "execution_count": 11,
   "id": "55b59af7",
   "metadata": {},
   "outputs": [],
   "source": [
    "b_fra = [d for d in em.description if re.search(r'(FRACT|FX|FR\\sACT)', d)]"
   ]
  },
  {
   "cell_type": "code",
   "execution_count": 12,
   "id": "16255a90",
   "metadata": {},
   "outputs": [
    {
     "data": {
      "text/plain": [
       "1510"
      ]
     },
     "execution_count": 12,
     "metadata": {},
     "output_type": "execute_result"
    }
   ],
   "source": [
    "len([d for d in em.description if re.search(r'(FRACT|FX|FR\\sACT)', d)])"
   ]
  },
  {
   "cell_type": "code",
   "execution_count": null,
   "id": "308e02de",
   "metadata": {},
   "outputs": [],
   "source": []
  },
  {
   "cell_type": "code",
   "execution_count": 13,
   "id": "ea7352bb",
   "metadata": {},
   "outputs": [
    {
     "data": {
      "text/plain": [
       "1499"
      ]
     },
     "execution_count": 13,
     "metadata": {},
     "output_type": "execute_result"
    }
   ],
   "source": [
    "fracture_df = em[(em['description'].str.contains('FRACTUR'))| (em['description'].str.contains('FX'))]\n",
    "fracture_df.shape[0]"
   ]
  },
  {
   "cell_type": "markdown",
   "id": "448c5866",
   "metadata": {},
   "source": [
    "###### c) Body Parts\n",
    "Among the fracture narratives, try to identify the body parts that are fractured (Note: Don't go overboard. A selection of parts is sufficient.). Make a histogram of fractured body parts (but make sure plural and singular forms are combined.)"
   ]
  },
  {
   "cell_type": "code",
   "execution_count": 14,
   "id": "49277f65",
   "metadata": {},
   "outputs": [
    {
     "data": {
      "text/plain": [
       "128"
      ]
     },
     "execution_count": 14,
     "metadata": {},
     "output_type": "execute_result"
    }
   ],
   "source": [
    "len([d for d in b_fra if re.search(r'(ANKLE)', d)])"
   ]
  },
  {
   "cell_type": "code",
   "execution_count": 15,
   "id": "43a2df87",
   "metadata": {
    "scrolled": true
   },
   "outputs": [
    {
     "data": {
      "text/plain": [
       "21"
      ]
     },
     "execution_count": 15,
     "metadata": {},
     "output_type": "execute_result"
    }
   ],
   "source": [
    "len([d for d in b_fra if re.search(r'(SKULL)', d)])"
   ]
  },
  {
   "cell_type": "code",
   "execution_count": 16,
   "id": "637e53e4",
   "metadata": {},
   "outputs": [
    {
     "data": {
      "text/plain": [
       "143"
      ]
     },
     "execution_count": 16,
     "metadata": {},
     "output_type": "execute_result"
    }
   ],
   "source": [
    "len([d for d in b_fra if re.search(r'(FINGER)', d)])"
   ]
  },
  {
   "cell_type": "code",
   "execution_count": 17,
   "id": "79a18508",
   "metadata": {},
   "outputs": [
    {
     "data": {
      "text/plain": [
       "146"
      ]
     },
     "execution_count": 17,
     "metadata": {},
     "output_type": "execute_result"
    }
   ],
   "source": [
    "len([d for d in b_fra if re.search(r'(WRIST)', d)])"
   ]
  },
  {
   "cell_type": "code",
   "execution_count": 18,
   "id": "550e70c9",
   "metadata": {},
   "outputs": [
    {
     "data": {
      "text/plain": [
       "25"
      ]
     },
     "execution_count": 18,
     "metadata": {},
     "output_type": "execute_result"
    }
   ],
   "source": [
    "len([d for d in b_fra if re.search(r'(FEMUR)', d)])"
   ]
  },
  {
   "cell_type": "code",
   "execution_count": 19,
   "id": "b96776a2",
   "metadata": {},
   "outputs": [
    {
     "data": {
      "text/plain": [
       "array([[<AxesSubplot:title={'center':'len_'}>]], dtype=object)"
      ]
     },
     "execution_count": 19,
     "metadata": {},
     "output_type": "execute_result"
    },
    {
     "data": {
      "image/png": "[encoded data removed]",
      "text/plain": [
       "<Figure size 432x288 with 1 Axes>"
      ]
     },
     "metadata": {
      "needs_background": "light"
     },
     "output_type": "display_data"
    }
   ],
   "source": [
    "x = {'body parts': ['ANKLE', 'SKULL', 'FINGER', 'WRIST', 'FEMUR'], 'len_': [127,20,142,143,25]}\n",
    "body_parts = pd.DataFrame(x)\n",
    "body_parts.hist(bins = 80)"
   ]
  },
  {
   "cell_type": "code",
   "execution_count": 20,
   "id": "5dbb0d70",
   "metadata": {
    "scrolled": true
   },
   "outputs": [
    {
     "data": {
      "image/png": "[encoded data removed]",
      "text/plain": [
       "<Figure size 432x288 with 1 Axes>"
      ]
     },
     "metadata": {
      "needs_background": "light"
     },
     "output_type": "display_data"
    }
   ],
   "source": [
    "x1 = np.arange(5)\n",
    "plt.bar(x1, height=[127,20,142,143,25])\n",
    "plt.xticks(x1, ['Ankle','Skull','Finger','Wrist','Femur']);"
   ]
  },
  {
   "cell_type": "code",
   "execution_count": 21,
   "id": "7227f5ca",
   "metadata": {},
   "outputs": [],
   "source": [
    "# sns.histplot(data=mpg, x=\"mpg\", hue=\"cylinders\")"
   ]
  },
  {
   "cell_type": "code",
   "execution_count": null,
   "id": "6493ec92",
   "metadata": {},
   "outputs": [],
   "source": []
  },
  {
   "cell_type": "code",
   "execution_count": 22,
   "id": "881b98a2",
   "metadata": {},
   "outputs": [],
   "source": [
    "dic = {}\n",
    "body_dic = {}\n",
    "lst = []\n",
    "#Get the words before and after fracture\n",
    "for i in fracture_df['description']:\n",
    "    lst.append(re.search(r'(?:\\S+\\s)?\\S*(FRACTUR|FX)\\S*(?:\\s\\S+)?', i).group())\n",
    "for i in lst:\n",
    "    for j in i.split():\n",
    "        if (j or j[:-1] or j[:-2]) in dic.keys():\n",
    "            dic[j] += 1\n",
    "        else:\n",
    "            dic[j] = 1\n",
    "#Pick the body parts that appears more than 10 times\n",
    "for i in dic.keys():\n",
    "    if (i != 'FRACTURED') and (i != 'FRACTURE') and (i != 'FX') and (i != 'FRACTURING') and (i != 'FXS'):\n",
    "        if dic.get(i) > 10:\n",
    "            body_dic[i] = dic.get(i)"
   ]
  },
  {
   "cell_type": "code",
   "execution_count": 23,
   "id": "7033dc1f",
   "metadata": {},
   "outputs": [
    {
     "name": "stdout",
     "output_type": "stream",
     "text": [
      "dict_keys(['SKULL', 'FINGER', 'DX:', 'RADIUS', 'ANKLE', 'DX', 'DISTAL', 'FX.', 'FIBULA', 'FELL', 'FOREARM', 'COMPRESSION', 'CLOSED', 'OF', 'ELBOW', 'R', 'BONE', 'WITH', 'TO', 'SHOULDER', 'FX,', 'HIP', 'CLAVICLE', 'RIB', 'FEMUR', 'AND', 'L', 'ARM', 'WRIST', 'YOM', 'TIBIA', 'HUMERUS', 'TOE', 'RT', 'FOOT', 'ULNA', 'FRACTURE.', '>>FX', 'DX.', 'LT', 'A', 'HAND', 'LOWER', 'RIGHT', 'FLOOR', 'LEFT', 'LEG', 'NASAL', 'THUMB'])\n"
     ]
    }
   ],
   "source": [
    "#Drop the keys that are not body parts\n",
    "print(body_dic.keys())\n",
    "del body_dic['DX:']\n",
    "del body_dic['DX']\n",
    "del body_dic['DISTAL']\n",
    "del body_dic['FX.']\n",
    "del body_dic['FELL']\n",
    "del body_dic['COMPRESSION']\n",
    "del body_dic['CLOSED']\n",
    "del body_dic['OF']\n",
    "del body_dic['R']\n",
    "del body_dic['WITH']\n",
    "del body_dic['TO']\n",
    "del body_dic['FX,']\n",
    "del body_dic['AND']\n",
    "del body_dic['L']\n",
    "del body_dic['YOM']\n",
    "del body_dic['RT']\n",
    "del body_dic['FRACTURE.']\n",
    "del body_dic['>>FX']\n",
    "del body_dic['DX.']\n",
    "del body_dic['LT']\n",
    "del body_dic['A']\n",
    "del body_dic['LOWER']\n",
    "del body_dic['RIGHT']\n",
    "del body_dic['FLOOR']\n",
    "del body_dic['LEFT']"
   ]
  },
  {
   "cell_type": "code",
   "execution_count": 24,
   "id": "a0e43073",
   "metadata": {},
   "outputs": [
    {
     "data": {
      "text/plain": [
       "Text(0.5, 0, 'Body Parts')"
      ]
     },
     "execution_count": 24,
     "metadata": {},
     "output_type": "execute_result"
    },
    {
     "data": {
      "image/png": "[encoded data removed]",
      "text/plain": [
       "<Figure size 432x288 with 1 Axes>"
      ]
     },
     "metadata": {
      "needs_background": "light"
     },
     "output_type": "display_data"
    }
   ],
   "source": [
    "sorted_body_dic = dict(sorted(body_dic.items(), key=lambda item: item[1]))\n",
    "plt.bar(sorted_body_dic.keys(), sorted_body_dic.values())\n",
    "plt.xticks(rotation='vertical')\n",
    "plt.ylabel('Counts')\n",
    "plt.xlabel('Body Parts')"
   ]
  },
  {
   "cell_type": "code",
   "execution_count": 25,
   "id": "7c0c2d55",
   "metadata": {},
   "outputs": [
    {
     "data": {
      "text/html": [
       "<div>\n",
       "<style scoped>\n",
       "    .dataframe tbody tr th:only-of-type {\n",
       "        vertical-align: middle;\n",
       "    }\n",
       "\n",
       "    .dataframe tbody tr th {\n",
       "        vertical-align: top;\n",
       "    }\n",
       "\n",
       "    .dataframe thead th {\n",
       "        text-align: right;\n",
       "    }\n",
       "</style>\n",
       "<table border=\"1\" class=\"dataframe\">\n",
       "  <thead>\n",
       "    <tr style=\"text-align: right;\">\n",
       "      <th></th>\n",
       "      <th>description</th>\n",
       "      <th>len</th>\n",
       "    </tr>\n",
       "  </thead>\n",
       "  <tbody>\n",
       "    <tr>\n",
       "      <th>258</th>\n",
       "      <td>38 YO F STRUCK LEG AGAINST MAILBOX FX TIBIA</td>\n",
       "      <td>43</td>\n",
       "    </tr>\n",
       "    <tr>\n",
       "      <th>504</th>\n",
       "      <td>PT SLIPPED OFF PORCH AND LANDED ON LT LEG DX: ...</td>\n",
       "      <td>54</td>\n",
       "    </tr>\n",
       "    <tr>\n",
       "      <th>511</th>\n",
       "      <td>19MOWF  PARENTS HOLDING PT.  DAD STATES SHE WA...</td>\n",
       "      <td>143</td>\n",
       "    </tr>\n",
       "    <tr>\n",
       "      <th>581</th>\n",
       "      <td>8 MONTH M FX HIS LOWER LEG WHEN HE FELL OUT OF...</td>\n",
       "      <td>51</td>\n",
       "    </tr>\n",
       "    <tr>\n",
       "      <th>589</th>\n",
       "      <td>12 YR M FELL WHEN ROLLERSKATING;DX FRACTURED L...</td>\n",
       "      <td>55</td>\n",
       "    </tr>\n",
       "    <tr>\n",
       "      <th>...</th>\n",
       "      <td>...</td>\n",
       "      <td>...</td>\n",
       "    </tr>\n",
       "    <tr>\n",
       "      <th>9338</th>\n",
       "      <td>19YOF FELL TWISTED LEG PLAYING SOCCER DX: LOWE...</td>\n",
       "      <td>61</td>\n",
       "    </tr>\n",
       "    <tr>\n",
       "      <th>9660</th>\n",
       "      <td>6 YO M FX UPPER LEG WHEN FLOORING MATERIAL FEL...</td>\n",
       "      <td>55</td>\n",
       "    </tr>\n",
       "    <tr>\n",
       "      <th>9805</th>\n",
       "      <td>3YOF LEG PAIN AFTER JUMPING ON A TRAMPOLINE WI...</td>\n",
       "      <td>90</td>\n",
       "    </tr>\n",
       "    <tr>\n",
       "      <th>9877</th>\n",
       "      <td>51YOM FRACTURED RADIUS ABRASION TO LEG FELL OF...</td>\n",
       "      <td>70</td>\n",
       "    </tr>\n",
       "    <tr>\n",
       "      <th>9922</th>\n",
       "      <td>46 YOM BICYCLIST STRUCK BY A CAR. DX LEG FX</td>\n",
       "      <td>44</td>\n",
       "    </tr>\n",
       "  </tbody>\n",
       "</table>\n",
       "<p>65 rows × 2 columns</p>\n",
       "</div>"
      ],
      "text/plain": [
       "                                            description  len\n",
       "258         38 YO F STRUCK LEG AGAINST MAILBOX FX TIBIA   43\n",
       "504   PT SLIPPED OFF PORCH AND LANDED ON LT LEG DX: ...   54\n",
       "511   19MOWF  PARENTS HOLDING PT.  DAD STATES SHE WA...  143\n",
       "581   8 MONTH M FX HIS LOWER LEG WHEN HE FELL OUT OF...   51\n",
       "589   12 YR M FELL WHEN ROLLERSKATING;DX FRACTURED L...   55\n",
       "...                                                 ...  ...\n",
       "9338  19YOF FELL TWISTED LEG PLAYING SOCCER DX: LOWE...   61\n",
       "9660  6 YO M FX UPPER LEG WHEN FLOORING MATERIAL FEL...   55\n",
       "9805  3YOF LEG PAIN AFTER JUMPING ON A TRAMPOLINE WI...   90\n",
       "9877  51YOM FRACTURED RADIUS ABRASION TO LEG FELL OF...   70\n",
       "9922       46 YOM BICYCLIST STRUCK BY A CAR. DX LEG FX    44\n",
       "\n",
       "[65 rows x 2 columns]"
      ]
     },
     "execution_count": 25,
     "metadata": {},
     "output_type": "execute_result"
    }
   ],
   "source": [
    "fracture_df[fracture_df['description'].str.contains('LEG')]"
   ]
  },
  {
   "cell_type": "markdown",
   "id": "604f400e",
   "metadata": {},
   "source": [
    "#### d) Age and Gender\n",
    "Let's try to extract age and gender. In a number of narratives you may have noticed a pattern:\n",
    "  * \"**75 YOM**, FELL DOWN STAIRS, FRACTURE LEG\": A 75 year old male.\n",
    "  * \"**21MOF** FINGER SHUT IN WINDOW AT HOME;NAILBED INJURY: A 21 month-old female child.\n",
    "  * \"DX:AVULSION OF SKIN-**50YOF**-CUT THUMB WITH SCISSORS TONIGHT-OPENING A BOX\": A 50 year old female.\n",
    "  * \"LEFT ELBOW CONTUSION,RT SHIN LAC.PT WAS ICE SKATING AND FELL.\": No information about age or gender.\n",
    "  \n",
    "You are generally looking for a pattern with a number (_age_), something to indicate the _units_, e.g. YO or YR for years old, or MO for months old, and a character that identifies the _gender_. So, I suggest to think of a pattern that combines these three parts.  \n",
    "Create variables for age and gender (make sure to convert months to years when necessary). How many men and women are in the data? Provide a graphical representation of the number of injuries (y-axis) vs age / age group (x-axis) disaggregated by gender."
   ]
  },
  {
   "cell_type": "code",
   "execution_count": 26,
   "id": "8bf531f5",
   "metadata": {},
   "outputs": [
    {
     "name": "stderr",
     "output_type": "stream",
     "text": [
      "/var/folders/y6/fc2l4qks2738lxj3679w4wkm0000gn/T/ipykernel_94184/3404412776.py:2: UserWarning: This pattern is interpreted as a regular expression, and has match groups. To actually get the groups, use str.extract.\n",
      "  df= em[em['description'].str.contains(r'(\\d+)\\W*(YEAR|MONTH|OLD|Y\\W*O|Y\\W*R|M\\W*O)')]\n",
      "/var/folders/y6/fc2l4qks2738lxj3679w4wkm0000gn/T/ipykernel_94184/3404412776.py:5: UserWarning: This pattern is interpreted as a regular expression, and has match groups. To actually get the groups, use str.extract.\n",
      "  male = df[df['description'].str.contains(r'(YEAR|MONTH|OLD|Y\\W*O|Y\\W*R|M\\W*O)\\W*(M)')]\n",
      "/var/folders/y6/fc2l4qks2738lxj3679w4wkm0000gn/T/ipykernel_94184/3404412776.py:8: UserWarning: This pattern is interpreted as a regular expression, and has match groups. To actually get the groups, use str.extract.\n",
      "  female = df[df['description'].str.contains(r'(YEAR|MONTH|OLD|Y\\W*O|Y\\W*R|M\\W*O)\\W*(F)')]\n"
     ]
    }
   ],
   "source": [
    "# df= em[em['description'].str.contains(r'(\\d+)\\W*(YEAR|MONTH|OLD|Y\\W*O|\\sY\\s|YR|MO)')]\n",
    "df= em[em['description'].str.contains(r'(\\d+)\\W*(YEAR|MONTH|OLD|Y\\W*O|Y\\W*R|M\\W*O)')]\n",
    "\n",
    "# male = df[df['description'].str.contains(r'(YEAR|MONTH|OLD|Y\\?O|\\sY\\s|YR|MO)\\s*(MALE|M)')]\n",
    "male = df[df['description'].str.contains(r'(YEAR|MONTH|OLD|Y\\W*O|Y\\W*R|M\\W*O)\\W*(M)')]\n",
    "\n",
    "# female = df[df['description'].str.contains(r'(YEAR|MONTH|OLD|Y\\?O|\\sY\\s|YR|MO)\\s*(FEMALE|F)')]\n",
    "female = df[df['description'].str.contains(r'(YEAR|MONTH|OLD|Y\\W*O|Y\\W*R|M\\W*O)\\W*(F)')]"
   ]
  },
  {
   "cell_type": "code",
   "execution_count": 27,
   "id": "0db96c00",
   "metadata": {},
   "outputs": [
    {
     "name": "stdout",
     "output_type": "stream",
     "text": [
      "8180\n",
      "4521\n",
      "3472\n"
     ]
    }
   ],
   "source": [
    "print(len(df))\n",
    "print(len(male))\n",
    "print(len(female))"
   ]
  },
  {
   "cell_type": "code",
   "execution_count": 28,
   "id": "cfcda2cd",
   "metadata": {},
   "outputs": [
    {
     "data": {
      "text/plain": [
       "4521"
      ]
     },
     "execution_count": 28,
     "metadata": {},
     "output_type": "execute_result"
    }
   ],
   "source": [
    "# mo_yr = male[male['description'].str.contains(r'(\\d){1,3}\\s*(MO)')]\n",
    "# mo_yr\n",
    "# for wd in male :\n",
    "#     print(wd)\n",
    "\n",
    "\n",
    "# Male\n",
    "mo_yr = []\n",
    "for wd in male['description']:\n",
    "#     if 'MOM' in wd:\n",
    "    sen = re.findall(r'(\\d+)\\W*(YEAR|MONTH|OLD|Y\\W*O|Y\\W*R|M\\W*O)',wd)\n",
    "    if sen[0][1] == 'MO' or sen[0][1] == 'MONTH':\n",
    "        mo_yr.append(round(int(sen[0][0])/12, 1))\n",
    "#         print(sen[0][1])\n",
    "    else:\n",
    "        mo_yr.append(int(sen[0][0]))\n",
    "len(mo_yr)"
   ]
  },
  {
   "cell_type": "code",
   "execution_count": 29,
   "id": "b5b7e3a9",
   "metadata": {},
   "outputs": [
    {
     "data": {
      "text/plain": [
       "3472"
      ]
     },
     "execution_count": 29,
     "metadata": {},
     "output_type": "execute_result"
    }
   ],
   "source": [
    "#Female:\n",
    "mo_yr1 = []\n",
    "for wd in female['description']:\n",
    "    sen = re.findall(r'(\\d+)\\W*(YEAR|MONTH|OLD|Y\\W*O|Y\\W*R|M\\W*O)',wd)\n",
    "    if sen[0][1] == 'MO' or sen[0][1] == 'MONTH':\n",
    "        mo_yr1.append(round(int(sen[0][0])/12, 1))\n",
    "    else:\n",
    "        mo_yr1.append(int(sen[0][0]))\n",
    "len(mo_yr1)"
   ]
  },
  {
   "cell_type": "code",
   "execution_count": 30,
   "id": "941db7d9",
   "metadata": {},
   "outputs": [],
   "source": [
    "# Male:\n",
    "mo_yr = pd.DataFrame(mo_yr)\n",
    "mo_yr['gender'] = 'male'\n",
    "mo_yr = mo_yr.rename(columns={0: \"age\"})\n",
    "\n",
    "# Female\n",
    "mo_yr1 = pd.DataFrame(mo_yr1)\n",
    "mo_yr1['gender'] = 'female'\n",
    "mo_yr1=mo_yr1.rename(columns={0: \"age\"})\n",
    "\n",
    "# all_people = pd.concat([mo_yr,mo_yr1])\n",
    "# all_people = all_people[['age', 'gender']]\n",
    "# all_people\n"
   ]
  },
  {
   "cell_type": "code",
   "execution_count": 31,
   "id": "8f7a1ada",
   "metadata": {},
   "outputs": [
    {
     "data": {
      "text/plain": [
       "<AxesSubplot:ylabel='Count'>"
      ]
     },
     "execution_count": 31,
     "metadata": {},
     "output_type": "execute_result"
    },
    {
     "data": {
      "image/png": "[encoded data removed]",
      "text/plain": [
       "<Figure size 432x288 with 1 Axes>"
      ]
     },
     "metadata": {
      "needs_background": "light"
     },
     "output_type": "display_data"
    }
   ],
   "source": [
    "# sns.histplot(data = all_people, x = 'age', hue = 'gender', multiple = 'dodge', shrink = 0.8)\n",
    "# sns.histplot(data = all_people,  hue = 'gender')\n",
    "\n",
    "\n",
    "# Male histogram:\n",
    "sns.histplot(mo_yr)"
   ]
  },
  {
   "cell_type": "code",
   "execution_count": 32,
   "id": "694cb2d0",
   "metadata": {},
   "outputs": [
    {
     "data": {
      "text/plain": [
       "<AxesSubplot:ylabel='Count'>"
      ]
     },
     "execution_count": 32,
     "metadata": {},
     "output_type": "execute_result"
    },
    {
     "data": {
      "image/png": "[encoded data removed]",
      "text/plain": [
       "<Figure size 432x288 with 1 Axes>"
      ]
     },
     "metadata": {
      "needs_background": "light"
     },
     "output_type": "display_data"
    }
   ],
   "source": [
    "# Female histogram:\n",
    "sns.histplot(mo_yr1)"
   ]
  },
  {
   "cell_type": "code",
   "execution_count": null,
   "id": "b10fd6f5",
   "metadata": {},
   "outputs": [],
   "source": []
  },
  {
   "cell_type": "markdown",
   "id": "f12f02ef",
   "metadata": {},
   "source": [
    "#### M2"
   ]
  },
  {
   "cell_type": "code",
   "execution_count": 33,
   "id": "1343f60e",
   "metadata": {},
   "outputs": [],
   "source": [
    "age_sex_list = [re.search(r'(\\d+)\\s*(YO|YR|MO)\\s*(M|F)', i).group() for i in df['description'] \\\n",
    "                if re.search(r'\\d+\\s*(YO|YR|MO)\\s*(M|F)', i) != None]\n",
    "age_list = [re.search(r'(\\d+)\\s*(YO|YR|MO)\\s*(M|F)', i).group(1) for i in df['description'] \\\n",
    "                if re.search(r'\\d+\\s*(YO|YR|MO)\\s*(M|F)', i) != None]\n",
    "ym_list = [re.search(r'(\\d+)\\s*(YO|YR|MO)\\s*(M|F)', i).group(2) for i in df['description'] \\\n",
    "                if re.search(r'\\d+\\s*(YO|YR|MO)\\s*(M|F)', i) != None]\n",
    "sex_list = [re.search(r'(\\d+)\\s*(YO|YR|MO)\\s*(M|F)', i).group(3) for i in df['description'] \\\n",
    "                if re.search(r'\\d+\\s*(YO|YR|MO)\\s*(M|F)', i) != None]"
   ]
  },
  {
   "cell_type": "code",
   "execution_count": 34,
   "id": "8e770adc",
   "metadata": {},
   "outputs": [],
   "source": [
    "#Generate female and male age list\n",
    "female_age_list = []\n",
    "male_age_list = []\n",
    "for i in range(len(ym_list)):\n",
    "    if sex_list[i] == 'F':\n",
    "        if ym_list[i] == 'MO':\n",
    "            female_age_list.append(int(age_list[i]) / 12)\n",
    "        else:\n",
    "            female_age_list.append(int(age_list[i]))\n",
    "    elif sex_list[i] == 'M':\n",
    "        if ym_list[i] == 'MO':\n",
    "            male_age_list.append(int(age_list[i]) / 12)\n",
    "        else:\n",
    "            male_age_list.append(int(age_list[i]))"
   ]
  },
  {
   "cell_type": "code",
   "execution_count": 35,
   "id": "c0648e07",
   "metadata": {},
   "outputs": [
    {
     "name": "stdout",
     "output_type": "stream",
     "text": [
      "There are 3198 female in the data.\n",
      "There are 4145 male in the data.\n"
     ]
    }
   ],
   "source": [
    "print('There are ' +str(len(female_age_list)) + ' female in the data.')\n",
    "print('There are ' +str(len(male_age_list)) + ' male in the data.')\n"
   ]
  },
  {
   "cell_type": "code",
   "execution_count": 36,
   "id": "5386830c",
   "metadata": {},
   "outputs": [
    {
     "data": {
      "text/plain": [
       "<AxesSubplot:xlabel='Sex'>"
      ]
     },
     "execution_count": 36,
     "metadata": {},
     "output_type": "execute_result"
    },
    {
     "data": {
      "image/png": "[encoded data removed]",
      "text/plain": [
       "<Figure size 432x288 with 1 Axes>"
      ]
     },
     "metadata": {
      "needs_background": "light"
     },
     "output_type": "display_data"
    }
   ],
   "source": [
    "#Graphical representation of the number of injuries (y-axis) vs age / age group (x-axis) disaggregated by gender.\n",
    "female_df = pd.DataFrame(female_age_list, columns = ['Age'])\n",
    "female_df['Sex'] = 'Female'\n",
    "f_age_group = []\n",
    "#Add female age chunk to dataframe\n",
    "for i in female_df['Age']:\n",
    "    if i <= 10:\n",
    "        f_age_group.append('0-10')\n",
    "    elif i <= 20:\n",
    "        f_age_group.append('10-20')\n",
    "    elif i <= 30:\n",
    "        f_age_group.append('20-30')\n",
    "    elif i <= 40:\n",
    "        f_age_group.append('30-40')\n",
    "    elif i <= 50:\n",
    "        f_age_group.append('40-50')\n",
    "    elif i <= 60:\n",
    "        f_age_group.append('50-60')\n",
    "    else:\n",
    "        f_age_group.append('Above 60')\n",
    "female_df['Age Group'] = f_age_group\n",
    "\n",
    "male_df = pd.DataFrame(male_age_list, columns = ['Age'])\n",
    "male_df['Sex'] = 'Male'\n",
    "m_age_group = []\n",
    "#Add male age chunk to dataframe\n",
    "for i in male_df['Age']:\n",
    "    if i <= 10:\n",
    "        m_age_group.append('0-10')\n",
    "    elif i <= 20:\n",
    "        m_age_group.append('10-20')\n",
    "    elif i <= 30:\n",
    "        m_age_group.append('20-30')\n",
    "    elif i <= 40:\n",
    "        m_age_group.append('30-40')\n",
    "    elif i <= 50:\n",
    "        m_age_group.append('40-50')\n",
    "    elif i <= 60:\n",
    "        m_age_group.append('50-60')\n",
    "    else:\n",
    "        m_age_group.append('Above 60')\n",
    "male_df['Age Group'] = m_age_group\n",
    "all_sex_df = pd.concat([female_df, male_df], ignore_index = True)\n",
    "CrosstabResult=pd.crosstab(index=all_sex_df['Sex'],columns=all_sex_df['Age Group'])\n",
    "CrosstabResult.plot.bar()"
   ]
  }
 ],
 "metadata": {
  "kernelspec": {
   "display_name": "Python 3 (ipykernel)",
   "language": "python",
   "name": "python3"
  },
  "language_info": {
   "codemirror_mode": {
    "name": "ipython",
    "version": 3
   },
   "file_extension": ".py",
   "mimetype": "text/x-python",
   "name": "python",
   "nbconvert_exporter": "python",
   "pygments_lexer": "ipython3",
   "version": "3.9.12"
  }
 },
 "nbformat": 4,
 "nbformat_minor": 5
}
